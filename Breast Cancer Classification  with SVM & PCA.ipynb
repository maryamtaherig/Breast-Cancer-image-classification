{
 "cells": [
  {
   "cell_type": "code",
   "execution_count": 14,
   "metadata": {},
   "outputs": [],
   "source": [
    "import re\n",
    "from pathlib import Path\n",
    "import numpy as np \n",
    "import pandas as pd\n",
    "import matplotlib.pyplot\n",
    "import pickle\n",
    "import plotly.graph_objects as go\n",
    "from plotly.subplots import make_subplots\n",
    "from tqdm.notebook import tqdm\n",
    "import os"
   ]
  },
  {
   "cell_type": "code",
   "execution_count": 22,
   "metadata": {},
   "outputs": [
    {
     "name": "stdout",
     "output_type": "stream",
     "text": [
      "[WindowsPath('D:/projects/breast cancer classification/Breast Cancer/10253'), WindowsPath('D:/projects/breast cancer classification/Breast Cancer/10254'), WindowsPath('D:/projects/breast cancer classification/Breast Cancer/10255'), WindowsPath('D:/projects/breast cancer classification/Breast Cancer/10256'), WindowsPath('D:/projects/breast cancer classification/Breast Cancer/10257'), WindowsPath('D:/projects/breast cancer classification/Breast Cancer/10258'), WindowsPath('D:/projects/breast cancer classification/Breast Cancer/10259'), WindowsPath('D:/projects/breast cancer classification/Breast Cancer/10260'), WindowsPath('D:/projects/breast cancer classification/Breast Cancer/10261'), WindowsPath('D:/projects/breast cancer classification/Breast Cancer/10262'), WindowsPath('D:/projects/breast cancer classification/Breast Cancer/10264'), WindowsPath('D:/projects/breast cancer classification/Breast Cancer/10268'), WindowsPath('D:/projects/breast cancer classification/Breast Cancer/10269'), WindowsPath('D:/projects/breast cancer classification/Breast Cancer/10272'), WindowsPath('D:/projects/breast cancer classification/Breast Cancer/10273'), WindowsPath('D:/projects/breast cancer classification/Breast Cancer/10274'), WindowsPath('D:/projects/breast cancer classification/Breast Cancer/10275'), WindowsPath('D:/projects/breast cancer classification/Breast Cancer/10276'), WindowsPath('D:/projects/breast cancer classification/Breast Cancer/10277'), WindowsPath('D:/projects/breast cancer classification/Breast Cancer/10278'), WindowsPath('D:/projects/breast cancer classification/Breast Cancer/10279'), WindowsPath('D:/projects/breast cancer classification/Breast Cancer/10282'), WindowsPath('D:/projects/breast cancer classification/Breast Cancer/10285'), WindowsPath('D:/projects/breast cancer classification/Breast Cancer/10286'), WindowsPath('D:/projects/breast cancer classification/Breast Cancer/10288'), WindowsPath('D:/projects/breast cancer classification/Breast Cancer/10290'), WindowsPath('D:/projects/breast cancer classification/Breast Cancer/10291'), WindowsPath('D:/projects/breast cancer classification/Breast Cancer/10292'), WindowsPath('D:/projects/breast cancer classification/Breast Cancer/10293'), WindowsPath('D:/projects/breast cancer classification/Breast Cancer/10295'), WindowsPath('D:/projects/breast cancer classification/Breast Cancer/10299'), WindowsPath('D:/projects/breast cancer classification/Breast Cancer/10300'), WindowsPath('D:/projects/breast cancer classification/Breast Cancer/10301'), WindowsPath('D:/projects/breast cancer classification/Breast Cancer/10302'), WindowsPath('D:/projects/breast cancer classification/Breast Cancer/10303'), WindowsPath('D:/projects/breast cancer classification/Breast Cancer/10304'), WindowsPath('D:/projects/breast cancer classification/Breast Cancer/10305'), WindowsPath('D:/projects/breast cancer classification/Breast Cancer/10306'), WindowsPath('D:/projects/breast cancer classification/Breast Cancer/10307'), WindowsPath('D:/projects/breast cancer classification/Breast Cancer/10308'), WindowsPath('D:/projects/breast cancer classification/Breast Cancer/12241'), WindowsPath('D:/projects/breast cancer classification/Breast Cancer/12242'), WindowsPath('D:/projects/breast cancer classification/Breast Cancer/12626'), WindowsPath('D:/projects/breast cancer classification/Breast Cancer/12748'), WindowsPath('D:/projects/breast cancer classification/Breast Cancer/12749'), WindowsPath('D:/projects/breast cancer classification/Breast Cancer/12750'), WindowsPath('D:/projects/breast cancer classification/Breast Cancer/12751'), WindowsPath('D:/projects/breast cancer classification/Breast Cancer/12752'), WindowsPath('D:/projects/breast cancer classification/Breast Cancer/12810'), WindowsPath('D:/projects/breast cancer classification/Breast Cancer/12811'), WindowsPath('D:/projects/breast cancer classification/Breast Cancer/12817'), WindowsPath('D:/projects/breast cancer classification/Breast Cancer/12818'), WindowsPath('D:/projects/breast cancer classification/Breast Cancer/12819'), WindowsPath('D:/projects/breast cancer classification/Breast Cancer/12820'), WindowsPath('D:/projects/breast cancer classification/Breast Cancer/12821'), WindowsPath('D:/projects/breast cancer classification/Breast Cancer/12822'), WindowsPath('D:/projects/breast cancer classification/Breast Cancer/12823'), WindowsPath('D:/projects/breast cancer classification/Breast Cancer/12824'), WindowsPath('D:/projects/breast cancer classification/Breast Cancer/12826'), WindowsPath('D:/projects/breast cancer classification/Breast Cancer/12867'), WindowsPath('D:/projects/breast cancer classification/Breast Cancer/12868'), WindowsPath('D:/projects/breast cancer classification/Breast Cancer/12869'), WindowsPath('D:/projects/breast cancer classification/Breast Cancer/12870'), WindowsPath('D:/projects/breast cancer classification/Breast Cancer/12871'), WindowsPath('D:/projects/breast cancer classification/Breast Cancer/12872'), WindowsPath('D:/projects/breast cancer classification/Breast Cancer/12873'), WindowsPath('D:/projects/breast cancer classification/Breast Cancer/12875'), WindowsPath('D:/projects/breast cancer classification/Breast Cancer/12876'), WindowsPath('D:/projects/breast cancer classification/Breast Cancer/12877'), WindowsPath('D:/projects/breast cancer classification/Breast Cancer/12878'), WindowsPath('D:/projects/breast cancer classification/Breast Cancer/12879'), WindowsPath('D:/projects/breast cancer classification/Breast Cancer/12880'), WindowsPath('D:/projects/breast cancer classification/Breast Cancer/12881'), WindowsPath('D:/projects/breast cancer classification/Breast Cancer/12882'), WindowsPath('D:/projects/breast cancer classification/Breast Cancer/12883'), WindowsPath('D:/projects/breast cancer classification/Breast Cancer/12884'), WindowsPath('D:/projects/breast cancer classification/Breast Cancer/12886'), WindowsPath('D:/projects/breast cancer classification/Breast Cancer/12890'), WindowsPath('D:/projects/breast cancer classification/Breast Cancer/12891'), WindowsPath('D:/projects/breast cancer classification/Breast Cancer/12892'), WindowsPath('D:/projects/breast cancer classification/Breast Cancer/12893'), WindowsPath('D:/projects/breast cancer classification/Breast Cancer/12894'), WindowsPath('D:/projects/breast cancer classification/Breast Cancer/12895'), WindowsPath('D:/projects/breast cancer classification/Breast Cancer/12896'), WindowsPath('D:/projects/breast cancer classification/Breast Cancer/12897'), WindowsPath('D:/projects/breast cancer classification/Breast Cancer/12898'), WindowsPath('D:/projects/breast cancer classification/Breast Cancer/12900'), WindowsPath('D:/projects/breast cancer classification/Breast Cancer/12901'), WindowsPath('D:/projects/breast cancer classification/Breast Cancer/12905'), WindowsPath('D:/projects/breast cancer classification/Breast Cancer/12906'), WindowsPath('D:/projects/breast cancer classification/Breast Cancer/12907'), WindowsPath('D:/projects/breast cancer classification/Breast Cancer/12908'), WindowsPath('D:/projects/breast cancer classification/Breast Cancer/12909'), WindowsPath('D:/projects/breast cancer classification/Breast Cancer/12910'), WindowsPath('D:/projects/breast cancer classification/Breast Cancer/12911'), WindowsPath('D:/projects/breast cancer classification/Breast Cancer/12929'), WindowsPath('D:/projects/breast cancer classification/Breast Cancer/12930'), WindowsPath('D:/projects/breast cancer classification/Breast Cancer/12931'), WindowsPath('D:/projects/breast cancer classification/Breast Cancer/12932'), WindowsPath('D:/projects/breast cancer classification/Breast Cancer/12933'), WindowsPath('D:/projects/breast cancer classification/Breast Cancer/12934'), WindowsPath('D:/projects/breast cancer classification/Breast Cancer/12935'), WindowsPath('D:/projects/breast cancer classification/Breast Cancer/12947'), WindowsPath('D:/projects/breast cancer classification/Breast Cancer/12948'), WindowsPath('D:/projects/breast cancer classification/Breast Cancer/12949'), WindowsPath('D:/projects/breast cancer classification/Breast Cancer/12951'), WindowsPath('D:/projects/breast cancer classification/Breast Cancer/12954'), WindowsPath('D:/projects/breast cancer classification/Breast Cancer/12955'), WindowsPath('D:/projects/breast cancer classification/Breast Cancer/13018'), WindowsPath('D:/projects/breast cancer classification/Breast Cancer/13019'), WindowsPath('D:/projects/breast cancer classification/Breast Cancer/13020'), WindowsPath('D:/projects/breast cancer classification/Breast Cancer/13021'), WindowsPath('D:/projects/breast cancer classification/Breast Cancer/13022'), WindowsPath('D:/projects/breast cancer classification/Breast Cancer/13023'), WindowsPath('D:/projects/breast cancer classification/Breast Cancer/13024'), WindowsPath('D:/projects/breast cancer classification/Breast Cancer/13025'), WindowsPath('D:/projects/breast cancer classification/Breast Cancer/13106'), WindowsPath('D:/projects/breast cancer classification/Breast Cancer/13400'), WindowsPath('D:/projects/breast cancer classification/Breast Cancer/13401'), WindowsPath('D:/projects/breast cancer classification/Breast Cancer/13402'), WindowsPath('D:/projects/breast cancer classification/Breast Cancer/13403'), WindowsPath('D:/projects/breast cancer classification/Breast Cancer/13404'), WindowsPath('D:/projects/breast cancer classification/Breast Cancer/13458'), WindowsPath('D:/projects/breast cancer classification/Breast Cancer/13459'), WindowsPath('D:/projects/breast cancer classification/Breast Cancer/13460'), WindowsPath('D:/projects/breast cancer classification/Breast Cancer/13461'), WindowsPath('D:/projects/breast cancer classification/Breast Cancer/13462'), WindowsPath('D:/projects/breast cancer classification/Breast Cancer/13591'), WindowsPath('D:/projects/breast cancer classification/Breast Cancer/13613'), WindowsPath('D:/projects/breast cancer classification/Breast Cancer/13616'), WindowsPath('D:/projects/breast cancer classification/Breast Cancer/13617'), WindowsPath('D:/projects/breast cancer classification/Breast Cancer/13666'), WindowsPath('D:/projects/breast cancer classification/Breast Cancer/13687'), WindowsPath('D:/projects/breast cancer classification/Breast Cancer/13688'), WindowsPath('D:/projects/breast cancer classification/Breast Cancer/13689'), WindowsPath('D:/projects/breast cancer classification/Breast Cancer/13691'), WindowsPath('D:/projects/breast cancer classification/Breast Cancer/13692'), WindowsPath('D:/projects/breast cancer classification/Breast Cancer/13693'), WindowsPath('D:/projects/breast cancer classification/Breast Cancer/13694'), WindowsPath('D:/projects/breast cancer classification/Breast Cancer/13916'), WindowsPath('D:/projects/breast cancer classification/Breast Cancer/14078'), WindowsPath('D:/projects/breast cancer classification/Breast Cancer/14079'), WindowsPath('D:/projects/breast cancer classification/Breast Cancer/14081'), WindowsPath('D:/projects/breast cancer classification/Breast Cancer/14082'), WindowsPath('D:/projects/breast cancer classification/Breast Cancer/14153'), WindowsPath('D:/projects/breast cancer classification/Breast Cancer/14154'), WindowsPath('D:/projects/breast cancer classification/Breast Cancer/14155'), WindowsPath('D:/projects/breast cancer classification/Breast Cancer/14156'), WindowsPath('D:/projects/breast cancer classification/Breast Cancer/14157'), WindowsPath('D:/projects/breast cancer classification/Breast Cancer/14188'), WindowsPath('D:/projects/breast cancer classification/Breast Cancer/14189'), WindowsPath('D:/projects/breast cancer classification/Breast Cancer/14190'), WindowsPath('D:/projects/breast cancer classification/Breast Cancer/14191'), WindowsPath('D:/projects/breast cancer classification/Breast Cancer/14192'), WindowsPath('D:/projects/breast cancer classification/Breast Cancer/14209'), WindowsPath('D:/projects/breast cancer classification/Breast Cancer/14210'), WindowsPath('D:/projects/breast cancer classification/Breast Cancer/14211'), WindowsPath('D:/projects/breast cancer classification/Breast Cancer/14212'), WindowsPath('D:/projects/breast cancer classification/Breast Cancer/14213'), WindowsPath('D:/projects/breast cancer classification/Breast Cancer/14304'), WindowsPath('D:/projects/breast cancer classification/Breast Cancer/14305'), WindowsPath('D:/projects/breast cancer classification/Breast Cancer/14306'), WindowsPath('D:/projects/breast cancer classification/Breast Cancer/14321'), WindowsPath('D:/projects/breast cancer classification/Breast Cancer/15471'), WindowsPath('D:/projects/breast cancer classification/Breast Cancer/15472'), WindowsPath('D:/projects/breast cancer classification/Breast Cancer/15473'), WindowsPath('D:/projects/breast cancer classification/Breast Cancer/15510'), WindowsPath('D:/projects/breast cancer classification/Breast Cancer/15512'), WindowsPath('D:/projects/breast cancer classification/Breast Cancer/15513'), WindowsPath('D:/projects/breast cancer classification/Breast Cancer/15514'), WindowsPath('D:/projects/breast cancer classification/Breast Cancer/15515'), WindowsPath('D:/projects/breast cancer classification/Breast Cancer/15516'), WindowsPath('D:/projects/breast cancer classification/Breast Cancer/15632'), WindowsPath('D:/projects/breast cancer classification/Breast Cancer/15633'), WindowsPath('D:/projects/breast cancer classification/Breast Cancer/15634'), WindowsPath('D:/projects/breast cancer classification/Breast Cancer/15839'), WindowsPath('D:/projects/breast cancer classification/Breast Cancer/15840'), WindowsPath('D:/projects/breast cancer classification/Breast Cancer/15902'), WindowsPath('D:/projects/breast cancer classification/Breast Cancer/15903'), WindowsPath('D:/projects/breast cancer classification/Breast Cancer/16014'), WindowsPath('D:/projects/breast cancer classification/Breast Cancer/16085'), WindowsPath('D:/projects/breast cancer classification/Breast Cancer/16165'), WindowsPath('D:/projects/breast cancer classification/Breast Cancer/16166'), WindowsPath('D:/projects/breast cancer classification/Breast Cancer/16167'), WindowsPath('D:/projects/breast cancer classification/Breast Cancer/16531'), WindowsPath('D:/projects/breast cancer classification/Breast Cancer/16532'), WindowsPath('D:/projects/breast cancer classification/Breast Cancer/16533'), WindowsPath('D:/projects/breast cancer classification/Breast Cancer/16534'), WindowsPath('D:/projects/breast cancer classification/Breast Cancer/16550'), WindowsPath('D:/projects/breast cancer classification/Breast Cancer/16551'), WindowsPath('D:/projects/breast cancer classification/Breast Cancer/16552'), WindowsPath('D:/projects/breast cancer classification/Breast Cancer/16553'), WindowsPath('D:/projects/breast cancer classification/Breast Cancer/16554'), WindowsPath('D:/projects/breast cancer classification/Breast Cancer/16555'), WindowsPath('D:/projects/breast cancer classification/Breast Cancer/16568'), WindowsPath('D:/projects/breast cancer classification/Breast Cancer/16569'), WindowsPath('D:/projects/breast cancer classification/Breast Cancer/16570'), WindowsPath('D:/projects/breast cancer classification/Breast Cancer/16895'), WindowsPath('D:/projects/breast cancer classification/Breast Cancer/16896'), WindowsPath('D:/projects/breast cancer classification/Breast Cancer/8863'), WindowsPath('D:/projects/breast cancer classification/Breast Cancer/8864'), WindowsPath('D:/projects/breast cancer classification/Breast Cancer/8865'), WindowsPath('D:/projects/breast cancer classification/Breast Cancer/8867'), WindowsPath('D:/projects/breast cancer classification/Breast Cancer/8913'), WindowsPath('D:/projects/breast cancer classification/Breast Cancer/8914'), WindowsPath('D:/projects/breast cancer classification/Breast Cancer/8916'), WindowsPath('D:/projects/breast cancer classification/Breast Cancer/8917'), WindowsPath('D:/projects/breast cancer classification/Breast Cancer/8918'), WindowsPath('D:/projects/breast cancer classification/Breast Cancer/8950'), WindowsPath('D:/projects/breast cancer classification/Breast Cancer/8951'), WindowsPath('D:/projects/breast cancer classification/Breast Cancer/8955'), WindowsPath('D:/projects/breast cancer classification/Breast Cancer/8956'), WindowsPath('D:/projects/breast cancer classification/Breast Cancer/8957'), WindowsPath('D:/projects/breast cancer classification/Breast Cancer/8959'), WindowsPath('D:/projects/breast cancer classification/Breast Cancer/8974'), WindowsPath('D:/projects/breast cancer classification/Breast Cancer/8975'), WindowsPath('D:/projects/breast cancer classification/Breast Cancer/8980'), WindowsPath('D:/projects/breast cancer classification/Breast Cancer/8984'), WindowsPath('D:/projects/breast cancer classification/Breast Cancer/9022'), WindowsPath('D:/projects/breast cancer classification/Breast Cancer/9023'), WindowsPath('D:/projects/breast cancer classification/Breast Cancer/9029'), WindowsPath('D:/projects/breast cancer classification/Breast Cancer/9035'), WindowsPath('D:/projects/breast cancer classification/Breast Cancer/9036'), WindowsPath('D:/projects/breast cancer classification/Breast Cancer/9037'), WindowsPath('D:/projects/breast cancer classification/Breast Cancer/9041'), WindowsPath('D:/projects/breast cancer classification/Breast Cancer/9043'), WindowsPath('D:/projects/breast cancer classification/Breast Cancer/9044'), WindowsPath('D:/projects/breast cancer classification/Breast Cancer/9073'), WindowsPath('D:/projects/breast cancer classification/Breast Cancer/9075'), WindowsPath('D:/projects/breast cancer classification/Breast Cancer/9076'), WindowsPath('D:/projects/breast cancer classification/Breast Cancer/9077'), WindowsPath('D:/projects/breast cancer classification/Breast Cancer/9078'), WindowsPath('D:/projects/breast cancer classification/Breast Cancer/9081'), WindowsPath('D:/projects/breast cancer classification/Breast Cancer/9083'), WindowsPath('D:/projects/breast cancer classification/Breast Cancer/9123'), WindowsPath('D:/projects/breast cancer classification/Breast Cancer/9124'), WindowsPath('D:/projects/breast cancer classification/Breast Cancer/9125'), WindowsPath('D:/projects/breast cancer classification/Breast Cancer/9126'), WindowsPath('D:/projects/breast cancer classification/Breast Cancer/9135'), WindowsPath('D:/projects/breast cancer classification/Breast Cancer/9173'), WindowsPath('D:/projects/breast cancer classification/Breast Cancer/9174'), WindowsPath('D:/projects/breast cancer classification/Breast Cancer/9175'), WindowsPath('D:/projects/breast cancer classification/Breast Cancer/9176'), WindowsPath('D:/projects/breast cancer classification/Breast Cancer/9177'), WindowsPath('D:/projects/breast cancer classification/Breast Cancer/9178'), WindowsPath('D:/projects/breast cancer classification/Breast Cancer/9181'), WindowsPath('D:/projects/breast cancer classification/Breast Cancer/9225'), WindowsPath('D:/projects/breast cancer classification/Breast Cancer/9226'), WindowsPath('D:/projects/breast cancer classification/Breast Cancer/9227'), WindowsPath('D:/projects/breast cancer classification/Breast Cancer/9228'), WindowsPath('D:/projects/breast cancer classification/Breast Cancer/9250'), WindowsPath('D:/projects/breast cancer classification/Breast Cancer/9254'), WindowsPath('D:/projects/breast cancer classification/Breast Cancer/9255'), WindowsPath('D:/projects/breast cancer classification/Breast Cancer/9256'), WindowsPath('D:/projects/breast cancer classification/Breast Cancer/9257'), WindowsPath('D:/projects/breast cancer classification/Breast Cancer/9258'), WindowsPath('D:/projects/breast cancer classification/Breast Cancer/9259'), WindowsPath('D:/projects/breast cancer classification/Breast Cancer/9260'), WindowsPath('D:/projects/breast cancer classification/Breast Cancer/9261'), WindowsPath('D:/projects/breast cancer classification/Breast Cancer/9262'), WindowsPath('D:/projects/breast cancer classification/Breast Cancer/9265'), WindowsPath('D:/projects/breast cancer classification/Breast Cancer/9266'), WindowsPath('D:/projects/breast cancer classification/Breast Cancer/9267'), WindowsPath('D:/projects/breast cancer classification/Breast Cancer/9290'), WindowsPath('D:/projects/breast cancer classification/Breast Cancer/9291'), WindowsPath('D:/projects/breast cancer classification/Breast Cancer/9319'), WindowsPath('D:/projects/breast cancer classification/Breast Cancer/9320'), WindowsPath('D:/projects/breast cancer classification/Breast Cancer/9321'), WindowsPath('D:/projects/breast cancer classification/Breast Cancer/9322'), WindowsPath('D:/projects/breast cancer classification/Breast Cancer/9323'), WindowsPath('D:/projects/breast cancer classification/Breast Cancer/9324'), WindowsPath('D:/projects/breast cancer classification/Breast Cancer/9325'), WindowsPath('D:/projects/breast cancer classification/Breast Cancer/9344'), WindowsPath('D:/projects/breast cancer classification/Breast Cancer/9345'), WindowsPath('D:/projects/breast cancer classification/Breast Cancer/9346'), WindowsPath('D:/projects/breast cancer classification/Breast Cancer/9347'), WindowsPath('D:/projects/breast cancer classification/Breast Cancer/9381'), WindowsPath('D:/projects/breast cancer classification/Breast Cancer/9382'), WindowsPath('D:/projects/breast cancer classification/Breast Cancer/9383'), WindowsPath('D:/projects/breast cancer classification/Breast Cancer/archive.zip'), WindowsPath('D:/projects/breast cancer classification/Breast Cancer/data.csv'), WindowsPath('D:/projects/breast cancer classification/Breast Cancer/IDC_regular_ps50_idx5')]\n"
     ]
    }
   ],
   "source": [
    "input_path = Path.cwd()/('./Breast Cancer') \n",
    "path_contents = [path for path in Path.iterdir(input_path)]\n",
    "print(path_contents)"
   ]
  },
  {
   "cell_type": "code",
   "execution_count": 23,
   "metadata": {},
   "outputs": [],
   "source": [
    "def get_files_folders(input_path,print_summary = True):\n",
    "    folders = []\n",
    "    files = []\n",
    "    for item in Path.iterdir(path):\n",
    "        if item.is_dir():\n",
    "            folders.append(item)\n",
    "        else:\n",
    "            files.append(item)\n",
    "    if print_summary:\n",
    "        print(f'There are {len(folders)} folders and {len(files)} files in folder {path.name}') \n",
    "    \n",
    "    return {'folders': folders, 'files': files, 'path': path} "
   ]
  },
  {
   "cell_type": "code",
   "execution_count": 24,
   "metadata": {},
   "outputs": [
    {
     "name": "stdout",
     "output_type": "stream",
     "text": [
      "There are 280 folders and 2 files in folder Breast Cancer\n",
      "D:\\projects\\breast cancer classification\\Breast Cancer\\10253\\0 \n",
      "\n",
      "D:\\projects\\breast cancer classification\\Breast Cancer\\10253\\1 \n",
      "\n",
      "There are 280 folders and 2 files in folder Breast Cancer\n"
     ]
    }
   ],
   "source": [
    "sorted_paths = get_files_folders(input_path)\n",
    "\n",
    "patient_1 = sorted_paths['folders'][0]\n",
    "\n",
    "for p in Path.iterdir(patient_1):\n",
    "    print(p,'\\n')\n",
    "# In order to obtain the number of files and folders\n",
    "get_files_folders(patient_1);\n"
   ]
  },
  {
   "cell_type": "code",
   "execution_count": 27,
   "metadata": {},
   "outputs": [],
   "source": [
    "def verify_path_contents(input_path,n_folders,n_files,print_summary = True):\n",
    "    '''\n",
    "    loops through all the directories in a path and checks the number of folders and files in each directory\n",
    "    returns a dictionary containing a list of the matched paths and a list of the unmatched paths\n",
    "    '''\n",
    "    \n",
    "    matched_paths = []\n",
    "    unmatched_paths = []\n",
    "    \n",
    "    for path in Path.iterdir(input_path):\n",
    "        if path.is_dir():\n",
    "            folders = [sub_path for sub_path in Path.iterdir(path) if sub_path.is_dir()]\n",
    "            files = [sub_path for sub_path in Path.iterdir(path) if sub_path.is_file()]\n",
    "\n",
    "            if len(folders) != n_folders or len(files) != n_files:\n",
    "                unmatched_paths.append(path)\n",
    "            else:\n",
    "                matched_paths.append(path)\n",
    "        \n",
    "    if print_summary:\n",
    "        print(f'We have a total of {len(matched_paths)} matched paths, and a total of {len(unmatched_paths)} unmatched paths in {input_path.name}')\n",
    "        \n",
    "    return {'matched_paths':matched_paths,'unmatched_paths':unmatched_paths}"
   ]
  },
  {
   "cell_type": "code",
   "execution_count": 28,
   "metadata": {},
   "outputs": [
    {
     "name": "stdout",
     "output_type": "stream",
     "text": [
      "We have a total of 279 matched paths, and a total of 1 unmatched paths in Breast Cancer\n"
     ]
    }
   ],
   "source": [
    "path_contents = verify_path_contents(input_path = input_path, n_folders = 2, n_files = 0)\n"
   ]
  },
  {
   "cell_type": "code",
   "execution_count": 45,
   "metadata": {},
   "outputs": [
    {
     "name": "stdout",
     "output_type": "stream",
     "text": [
      "There are 280 folders and 2 files in folder Breast Cancer\n"
     ]
    }
   ],
   "source": [
    "patient_1_paths = get_files_folders(patient_1)\n"
   ]
  },
  {
   "cell_type": "code",
   "execution_count": 46,
   "metadata": {},
   "outputs": [
    {
     "name": "stdout",
     "output_type": "stream",
     "text": [
      "There are 280 folders and 2 files in folder Breast Cancer\n",
      "There are 280 folders and 2 files in folder Breast Cancer\n",
      "There are 280 folders and 2 files in folder Breast Cancer\n",
      "There are 280 folders and 2 files in folder Breast Cancer\n",
      "There are 280 folders and 2 files in folder Breast Cancer\n",
      "There are 280 folders and 2 files in folder Breast Cancer\n",
      "There are 280 folders and 2 files in folder Breast Cancer\n",
      "There are 280 folders and 2 files in folder Breast Cancer\n",
      "There are 280 folders and 2 files in folder Breast Cancer\n",
      "There are 280 folders and 2 files in folder Breast Cancer\n",
      "There are 280 folders and 2 files in folder Breast Cancer\n",
      "There are 280 folders and 2 files in folder Breast Cancer\n",
      "There are 280 folders and 2 files in folder Breast Cancer\n",
      "There are 280 folders and 2 files in folder Breast Cancer\n",
      "There are 280 folders and 2 files in folder Breast Cancer\n",
      "There are 280 folders and 2 files in folder Breast Cancer\n",
      "There are 280 folders and 2 files in folder Breast Cancer\n",
      "There are 280 folders and 2 files in folder Breast Cancer\n",
      "There are 280 folders and 2 files in folder Breast Cancer\n",
      "There are 280 folders and 2 files in folder Breast Cancer\n",
      "There are 280 folders and 2 files in folder Breast Cancer\n",
      "There are 280 folders and 2 files in folder Breast Cancer\n",
      "There are 280 folders and 2 files in folder Breast Cancer\n",
      "There are 280 folders and 2 files in folder Breast Cancer\n",
      "There are 280 folders and 2 files in folder Breast Cancer\n",
      "There are 280 folders and 2 files in folder Breast Cancer\n",
      "There are 280 folders and 2 files in folder Breast Cancer\n",
      "There are 280 folders and 2 files in folder Breast Cancer\n",
      "There are 280 folders and 2 files in folder Breast Cancer\n",
      "There are 280 folders and 2 files in folder Breast Cancer\n",
      "There are 280 folders and 2 files in folder Breast Cancer\n",
      "There are 280 folders and 2 files in folder Breast Cancer\n",
      "There are 280 folders and 2 files in folder Breast Cancer\n",
      "There are 280 folders and 2 files in folder Breast Cancer\n",
      "There are 280 folders and 2 files in folder Breast Cancer\n",
      "There are 280 folders and 2 files in folder Breast Cancer\n",
      "There are 280 folders and 2 files in folder Breast Cancer\n",
      "There are 280 folders and 2 files in folder Breast Cancer\n",
      "There are 280 folders and 2 files in folder Breast Cancer\n",
      "There are 280 folders and 2 files in folder Breast Cancer\n",
      "There are 280 folders and 2 files in folder Breast Cancer\n",
      "There are 280 folders and 2 files in folder Breast Cancer\n",
      "There are 280 folders and 2 files in folder Breast Cancer\n",
      "There are 280 folders and 2 files in folder Breast Cancer\n",
      "There are 280 folders and 2 files in folder Breast Cancer\n",
      "There are 280 folders and 2 files in folder Breast Cancer\n",
      "There are 280 folders and 2 files in folder Breast Cancer\n",
      "There are 280 folders and 2 files in folder Breast Cancer\n",
      "There are 280 folders and 2 files in folder Breast Cancer\n",
      "There are 280 folders and 2 files in folder Breast Cancer\n",
      "There are 280 folders and 2 files in folder Breast Cancer\n",
      "There are 280 folders and 2 files in folder Breast Cancer\n",
      "There are 280 folders and 2 files in folder Breast Cancer\n",
      "There are 280 folders and 2 files in folder Breast Cancer\n",
      "There are 280 folders and 2 files in folder Breast Cancer\n",
      "There are 280 folders and 2 files in folder Breast Cancer\n",
      "There are 280 folders and 2 files in folder Breast Cancer\n",
      "There are 280 folders and 2 files in folder Breast Cancer\n",
      "There are 280 folders and 2 files in folder Breast Cancer\n",
      "There are 280 folders and 2 files in folder Breast Cancer\n",
      "There are 280 folders and 2 files in folder Breast Cancer\n",
      "There are 280 folders and 2 files in folder Breast Cancer\n",
      "There are 280 folders and 2 files in folder Breast Cancer\n",
      "There are 280 folders and 2 files in folder Breast Cancer\n",
      "There are 280 folders and 2 files in folder Breast Cancer\n",
      "There are 280 folders and 2 files in folder Breast Cancer\n",
      "There are 280 folders and 2 files in folder Breast Cancer\n",
      "There are 280 folders and 2 files in folder Breast Cancer\n",
      "There are 280 folders and 2 files in folder Breast Cancer\n",
      "There are 280 folders and 2 files in folder Breast Cancer\n",
      "There are 280 folders and 2 files in folder Breast Cancer\n",
      "There are 280 folders and 2 files in folder Breast Cancer\n",
      "There are 280 folders and 2 files in folder Breast Cancer\n",
      "There are 280 folders and 2 files in folder Breast Cancer\n",
      "There are 280 folders and 2 files in folder Breast Cancer\n",
      "There are 280 folders and 2 files in folder Breast Cancer\n",
      "There are 280 folders and 2 files in folder Breast Cancer\n",
      "There are 280 folders and 2 files in folder Breast Cancer\n",
      "There are 280 folders and 2 files in folder Breast Cancer\n",
      "There are 280 folders and 2 files in folder Breast Cancer\n",
      "There are 280 folders and 2 files in folder Breast Cancer\n",
      "There are 280 folders and 2 files in folder Breast Cancer\n",
      "There are 280 folders and 2 files in folder Breast Cancer\n",
      "There are 280 folders and 2 files in folder Breast Cancer\n",
      "There are 280 folders and 2 files in folder Breast Cancer\n",
      "There are 280 folders and 2 files in folder Breast Cancer\n",
      "There are 280 folders and 2 files in folder Breast Cancer\n",
      "There are 280 folders and 2 files in folder Breast Cancer\n",
      "There are 280 folders and 2 files in folder Breast Cancer\n",
      "There are 280 folders and 2 files in folder Breast Cancer\n",
      "There are 280 folders and 2 files in folder Breast Cancer\n",
      "There are 280 folders and 2 files in folder Breast Cancer\n",
      "There are 280 folders and 2 files in folder Breast Cancer\n",
      "There are 280 folders and 2 files in folder Breast Cancer\n",
      "There are 280 folders and 2 files in folder Breast Cancer\n",
      "There are 280 folders and 2 files in folder Breast Cancer\n",
      "There are 280 folders and 2 files in folder Breast Cancer\n",
      "There are 280 folders and 2 files in folder Breast Cancer\n",
      "There are 280 folders and 2 files in folder Breast Cancer\n",
      "There are 280 folders and 2 files in folder Breast Cancer\n",
      "There are 280 folders and 2 files in folder Breast Cancer\n",
      "There are 280 folders and 2 files in folder Breast Cancer\n",
      "There are 280 folders and 2 files in folder Breast Cancer\n",
      "There are 280 folders and 2 files in folder Breast Cancer\n",
      "There are 280 folders and 2 files in folder Breast Cancer\n",
      "There are 280 folders and 2 files in folder Breast Cancer\n",
      "There are 280 folders and 2 files in folder Breast Cancer\n",
      "There are 280 folders and 2 files in folder Breast Cancer\n",
      "There are 280 folders and 2 files in folder Breast Cancer\n",
      "There are 280 folders and 2 files in folder Breast Cancer\n",
      "There are 280 folders and 2 files in folder Breast Cancer\n",
      "There are 280 folders and 2 files in folder Breast Cancer\n",
      "There are 280 folders and 2 files in folder Breast Cancer\n",
      "There are 280 folders and 2 files in folder Breast Cancer\n",
      "There are 280 folders and 2 files in folder Breast Cancer\n",
      "There are 280 folders and 2 files in folder Breast Cancer\n",
      "There are 280 folders and 2 files in folder Breast Cancer\n",
      "There are 280 folders and 2 files in folder Breast Cancer\n",
      "There are 280 folders and 2 files in folder Breast Cancer\n",
      "There are 280 folders and 2 files in folder Breast Cancer\n",
      "There are 280 folders and 2 files in folder Breast Cancer\n",
      "There are 280 folders and 2 files in folder Breast Cancer\n",
      "There are 280 folders and 2 files in folder Breast Cancer\n",
      "There are 280 folders and 2 files in folder Breast Cancer\n",
      "There are 280 folders and 2 files in folder Breast Cancer\n",
      "There are 280 folders and 2 files in folder Breast Cancer\n",
      "There are 280 folders and 2 files in folder Breast Cancer\n",
      "There are 280 folders and 2 files in folder Breast Cancer\n",
      "There are 280 folders and 2 files in folder Breast Cancer\n",
      "There are 280 folders and 2 files in folder Breast Cancer\n",
      "There are 280 folders and 2 files in folder Breast Cancer\n",
      "There are 280 folders and 2 files in folder Breast Cancer\n",
      "There are 280 folders and 2 files in folder Breast Cancer\n",
      "There are 280 folders and 2 files in folder Breast Cancer\n",
      "There are 280 folders and 2 files in folder Breast Cancer\n",
      "There are 280 folders and 2 files in folder Breast Cancer\n",
      "There are 280 folders and 2 files in folder Breast Cancer\n",
      "There are 280 folders and 2 files in folder Breast Cancer\n",
      "There are 280 folders and 2 files in folder Breast Cancer\n",
      "There are 280 folders and 2 files in folder Breast Cancer\n",
      "There are 280 folders and 2 files in folder Breast Cancer\n",
      "There are 280 folders and 2 files in folder Breast Cancer\n",
      "There are 280 folders and 2 files in folder Breast Cancer\n",
      "There are 280 folders and 2 files in folder Breast Cancer\n",
      "There are 280 folders and 2 files in folder Breast Cancer\n",
      "There are 280 folders and 2 files in folder Breast Cancer\n",
      "There are 280 folders and 2 files in folder Breast Cancer\n",
      "There are 280 folders and 2 files in folder Breast Cancer\n"
     ]
    },
    {
     "name": "stdout",
     "output_type": "stream",
     "text": [
      "There are 280 folders and 2 files in folder Breast Cancer\n",
      "There are 280 folders and 2 files in folder Breast Cancer\n",
      "There are 280 folders and 2 files in folder Breast Cancer\n",
      "There are 280 folders and 2 files in folder Breast Cancer\n",
      "There are 280 folders and 2 files in folder Breast Cancer\n",
      "There are 280 folders and 2 files in folder Breast Cancer\n",
      "There are 280 folders and 2 files in folder Breast Cancer\n",
      "There are 280 folders and 2 files in folder Breast Cancer\n",
      "There are 280 folders and 2 files in folder Breast Cancer\n",
      "There are 280 folders and 2 files in folder Breast Cancer\n",
      "There are 280 folders and 2 files in folder Breast Cancer\n",
      "There are 280 folders and 2 files in folder Breast Cancer\n",
      "There are 280 folders and 2 files in folder Breast Cancer\n",
      "There are 280 folders and 2 files in folder Breast Cancer\n",
      "There are 280 folders and 2 files in folder Breast Cancer\n",
      "There are 280 folders and 2 files in folder Breast Cancer\n",
      "There are 280 folders and 2 files in folder Breast Cancer\n",
      "There are 280 folders and 2 files in folder Breast Cancer\n",
      "There are 280 folders and 2 files in folder Breast Cancer\n",
      "There are 280 folders and 2 files in folder Breast Cancer\n",
      "There are 280 folders and 2 files in folder Breast Cancer\n",
      "There are 280 folders and 2 files in folder Breast Cancer\n",
      "There are 280 folders and 2 files in folder Breast Cancer\n",
      "There are 280 folders and 2 files in folder Breast Cancer\n",
      "There are 280 folders and 2 files in folder Breast Cancer\n",
      "There are 280 folders and 2 files in folder Breast Cancer\n",
      "There are 280 folders and 2 files in folder Breast Cancer\n",
      "There are 280 folders and 2 files in folder Breast Cancer\n",
      "There are 280 folders and 2 files in folder Breast Cancer\n",
      "There are 280 folders and 2 files in folder Breast Cancer\n",
      "There are 280 folders and 2 files in folder Breast Cancer\n",
      "There are 280 folders and 2 files in folder Breast Cancer\n",
      "There are 280 folders and 2 files in folder Breast Cancer\n",
      "There are 280 folders and 2 files in folder Breast Cancer\n",
      "There are 280 folders and 2 files in folder Breast Cancer\n",
      "There are 280 folders and 2 files in folder Breast Cancer\n",
      "There are 280 folders and 2 files in folder Breast Cancer\n",
      "There are 280 folders and 2 files in folder Breast Cancer\n",
      "There are 280 folders and 2 files in folder Breast Cancer\n",
      "There are 280 folders and 2 files in folder Breast Cancer\n",
      "There are 280 folders and 2 files in folder Breast Cancer\n",
      "There are 280 folders and 2 files in folder Breast Cancer\n",
      "There are 280 folders and 2 files in folder Breast Cancer\n",
      "There are 280 folders and 2 files in folder Breast Cancer\n",
      "There are 280 folders and 2 files in folder Breast Cancer\n",
      "There are 280 folders and 2 files in folder Breast Cancer\n",
      "There are 280 folders and 2 files in folder Breast Cancer\n",
      "There are 280 folders and 2 files in folder Breast Cancer\n",
      "There are 280 folders and 2 files in folder Breast Cancer\n",
      "There are 280 folders and 2 files in folder Breast Cancer\n",
      "There are 280 folders and 2 files in folder Breast Cancer\n",
      "There are 280 folders and 2 files in folder Breast Cancer\n",
      "There are 280 folders and 2 files in folder Breast Cancer\n",
      "There are 280 folders and 2 files in folder Breast Cancer\n",
      "There are 280 folders and 2 files in folder Breast Cancer\n",
      "There are 280 folders and 2 files in folder Breast Cancer\n",
      "There are 280 folders and 2 files in folder Breast Cancer\n",
      "There are 280 folders and 2 files in folder Breast Cancer\n",
      "There are 280 folders and 2 files in folder Breast Cancer\n",
      "There are 280 folders and 2 files in folder Breast Cancer\n",
      "There are 280 folders and 2 files in folder Breast Cancer\n",
      "There are 280 folders and 2 files in folder Breast Cancer\n",
      "There are 280 folders and 2 files in folder Breast Cancer\n",
      "There are 280 folders and 2 files in folder Breast Cancer\n",
      "There are 280 folders and 2 files in folder Breast Cancer\n",
      "There are 280 folders and 2 files in folder Breast Cancer\n",
      "There are 280 folders and 2 files in folder Breast Cancer\n",
      "There are 280 folders and 2 files in folder Breast Cancer\n",
      "There are 280 folders and 2 files in folder Breast Cancer\n",
      "There are 280 folders and 2 files in folder Breast Cancer\n",
      "There are 280 folders and 2 files in folder Breast Cancer\n",
      "There are 280 folders and 2 files in folder Breast Cancer\n",
      "There are 280 folders and 2 files in folder Breast Cancer\n",
      "There are 280 folders and 2 files in folder Breast Cancer\n",
      "There are 280 folders and 2 files in folder Breast Cancer\n",
      "There are 280 folders and 2 files in folder Breast Cancer\n",
      "There are 280 folders and 2 files in folder Breast Cancer\n",
      "There are 280 folders and 2 files in folder Breast Cancer\n",
      "There are 280 folders and 2 files in folder Breast Cancer\n",
      "There are 280 folders and 2 files in folder Breast Cancer\n",
      "There are 280 folders and 2 files in folder Breast Cancer\n",
      "There are 280 folders and 2 files in folder Breast Cancer\n",
      "There are 280 folders and 2 files in folder Breast Cancer\n",
      "There are 280 folders and 2 files in folder Breast Cancer\n",
      "There are 280 folders and 2 files in folder Breast Cancer\n",
      "There are 280 folders and 2 files in folder Breast Cancer\n",
      "There are 280 folders and 2 files in folder Breast Cancer\n",
      "There are 280 folders and 2 files in folder Breast Cancer\n",
      "There are 280 folders and 2 files in folder Breast Cancer\n",
      "There are 280 folders and 2 files in folder Breast Cancer\n",
      "There are 280 folders and 2 files in folder Breast Cancer\n",
      "There are 280 folders and 2 files in folder Breast Cancer\n",
      "There are 280 folders and 2 files in folder Breast Cancer\n",
      "There are 280 folders and 2 files in folder Breast Cancer\n",
      "There are 280 folders and 2 files in folder Breast Cancer\n",
      "There are 280 folders and 2 files in folder Breast Cancer\n",
      "There are 280 folders and 2 files in folder Breast Cancer\n",
      "There are 280 folders and 2 files in folder Breast Cancer\n",
      "There are 280 folders and 2 files in folder Breast Cancer\n",
      "There are 280 folders and 2 files in folder Breast Cancer\n",
      "There are 280 folders and 2 files in folder Breast Cancer\n",
      "There are 280 folders and 2 files in folder Breast Cancer\n",
      "There are 280 folders and 2 files in folder Breast Cancer\n",
      "There are 280 folders and 2 files in folder Breast Cancer\n",
      "There are 280 folders and 2 files in folder Breast Cancer\n",
      "There are 280 folders and 2 files in folder Breast Cancer\n",
      "There are 280 folders and 2 files in folder Breast Cancer\n",
      "There are 280 folders and 2 files in folder Breast Cancer\n",
      "There are 280 folders and 2 files in folder Breast Cancer\n",
      "There are 280 folders and 2 files in folder Breast Cancer\n",
      "There are 280 folders and 2 files in folder Breast Cancer\n",
      "There are 280 folders and 2 files in folder Breast Cancer\n",
      "There are 280 folders and 2 files in folder Breast Cancer\n",
      "There are 280 folders and 2 files in folder Breast Cancer\n",
      "There are 280 folders and 2 files in folder Breast Cancer\n",
      "There are 280 folders and 2 files in folder Breast Cancer\n",
      "There are 280 folders and 2 files in folder Breast Cancer\n",
      "There are 280 folders and 2 files in folder Breast Cancer\n",
      "There are 280 folders and 2 files in folder Breast Cancer\n",
      "There are 280 folders and 2 files in folder Breast Cancer\n",
      "There are 280 folders and 2 files in folder Breast Cancer\n",
      "There are 280 folders and 2 files in folder Breast Cancer\n",
      "There are 280 folders and 2 files in folder Breast Cancer\n",
      "There are 280 folders and 2 files in folder Breast Cancer\n",
      "There are 280 folders and 2 files in folder Breast Cancer\n",
      "There are 280 folders and 2 files in folder Breast Cancer\n",
      "There are 280 folders and 2 files in folder Breast Cancer\n",
      "There are 280 folders and 2 files in folder Breast Cancer\n",
      "There are 280 folders and 2 files in folder Breast Cancer\n",
      "There are 280 folders and 2 files in folder Breast Cancer\n",
      "There are 280 folders and 2 files in folder Breast Cancer\n",
      "There are 280 folders and 2 files in folder Breast Cancer\n"
     ]
    }
   ],
   "source": [
    "p = {}\n",
    "# store the paths of each folder, by using it's name, in the dictionary above \n",
    "for folder in patient_1_paths['folders']:\n",
    "    p[folder.name] = get_files_folders(folder)"
   ]
  },
  {
   "cell_type": "code",
   "execution_count": 47,
   "metadata": {},
   "outputs": [
    {
     "ename": "KeyError",
     "evalue": "'0'",
     "output_type": "error",
     "traceback": [
      "\u001b[1;31m---------------------------------------------------------------------------\u001b[0m",
      "\u001b[1;31mKeyError\u001b[0m                                  Traceback (most recent call last)",
      "\u001b[1;32m<ipython-input-47-305493601886>\u001b[0m in \u001b[0;36m<module>\u001b[1;34m\u001b[0m\n\u001b[0;32m      1\u001b[0m \u001b[1;31m# displaying the first 5 paths in each directory\u001b[0m\u001b[1;33m\u001b[0m\u001b[1;33m\u001b[0m\u001b[1;33m\u001b[0m\u001b[0m\n\u001b[1;32m----> 2\u001b[1;33m \u001b[0mdisplay\u001b[0m\u001b[1;33m(\u001b[0m\u001b[0mp\u001b[0m\u001b[1;33m[\u001b[0m\u001b[1;34m'0'\u001b[0m\u001b[1;33m]\u001b[0m\u001b[1;33m[\u001b[0m\u001b[1;34m'files'\u001b[0m\u001b[1;33m]\u001b[0m\u001b[1;33m[\u001b[0m\u001b[1;36m0\u001b[0m\u001b[1;33m:\u001b[0m\u001b[1;36m5\u001b[0m\u001b[1;33m]\u001b[0m\u001b[1;33m)\u001b[0m\u001b[1;33m\u001b[0m\u001b[1;33m\u001b[0m\u001b[0m\n\u001b[0m\u001b[0;32m      3\u001b[0m \u001b[0mdisplay\u001b[0m\u001b[1;33m(\u001b[0m\u001b[0mp\u001b[0m\u001b[1;33m[\u001b[0m\u001b[1;34m'1'\u001b[0m\u001b[1;33m]\u001b[0m\u001b[1;33m[\u001b[0m\u001b[1;34m'files'\u001b[0m\u001b[1;33m]\u001b[0m\u001b[1;33m[\u001b[0m\u001b[1;36m0\u001b[0m\u001b[1;33m:\u001b[0m\u001b[1;36m5\u001b[0m\u001b[1;33m]\u001b[0m\u001b[1;33m)\u001b[0m\u001b[1;33m\u001b[0m\u001b[1;33m\u001b[0m\u001b[0m\n",
      "\u001b[1;31mKeyError\u001b[0m: '0'"
     ]
    }
   ],
   "source": [
    "# displaying the first 5 paths in each directory\n",
    "display(p['0']['files'][0:5])\n",
    "display(p['1']['files'][0:5])"
   ]
  },
  {
   "cell_type": "markdown",
   "metadata": {},
   "source": [
    "###  Storing the image_path, patient_id, target and x & y coordinates\n",
    "#### We have about 278,000 images. To feed the algorithm with image patches we will store the path of each image and create a dataframe containing all the paths. This way we can load batches of images one by one without storing the individual pixel values of all images.\n",
    "\n",
    "#### Now that we know our basic file structure which seems to be as follows:\n",
    "\n",
    "breast-histopathology-images:\n",
    "-->patient_id:\n",
    "-->-->cancer_class:\n",
    "-->-->-->image_files"
   ]
  },
  {
   "cell_type": "markdown",
   "metadata": {},
   "source": [
    "### we need this infos :\n",
    "patient_id , \n",
    "x_coordinate , \n",
    "y_coordinate , \n",
    "target , \n",
    "path_to_image "
   ]
  },
  {
   "cell_type": "code",
   "execution_count": 36,
   "metadata": {},
   "outputs": [],
   "source": [
    "def extract_all_image_paths(input_path = Path.cwd()/'../input/breast-histopathology-images'):\n",
    "    image_paths = [image_path for image_path in Path.glob(input_path,pattern = '*/*/*.png')]\n",
    "    return image_paths"
   ]
  },
  {
   "cell_type": "code",
   "execution_count": 54,
   "metadata": {},
   "outputs": [],
   "source": [
    "image_paths = extract_all_image_paths()"
   ]
  },
  {
   "cell_type": "code",
   "execution_count": 55,
   "metadata": {},
   "outputs": [
    {
     "data": {
      "text/plain": [
       "[]"
      ]
     },
     "execution_count": 55,
     "metadata": {},
     "output_type": "execute_result"
    }
   ],
   "source": [
    "image_paths[0:5]"
   ]
  },
  {
   "cell_type": "code",
   "execution_count": 56,
   "metadata": {},
   "outputs": [
    {
     "name": "stdout",
     "output_type": "stream",
     "text": [
      "We have a total of 0 images.\n"
     ]
    }
   ],
   "source": [
    "print(f'We have a total of {len(image_paths)} images.')\n"
   ]
  },
  {
   "cell_type": "code",
   "execution_count": 57,
   "metadata": {},
   "outputs": [
    {
     "data": {
      "text/plain": [
       "[]"
      ]
     },
     "metadata": {},
     "output_type": "display_data"
    },
    {
     "data": {
      "text/plain": [
       "[]"
      ]
     },
     "metadata": {},
     "output_type": "display_data"
    }
   ],
   "source": [
    "# let's check that we correctly extracted our paths\n",
    "display(image_paths[0:3])\n",
    "display(image_paths[10000:10003])"
   ]
  },
  {
   "cell_type": "markdown",
   "metadata": {},
   "source": [
    "### Extracting Metadata into DataFrame¶\n"
   ]
  },
  {
   "cell_type": "code",
   "execution_count": 58,
   "metadata": {},
   "outputs": [],
   "source": [
    "# Extracts a dict of lists containing the informaion of each path\n",
    "def extract_metadata(image_paths) -> dict:\n",
    "    path_data = {'path':[],'patient_id':[],'x_coord':[] ,'y_coord':[],'target':[]}\n",
    "    pattern = '\\/(\\d+)_.+_x(\\d+)_y(\\d+)_.+(\\d)'\n",
    "    for image_path in tqdm(image_paths,total = 277524):\n",
    "        meta_data = re.search(pattern, str(image_path))\n",
    "        path_data['path'].append(image_path)\n",
    "        path_data['patient_id'].append(meta_data.group(1))\n",
    "        path_data['x_coord'].append(meta_data.group(2))\n",
    "        path_data['y_coord'].append(meta_data.group(3))\n",
    "        path_data['target'].append(meta_data.group(4))\n",
    "    return path_data"
   ]
  },
  {
   "cell_type": "code",
   "execution_count": 59,
   "metadata": {},
   "outputs": [
    {
     "ename": "ImportError",
     "evalue": "IProgress not found. Please update jupyter and ipywidgets. See https://ipywidgets.readthedocs.io/en/stable/user_install.html",
     "output_type": "error",
     "traceback": [
      "\u001b[1;31m---------------------------------------------------------------------------\u001b[0m",
      "\u001b[1;31mImportError\u001b[0m                               Traceback (most recent call last)",
      "\u001b[1;32m<ipython-input-59-42b2d9836395>\u001b[0m in \u001b[0;36m<module>\u001b[1;34m\u001b[0m\n\u001b[1;32m----> 1\u001b[1;33m \u001b[0mpath_data\u001b[0m \u001b[1;33m=\u001b[0m \u001b[0mextract_metadata\u001b[0m\u001b[1;33m(\u001b[0m\u001b[0mimage_paths\u001b[0m\u001b[1;33m)\u001b[0m\u001b[1;33m\u001b[0m\u001b[1;33m\u001b[0m\u001b[0m\n\u001b[0m\u001b[0;32m      2\u001b[0m \u001b[1;31m# extract and display the first 3 rows of each value\u001b[0m\u001b[1;33m\u001b[0m\u001b[1;33m\u001b[0m\u001b[1;33m\u001b[0m\u001b[0m\n\u001b[0;32m      3\u001b[0m \u001b[1;32mfor\u001b[0m \u001b[0mvalue\u001b[0m \u001b[1;32min\u001b[0m \u001b[0mpath_data\u001b[0m\u001b[1;33m.\u001b[0m\u001b[0mvalues\u001b[0m\u001b[1;33m(\u001b[0m\u001b[1;33m)\u001b[0m\u001b[1;33m:\u001b[0m\u001b[1;33m\u001b[0m\u001b[1;33m\u001b[0m\u001b[0m\n\u001b[0;32m      4\u001b[0m     \u001b[0mdisplay\u001b[0m\u001b[1;33m(\u001b[0m\u001b[0mvalue\u001b[0m\u001b[1;33m[\u001b[0m\u001b[1;36m0\u001b[0m\u001b[1;33m:\u001b[0m\u001b[1;36m3\u001b[0m\u001b[1;33m]\u001b[0m\u001b[1;33m)\u001b[0m\u001b[1;33m\u001b[0m\u001b[1;33m\u001b[0m\u001b[0m\n",
      "\u001b[1;32m<ipython-input-58-5ed6411f713c>\u001b[0m in \u001b[0;36mextract_metadata\u001b[1;34m(image_paths)\u001b[0m\n\u001b[0;32m      3\u001b[0m     \u001b[0mpath_data\u001b[0m \u001b[1;33m=\u001b[0m \u001b[1;33m{\u001b[0m\u001b[1;34m'path'\u001b[0m\u001b[1;33m:\u001b[0m\u001b[1;33m[\u001b[0m\u001b[1;33m]\u001b[0m\u001b[1;33m,\u001b[0m\u001b[1;34m'patient_id'\u001b[0m\u001b[1;33m:\u001b[0m\u001b[1;33m[\u001b[0m\u001b[1;33m]\u001b[0m\u001b[1;33m,\u001b[0m\u001b[1;34m'x_coord'\u001b[0m\u001b[1;33m:\u001b[0m\u001b[1;33m[\u001b[0m\u001b[1;33m]\u001b[0m \u001b[1;33m,\u001b[0m\u001b[1;34m'y_coord'\u001b[0m\u001b[1;33m:\u001b[0m\u001b[1;33m[\u001b[0m\u001b[1;33m]\u001b[0m\u001b[1;33m,\u001b[0m\u001b[1;34m'target'\u001b[0m\u001b[1;33m:\u001b[0m\u001b[1;33m[\u001b[0m\u001b[1;33m]\u001b[0m\u001b[1;33m}\u001b[0m\u001b[1;33m\u001b[0m\u001b[1;33m\u001b[0m\u001b[0m\n\u001b[0;32m      4\u001b[0m     \u001b[0mpattern\u001b[0m \u001b[1;33m=\u001b[0m \u001b[1;34m'\\/(\\d+)_.+_x(\\d+)_y(\\d+)_.+(\\d)'\u001b[0m\u001b[1;33m\u001b[0m\u001b[1;33m\u001b[0m\u001b[0m\n\u001b[1;32m----> 5\u001b[1;33m     \u001b[1;32mfor\u001b[0m \u001b[0mimage_path\u001b[0m \u001b[1;32min\u001b[0m \u001b[0mtqdm\u001b[0m\u001b[1;33m(\u001b[0m\u001b[0mimage_paths\u001b[0m\u001b[1;33m,\u001b[0m\u001b[0mtotal\u001b[0m \u001b[1;33m=\u001b[0m \u001b[1;36m277524\u001b[0m\u001b[1;33m)\u001b[0m\u001b[1;33m:\u001b[0m\u001b[1;33m\u001b[0m\u001b[1;33m\u001b[0m\u001b[0m\n\u001b[0m\u001b[0;32m      6\u001b[0m         \u001b[0mmeta_data\u001b[0m \u001b[1;33m=\u001b[0m \u001b[0mre\u001b[0m\u001b[1;33m.\u001b[0m\u001b[0msearch\u001b[0m\u001b[1;33m(\u001b[0m\u001b[0mpattern\u001b[0m\u001b[1;33m,\u001b[0m \u001b[0mstr\u001b[0m\u001b[1;33m(\u001b[0m\u001b[0mimage_path\u001b[0m\u001b[1;33m)\u001b[0m\u001b[1;33m)\u001b[0m\u001b[1;33m\u001b[0m\u001b[1;33m\u001b[0m\u001b[0m\n\u001b[0;32m      7\u001b[0m         \u001b[0mpath_data\u001b[0m\u001b[1;33m[\u001b[0m\u001b[1;34m'path'\u001b[0m\u001b[1;33m]\u001b[0m\u001b[1;33m.\u001b[0m\u001b[0mappend\u001b[0m\u001b[1;33m(\u001b[0m\u001b[0mimage_path\u001b[0m\u001b[1;33m)\u001b[0m\u001b[1;33m\u001b[0m\u001b[1;33m\u001b[0m\u001b[0m\n",
      "\u001b[1;32mc:\\users\\asus\\appdata\\local\\programs\\python\\python37\\lib\\site-packages\\tqdm\\notebook.py\u001b[0m in \u001b[0;36m__init__\u001b[1;34m(self, *args, **kwargs)\u001b[0m\n\u001b[0;32m    222\u001b[0m         \u001b[0mtotal\u001b[0m \u001b[1;33m=\u001b[0m \u001b[0mself\u001b[0m\u001b[1;33m.\u001b[0m\u001b[0mtotal\u001b[0m \u001b[1;33m*\u001b[0m \u001b[0munit_scale\u001b[0m \u001b[1;32mif\u001b[0m \u001b[0mself\u001b[0m\u001b[1;33m.\u001b[0m\u001b[0mtotal\u001b[0m \u001b[1;32melse\u001b[0m \u001b[0mself\u001b[0m\u001b[1;33m.\u001b[0m\u001b[0mtotal\u001b[0m\u001b[1;33m\u001b[0m\u001b[1;33m\u001b[0m\u001b[0m\n\u001b[0;32m    223\u001b[0m         self.container = self.status_printer(\n\u001b[1;32m--> 224\u001b[1;33m             self.fp, total, self.desc, self.ncols)\n\u001b[0m\u001b[0;32m    225\u001b[0m         \u001b[0mself\u001b[0m\u001b[1;33m.\u001b[0m\u001b[0msp\u001b[0m \u001b[1;33m=\u001b[0m \u001b[0mself\u001b[0m\u001b[1;33m.\u001b[0m\u001b[0mdisplay\u001b[0m\u001b[1;33m\u001b[0m\u001b[1;33m\u001b[0m\u001b[0m\n\u001b[0;32m    226\u001b[0m         \u001b[0mself\u001b[0m\u001b[1;33m.\u001b[0m\u001b[0mcolour\u001b[0m \u001b[1;33m=\u001b[0m \u001b[0mcolour\u001b[0m\u001b[1;33m\u001b[0m\u001b[1;33m\u001b[0m\u001b[0m\n",
      "\u001b[1;32mc:\\users\\asus\\appdata\\local\\programs\\python\\python37\\lib\\site-packages\\tqdm\\notebook.py\u001b[0m in \u001b[0;36mstatus_printer\u001b[1;34m(_, total, desc, ncols)\u001b[0m\n\u001b[0;32m     95\u001b[0m         \u001b[1;32mif\u001b[0m \u001b[0mIProgress\u001b[0m \u001b[1;32mis\u001b[0m \u001b[1;32mNone\u001b[0m\u001b[1;33m:\u001b[0m  \u001b[1;31m# #187 #451 #558 #872\u001b[0m\u001b[1;33m\u001b[0m\u001b[1;33m\u001b[0m\u001b[0m\n\u001b[0;32m     96\u001b[0m             raise ImportError(\n\u001b[1;32m---> 97\u001b[1;33m                 \u001b[1;34m\"IProgress not found. Please update jupyter and ipywidgets.\"\u001b[0m\u001b[1;33m\u001b[0m\u001b[1;33m\u001b[0m\u001b[0m\n\u001b[0m\u001b[0;32m     98\u001b[0m                 \u001b[1;34m\" See https://ipywidgets.readthedocs.io/en/stable\"\u001b[0m\u001b[1;33m\u001b[0m\u001b[1;33m\u001b[0m\u001b[0m\n\u001b[0;32m     99\u001b[0m                 \"/user_install.html\")\n",
      "\u001b[1;31mImportError\u001b[0m: IProgress not found. Please update jupyter and ipywidgets. See https://ipywidgets.readthedocs.io/en/stable/user_install.html"
     ]
    }
   ],
   "source": [
    "path_data = extract_metadata(image_paths)\n",
    "# extract and display the first 3 rows of each value\n",
    "for value in path_data.values():\n",
    "    display(value[0:3]) "
   ]
  },
  {
   "cell_type": "code",
   "execution_count": 62,
   "metadata": {},
   "outputs": [
    {
     "ename": "SyntaxError",
     "evalue": "invalid syntax (<ipython-input-62-a7a5cbd94a1d>, line 4)",
     "output_type": "error",
     "traceback": [
      "\u001b[1;36m  File \u001b[1;32m\"<ipython-input-62-a7a5cbd94a1d>\"\u001b[1;36m, line \u001b[1;32m4\u001b[0m\n\u001b[1;33m    df.head()\u001b[0m\n\u001b[1;37m     ^\u001b[0m\n\u001b[1;31mSyntaxError\u001b[0m\u001b[1;31m:\u001b[0m invalid syntax\n"
     ]
    }
   ],
   "source": [
    "# convert dictionary to pandas dataframe --> convert path_data dict to dataframe\n",
    "df = pd.DataFrame.from_dict(path_data\n",
    "                            \n",
    "df.head()\n",
    "                            \n",
    "df.info()"
   ]
  },
  {
   "cell_type": "code",
   "execution_count": 63,
   "metadata": {},
   "outputs": [
    {
     "name": "stderr",
     "output_type": "stream",
     "text": [
      "Exception ignored in: <function tqdm.__del__ at 0x00000209C3A9E8C8>\n",
      "Traceback (most recent call last):\n",
      "  File \"c:\\users\\asus\\appdata\\local\\programs\\python\\python37\\lib\\site-packages\\tqdm\\std.py\", line 1131, in __del__\n",
      "    self.close()\n",
      "  File \"c:\\users\\asus\\appdata\\local\\programs\\python\\python37\\lib\\site-packages\\tqdm\\notebook.py\", line 261, in close\n",
      "    self.sp(bar_style='danger')\n",
      "AttributeError: 'tqdm_notebook' object has no attribute 'sp'\n",
      "Exception ignored in: <function tqdm.__del__ at 0x00000209C3A9E8C8>\n",
      "Traceback (most recent call last):\n",
      "  File \"c:\\users\\asus\\appdata\\local\\programs\\python\\python37\\lib\\site-packages\\tqdm\\std.py\", line 1131, in __del__\n",
      "    self.close()\n",
      "  File \"c:\\users\\asus\\appdata\\local\\programs\\python\\python37\\lib\\site-packages\\tqdm\\notebook.py\", line 261, in close\n",
      "    self.sp(bar_style='danger')\n",
      "AttributeError: 'tqdm_notebook' object has no attribute 'sp'\n"
     ]
    },
    {
     "ename": "NameError",
     "evalue": "name 'df' is not defined",
     "output_type": "error",
     "traceback": [
      "\u001b[1;31m---------------------------------------------------------------------------\u001b[0m",
      "\u001b[1;31mNameError\u001b[0m                                 Traceback (most recent call last)",
      "\u001b[1;32m<ipython-input-63-8fe5de26bc89>\u001b[0m in \u001b[0;36m<module>\u001b[1;34m\u001b[0m\n\u001b[1;32m----> 1\u001b[1;33m \u001b[0mdf\u001b[0m\u001b[1;33m.\u001b[0m\u001b[0miloc\u001b[0m\u001b[1;33m[\u001b[0m\u001b[1;33m:\u001b[0m\u001b[1;33m,\u001b[0m\u001b[1;36m2\u001b[0m\u001b[1;33m:\u001b[0m\u001b[1;36m5\u001b[0m\u001b[1;33m]\u001b[0m\u001b[1;33m\u001b[0m\u001b[1;33m\u001b[0m\u001b[0m\n\u001b[0m\u001b[0;32m      2\u001b[0m \u001b[1;32mfor\u001b[0m \u001b[0mcol\u001b[0m \u001b[1;32min\u001b[0m \u001b[0mdf\u001b[0m\u001b[1;33m.\u001b[0m\u001b[0miloc\u001b[0m\u001b[1;33m[\u001b[0m\u001b[1;33m:\u001b[0m\u001b[1;33m,\u001b[0m\u001b[1;36m2\u001b[0m\u001b[1;33m:\u001b[0m\u001b[1;36m5\u001b[0m\u001b[1;33m]\u001b[0m\u001b[1;33m:\u001b[0m\u001b[1;33m\u001b[0m\u001b[1;33m\u001b[0m\u001b[0m\n\u001b[0;32m      3\u001b[0m     \u001b[0mdf\u001b[0m\u001b[1;33m[\u001b[0m\u001b[0mcol\u001b[0m\u001b[1;33m]\u001b[0m \u001b[1;33m=\u001b[0m \u001b[0mdf\u001b[0m\u001b[1;33m[\u001b[0m\u001b[0mcol\u001b[0m\u001b[1;33m]\u001b[0m\u001b[1;33m.\u001b[0m\u001b[0mastype\u001b[0m\u001b[1;33m(\u001b[0m\u001b[1;34m'int'\u001b[0m\u001b[1;33m)\u001b[0m\u001b[1;33m\u001b[0m\u001b[1;33m\u001b[0m\u001b[0m\n",
      "\u001b[1;31mNameError\u001b[0m: name 'df' is not defined"
     ]
    }
   ],
   "source": [
    "df.iloc[:,2:5]\n",
    "for col in df.iloc[:,2:5]:\n",
    "    df[col] = df[col].astype('int')"
   ]
  },
  {
   "cell_type": "markdown",
   "metadata": {},
   "source": [
    "## Exploratory Data Analysis (EDA)"
   ]
  },
  {
   "cell_type": "markdown",
   "metadata": {},
   "source": [
    "## Analytics:\n",
    "How many patches do we have on average per patient?\n",
    "\n",
    "On average how many of those patches are cancerous vs non-cancerous?\n",
    "\n",
    "Let's try and answer those questions by querying our dataframe."
   ]
  },
  {
   "cell_type": "code",
   "execution_count": 64,
   "metadata": {},
   "outputs": [],
   "source": [
    "# Function below gets the the number of patches for each patient, \n",
    "# and gets the ratio of cancerous patches to non-cancerous patches for each patient\n",
    "\n",
    "def get_image_count_and_cancer_ratios(path_df):\n",
    "    # Return the count of images per patient\n",
    "    s1 = path_df.groupby('patient_id')['target'].count()\n",
    "    # Return the ratio of cancerous to non-cancerous images per-patient\n",
    "    s2 = path_df.groupby('patient_id')['target'].mean()\n",
    "\n",
    "    # Merge the series into one dataframe that uses the same index\n",
    "    df_summary = pd.concat([s1,s2],axis = 1)\n",
    "    df_summary.columns = ['n_patches/patient','cancer_ratio']\n",
    "    return df_summary"
   ]
  },
  {
   "cell_type": "code",
   "execution_count": 65,
   "metadata": {},
   "outputs": [
    {
     "ename": "NameError",
     "evalue": "name 'df' is not defined",
     "output_type": "error",
     "traceback": [
      "\u001b[1;31m---------------------------------------------------------------------------\u001b[0m",
      "\u001b[1;31mNameError\u001b[0m                                 Traceback (most recent call last)",
      "\u001b[1;32m<ipython-input-65-1aed46439813>\u001b[0m in \u001b[0;36m<module>\u001b[1;34m\u001b[0m\n\u001b[1;32m----> 1\u001b[1;33m \u001b[0mdf_summary\u001b[0m \u001b[1;33m=\u001b[0m \u001b[0mget_image_count_and_cancer_ratios\u001b[0m\u001b[1;33m(\u001b[0m\u001b[0mpath_df\u001b[0m \u001b[1;33m=\u001b[0m \u001b[0mdf\u001b[0m\u001b[1;33m)\u001b[0m\u001b[1;33m\u001b[0m\u001b[1;33m\u001b[0m\u001b[0m\n\u001b[0m\u001b[0;32m      2\u001b[0m \u001b[0mdisplay\u001b[0m\u001b[1;33m(\u001b[0m\u001b[0mdf_summary\u001b[0m\u001b[1;33m)\u001b[0m\u001b[1;33m\u001b[0m\u001b[1;33m\u001b[0m\u001b[0m\n",
      "\u001b[1;31mNameError\u001b[0m: name 'df' is not defined"
     ]
    }
   ],
   "source": [
    "df_summary = get_image_count_and_cancer_ratios(path_df = df)\n",
    "display(df_summary)"
   ]
  },
  {
   "cell_type": "code",
   "execution_count": 66,
   "metadata": {},
   "outputs": [],
   "source": [
    "# set bin values for number of images\n",
    "bin_values = np.linspace(0,2400,25)\n",
    "# below we will group our data into bins in order to e\n",
    "def get_binned_cancer_ratio_df(path_df,bin_values):\n",
    "    df_summary = get_image_count_and_cancer_ratios(path_df)\n",
    "    # use cut to determine which values fit into which bin\n",
    "    bins = pd.cut(df_summary['n_patches/patient'], bin_values)\n",
    "    # group your dataframe by the bins\n",
    "    binned_df = df_summary.groupby(bins).median() \n",
    "    binned_df['non-cancer_ratio_median'] = binned_df['cancer_ratio'].apply(lambda x: 1-x)\n",
    "    binned_df['n_patients_per_bin'] = df_summary['n_patches/patient'].groupby(bins).count()\n",
    "    # rename cancer ratio to cancer ratio median since we are taking the median now\n",
    "    binned_df.rename(columns={'cancer_ratio':'cancer_ratio_median'},inplace=True)\n",
    "    return binned_df"
   ]
  },
  {
   "cell_type": "code",
   "execution_count": 67,
   "metadata": {},
   "outputs": [
    {
     "ename": "NameError",
     "evalue": "name 'df' is not defined",
     "output_type": "error",
     "traceback": [
      "\u001b[1;31m---------------------------------------------------------------------------\u001b[0m",
      "\u001b[1;31mNameError\u001b[0m                                 Traceback (most recent call last)",
      "\u001b[1;32m<ipython-input-67-6774e4935ccd>\u001b[0m in \u001b[0;36m<module>\u001b[1;34m\u001b[0m\n\u001b[1;32m----> 1\u001b[1;33m \u001b[0mbinned_df\u001b[0m \u001b[1;33m=\u001b[0m \u001b[0mget_binned_cancer_ratio_df\u001b[0m\u001b[1;33m(\u001b[0m\u001b[0mdf\u001b[0m\u001b[1;33m,\u001b[0m\u001b[0mbin_values\u001b[0m\u001b[1;33m)\u001b[0m\u001b[1;33m\u001b[0m\u001b[1;33m\u001b[0m\u001b[0m\n\u001b[0m\u001b[0;32m      2\u001b[0m \u001b[0mbinned_df\u001b[0m \u001b[1;31m# fix the average number n_imgs/patient\u001b[0m\u001b[1;33m\u001b[0m\u001b[1;33m\u001b[0m\u001b[0m\n",
      "\u001b[1;31mNameError\u001b[0m: name 'df' is not defined"
     ]
    }
   ],
   "source": [
    "binned_df = get_binned_cancer_ratio_df(df,bin_values)\n",
    "binned_df # fix the average number n_imgs/patient"
   ]
  },
  {
   "cell_type": "code",
   "execution_count": 68,
   "metadata": {},
   "outputs": [
    {
     "ename": "IndentationError",
     "evalue": "unexpected indent (<ipython-input-68-2316dc94b1b5>, line 37)",
     "output_type": "error",
     "traceback": [
      "\u001b[1;36m  File \u001b[1;32m\"<ipython-input-68-2316dc94b1b5>\"\u001b[1;36m, line \u001b[1;32m37\u001b[0m\n\u001b[1;33m    fig.update_layout(height=1800,legend={'traceorder':'normal'})\u001b[0m\n\u001b[1;37m    ^\u001b[0m\n\u001b[1;31mIndentationError\u001b[0m\u001b[1;31m:\u001b[0m unexpected indent\n"
     ]
    }
   ],
   "source": [
    "def plot_patch_info(binned_df,bin_values):\n",
    "    \n",
    "    # get the the ranges for the x-axis since this is supposed to emulate a histogram\n",
    "    ranges = []\n",
    "    for i in range(len(bin_values)):\n",
    "        try: r = '('+str(int(bin_values[i]))+'-'+str(int(bin_values[i+1]))+')'\n",
    "        except: pass\n",
    "        ranges.append(r)\n",
    "    \n",
    "    # Number of Patients per Bin -> Bar Plot\n",
    "    trace_0 = go.Bar(name='Number of Patients Per Bin',x=ranges, y=binned_df['n_patients_per_bin'],marker_color='#ff6efa');\n",
    "    # Ratio of Cancerous Images -> Bar Plot\n",
    "    trace_1 = go.Bar(name='Cancerous Images', x=ranges, y=binned_df['cancer_ratio_median'],marker_color='#8634eb');\n",
    "    # Ratio of Non-Cancerous Images -> Bar Plot\n",
    "    trace_2 = go.Bar(name='Non-Cancerous Images', x=ranges, y=binned_df['non-cancer_ratio_median'],marker_color='#ff87c9')\n",
    "    # Number of Patches per Patient vs Cancer Ratio of Image -> Scatter Plot\n",
    "    trace_3 = go.Scatter(name='# Patches vs Cancer Ratio ',x = df_summary['n_patches/patient'],y = df_summary['cancer_ratio'],mode='markers',marker=dict(size=16,color=df_summary['cancer_ratio'], colorscale=[[0.0, \"#ff87c9\"],[1.0, \"#8634eb\"]]))\n",
    "    fig = make_subplots(rows=3, cols=1, \n",
    "                        shared_xaxes=True, \n",
    "                        vertical_spacing=0.05,\n",
    "                        subplot_titles=(\"Frequency of Number of Patches\",\n",
    "                                        \"Ratio of Cancerous to Non Cancerous Images as a Function of Number of Images per Patient\",\n",
    "                                        \"Number of Patches per Patient vs Cancer Ratio of Image\")\n",
    "                       )\n",
    "\n",
    "    # Change the bar mode\n",
    "    fig.update_layout(\n",
    "        barmode='stack',\n",
    "        bargap=0\n",
    "    )\n",
    "\n",
    "    fig.update_yaxes(title_text=\"Frequency\", row=1, col=1)\n",
    "    fig.update_yaxes(title_text=\"Percentage\", row=2, col=1)\n",
    "    fig.update_yaxes(title_text=\"Percentage\", row=3, col=1)\n",
    "\n",
    "    fig.update_xaxes(title_text=\"Number of Patches\", row=3, col=1)\n",
    "        fig.update_layout(height=1800,legend={'traceorder':'normal'})\n",
    "    fig.update_xaxes(rangemode=\"tozero\")\n",
    "\n",
    "    fig.append_trace(trace_0,1,1)\n",
    "    fig.append_trace(trace_1,2,1)\n",
    "    fig.append_trace(trace_2,2,1)\n",
    "    fig.append_trace(trace_3,3,1)\n",
    "\n",
    "\n",
    "    fig.show()"
   ]
  },
  {
   "cell_type": "code",
   "execution_count": 69,
   "metadata": {},
   "outputs": [
    {
     "ename": "NameError",
     "evalue": "name 'IPython' is not defined",
     "output_type": "error",
     "traceback": [
      "\u001b[1;31m---------------------------------------------------------------------------\u001b[0m",
      "\u001b[1;31mNameError\u001b[0m                                 Traceback (most recent call last)",
      "\u001b[1;32m<ipython-input-69-44df8dfb674a>\u001b[0m in \u001b[0;36m<module>\u001b[1;34m\u001b[0m\n\u001b[1;32m----> 1\u001b[1;33m \u001b[0mIPython\u001b[0m\u001b[1;33m.\u001b[0m\u001b[0mOutputArea\u001b[0m\u001b[1;33m.\u001b[0m\u001b[0mauto_scroll_threshold\u001b[0m \u001b[1;33m=\u001b[0m \u001b[1;36m130\u001b[0m\u001b[1;33m;\u001b[0m\u001b[1;33m\u001b[0m\u001b[1;33m\u001b[0m\u001b[0m\n\u001b[0m\u001b[0;32m      2\u001b[0m \u001b[1;33m\u001b[0m\u001b[0m\n\u001b[0;32m      3\u001b[0m \u001b[0mplot_patch_info\u001b[0m\u001b[1;33m(\u001b[0m\u001b[0mbinned_df\u001b[0m\u001b[1;33m,\u001b[0m\u001b[0mbin_values\u001b[0m\u001b[1;33m)\u001b[0m \u001b[1;31m# put image in next cell hidden in case image does not show\u001b[0m\u001b[1;33m\u001b[0m\u001b[1;33m\u001b[0m\u001b[0m\n",
      "\u001b[1;31mNameError\u001b[0m: name 'IPython' is not defined"
     ]
    }
   ],
   "source": [
    "IPython.OutputArea.auto_scroll_threshold = 130;\n",
    "\n",
    "plot_patch_info(binned_df,bin_values) # put image in next cell hidden in case image does not show \n"
   ]
  },
  {
   "cell_type": "code",
   "execution_count": 70,
   "metadata": {},
   "outputs": [
    {
     "ename": "NameError",
     "evalue": "name 'plt' is not defined",
     "output_type": "error",
     "traceback": [
      "\u001b[1;31m---------------------------------------------------------------------------\u001b[0m",
      "\u001b[1;31mNameError\u001b[0m                                 Traceback (most recent call last)",
      "\u001b[1;32m<ipython-input-70-f560503127ad>\u001b[0m in \u001b[0;36m<module>\u001b[1;34m\u001b[0m\n\u001b[1;32m----> 1\u001b[1;33m \u001b[0mplt\u001b[0m\u001b[1;33m.\u001b[0m\u001b[0mfigure\u001b[0m\u001b[1;33m(\u001b[0m\u001b[0mfigsize\u001b[0m \u001b[1;33m=\u001b[0m \u001b[1;33m(\u001b[0m\u001b[1;36m50\u001b[0m\u001b[1;33m,\u001b[0m\u001b[1;36m50\u001b[0m\u001b[1;33m)\u001b[0m\u001b[1;33m)\u001b[0m\u001b[1;33m;\u001b[0m\u001b[1;33m\u001b[0m\u001b[1;33m\u001b[0m\u001b[0m\n\u001b[0m\u001b[0;32m      2\u001b[0m \u001b[0mio\u001b[0m\u001b[1;33m.\u001b[0m\u001b[0mimshow\u001b[0m\u001b[1;33m(\u001b[0m\u001b[1;34m'../input/plot-images/patch_info.jpg'\u001b[0m\u001b[1;33m)\u001b[0m\u001b[1;33m;\u001b[0m\u001b[1;33m\u001b[0m\u001b[1;33m\u001b[0m\u001b[0m\n",
      "\u001b[1;31mNameError\u001b[0m: name 'plt' is not defined"
     ]
    }
   ],
   "source": [
    "plt.figure(figsize = (50,50));\n",
    "io.imshow('../input/plot-images/patch_info.jpg');"
   ]
  },
  {
   "cell_type": "code",
   "execution_count": 71,
   "metadata": {},
   "outputs": [
    {
     "ename": "NameError",
     "evalue": "name 'io' is not defined",
     "output_type": "error",
     "traceback": [
      "\u001b[1;31m---------------------------------------------------------------------------\u001b[0m",
      "\u001b[1;31mNameError\u001b[0m                                 Traceback (most recent call last)",
      "\u001b[1;32m<ipython-input-71-417e45d10efc>\u001b[0m in \u001b[0;36m<module>\u001b[1;34m\u001b[0m\n\u001b[0;32m      1\u001b[0m \u001b[1;31m# read image from path\u001b[0m\u001b[1;33m\u001b[0m\u001b[1;33m\u001b[0m\u001b[1;33m\u001b[0m\u001b[0m\n\u001b[1;32m----> 2\u001b[1;33m \u001b[0mimg\u001b[0m \u001b[1;33m=\u001b[0m \u001b[0mio\u001b[0m\u001b[1;33m.\u001b[0m\u001b[0mimread\u001b[0m\u001b[1;33m(\u001b[0m\u001b[1;34m'../input/breast-histopathology-images/10253/0/10253_idx5_x1001_y1001_class0.png'\u001b[0m\u001b[1;33m)\u001b[0m\u001b[1;33m\u001b[0m\u001b[1;33m\u001b[0m\u001b[0m\n\u001b[0m\u001b[0;32m      3\u001b[0m \u001b[1;31m# show the image after being read\u001b[0m\u001b[1;33m\u001b[0m\u001b[1;33m\u001b[0m\u001b[1;33m\u001b[0m\u001b[0m\n\u001b[0;32m      4\u001b[0m \u001b[0mio\u001b[0m\u001b[1;33m.\u001b[0m\u001b[0mimshow\u001b[0m\u001b[1;33m(\u001b[0m\u001b[0mimg\u001b[0m\u001b[1;33m)\u001b[0m\u001b[1;33m;\u001b[0m\u001b[1;33m\u001b[0m\u001b[1;33m\u001b[0m\u001b[0m\n",
      "\u001b[1;31mNameError\u001b[0m: name 'io' is not defined"
     ]
    }
   ],
   "source": [
    "# read image from path\n",
    "img = io.imread('../input/breast-histopathology-images/10253/0/10253_idx5_x1001_y1001_class0.png')\n",
    "# show the image after being read\n",
    "io.imshow(img);"
   ]
  },
  {
   "cell_type": "code",
   "execution_count": 72,
   "metadata": {},
   "outputs": [
    {
     "ename": "NameError",
     "evalue": "name 'img' is not defined",
     "output_type": "error",
     "traceback": [
      "\u001b[1;31m---------------------------------------------------------------------------\u001b[0m",
      "\u001b[1;31mNameError\u001b[0m                                 Traceback (most recent call last)",
      "\u001b[1;32m<ipython-input-72-fcb8c7c32d80>\u001b[0m in \u001b[0;36m<module>\u001b[1;34m\u001b[0m\n\u001b[1;32m----> 1\u001b[1;33m \u001b[0mprint\u001b[0m\u001b[1;33m(\u001b[0m\u001b[0mimg\u001b[0m\u001b[1;33m.\u001b[0m\u001b[0mshape\u001b[0m\u001b[1;33m)\u001b[0m\u001b[1;33m\u001b[0m\u001b[1;33m\u001b[0m\u001b[0m\n\u001b[0m",
      "\u001b[1;31mNameError\u001b[0m: name 'img' is not defined"
     ]
    }
   ],
   "source": [
    "print(img.shape)\n"
   ]
  },
  {
   "cell_type": "code",
   "execution_count": 73,
   "metadata": {},
   "outputs": [
    {
     "ename": "NameError",
     "evalue": "name 'img' is not defined",
     "output_type": "error",
     "traceback": [
      "\u001b[1;31m---------------------------------------------------------------------------\u001b[0m",
      "\u001b[1;31mNameError\u001b[0m                                 Traceback (most recent call last)",
      "\u001b[1;32m<ipython-input-73-1ead755c981e>\u001b[0m in \u001b[0;36m<module>\u001b[1;34m\u001b[0m\n\u001b[0;32m      1\u001b[0m \u001b[1;31m# Accessing the first row\u001b[0m\u001b[1;33m\u001b[0m\u001b[1;33m\u001b[0m\u001b[1;33m\u001b[0m\u001b[0m\n\u001b[1;32m----> 2\u001b[1;33m \u001b[0mfirst_row\u001b[0m \u001b[1;33m=\u001b[0m \u001b[0mimg\u001b[0m\u001b[1;33m[\u001b[0m\u001b[1;36m0\u001b[0m\u001b[1;33m:\u001b[0m\u001b[1;36m1\u001b[0m\u001b[1;33m]\u001b[0m\u001b[1;33m\u001b[0m\u001b[1;33m\u001b[0m\u001b[0m\n\u001b[0m\u001b[0;32m      3\u001b[0m \u001b[0mprint\u001b[0m\u001b[1;33m(\u001b[0m\u001b[1;34m'FIRST ROW:'\u001b[0m\u001b[1;33m)\u001b[0m\u001b[1;33m\u001b[0m\u001b[1;33m\u001b[0m\u001b[0m\n\u001b[0;32m      4\u001b[0m \u001b[0mprint\u001b[0m\u001b[1;33m(\u001b[0m\u001b[1;34mf'The shape of the first row: {first_row.shape}'\u001b[0m\u001b[1;33m)\u001b[0m\u001b[1;33m\u001b[0m\u001b[1;33m\u001b[0m\u001b[0m\n\u001b[0;32m      5\u001b[0m \u001b[0mprint\u001b[0m\u001b[1;33m(\u001b[0m\u001b[1;34mf'The first five pixels of the first row: \\n\\n{first_row[0:1,0:5]}\\n'\u001b[0m\u001b[1;33m)\u001b[0m\u001b[1;33m\u001b[0m\u001b[1;33m\u001b[0m\u001b[0m\n",
      "\u001b[1;31mNameError\u001b[0m: name 'img' is not defined"
     ]
    }
   ],
   "source": [
    "# Accessing the first row\n",
    "first_row = img[0:1]\n",
    "print('FIRST ROW:')\n",
    "print(f'The shape of the first row: {first_row.shape}')\n",
    "print(f'The first five pixels of the first row: \\n\\n{first_row[0:1,0:5]}\\n')\n",
    "# Accessing the first column\n",
    "first_column = img[:,0:1]\n",
    "print('FIRST COLUMN:')\n",
    "print(f'The shape of the first column: {first_column.shape}')\n",
    "print(f'The first five pixels of the first row: \\n\\n{first_column[0:5,0:1]}\\n')\n",
    "# Accessing a specific pixel\n",
    "pixel = img[19:20,16:17]\n",
    "print('RGB VALUE 20th ROW, 17th COLUMN:')\n",
    "print(f'The shape of the pixel: {pixel.shape}')\n",
    "print(f'The first five pixels of the first row: \\n\\n{pixel}\\n')"
   ]
  },
  {
   "cell_type": "code",
   "execution_count": 74,
   "metadata": {},
   "outputs": [
    {
     "ename": "NameError",
     "evalue": "name 'plt' is not defined",
     "output_type": "error",
     "traceback": [
      "\u001b[1;31m---------------------------------------------------------------------------\u001b[0m",
      "\u001b[1;31mNameError\u001b[0m                                 Traceback (most recent call last)",
      "\u001b[1;32m<ipython-input-74-79c3d8247a5b>\u001b[0m in \u001b[0;36m<module>\u001b[1;34m\u001b[0m\n\u001b[1;32m----> 1\u001b[1;33m \u001b[0mfig\u001b[0m\u001b[1;33m,\u001b[0m\u001b[0maxs\u001b[0m \u001b[1;33m=\u001b[0m \u001b[0mplt\u001b[0m\u001b[1;33m.\u001b[0m\u001b[0msubplots\u001b[0m\u001b[1;33m(\u001b[0m\u001b[1;36m1\u001b[0m\u001b[1;33m,\u001b[0m\u001b[1;36m3\u001b[0m\u001b[1;33m,\u001b[0m\u001b[0mfigsize\u001b[0m \u001b[1;33m=\u001b[0m \u001b[1;33m(\u001b[0m\u001b[1;36m30\u001b[0m\u001b[1;33m,\u001b[0m\u001b[1;36m10\u001b[0m\u001b[1;33m)\u001b[0m\u001b[1;33m)\u001b[0m\u001b[1;33m;\u001b[0m\u001b[1;33m\u001b[0m\u001b[1;33m\u001b[0m\u001b[0m\n\u001b[0m\u001b[0;32m      2\u001b[0m \u001b[1;31m# Displaying the first row\u001b[0m\u001b[1;33m\u001b[0m\u001b[1;33m\u001b[0m\u001b[1;33m\u001b[0m\u001b[0m\n\u001b[0;32m      3\u001b[0m \u001b[0maxs\u001b[0m\u001b[1;33m[\u001b[0m\u001b[1;36m0\u001b[0m\u001b[1;33m]\u001b[0m\u001b[1;33m.\u001b[0m\u001b[0mimshow\u001b[0m\u001b[1;33m(\u001b[0m\u001b[0mfirst_row\u001b[0m\u001b[1;33m)\u001b[0m\u001b[1;33m;\u001b[0m\u001b[1;33m\u001b[0m\u001b[1;33m\u001b[0m\u001b[0m\n\u001b[0;32m      4\u001b[0m \u001b[1;31m# Displaying the first column\u001b[0m\u001b[1;33m\u001b[0m\u001b[1;33m\u001b[0m\u001b[1;33m\u001b[0m\u001b[0m\n\u001b[0;32m      5\u001b[0m \u001b[0maxs\u001b[0m\u001b[1;33m[\u001b[0m\u001b[1;36m1\u001b[0m\u001b[1;33m]\u001b[0m\u001b[1;33m.\u001b[0m\u001b[0mimshow\u001b[0m\u001b[1;33m(\u001b[0m\u001b[0mfirst_column\u001b[0m\u001b[1;33m)\u001b[0m\u001b[1;33m;\u001b[0m\u001b[1;33m\u001b[0m\u001b[1;33m\u001b[0m\u001b[0m\n",
      "\u001b[1;31mNameError\u001b[0m: name 'plt' is not defined"
     ]
    }
   ],
   "source": [
    "fig,axs = plt.subplots(1,3,figsize = (30,10));\n",
    "# Displaying the first row\n",
    "axs[0].imshow(first_row);\n",
    "# Displaying the first column\n",
    "axs[1].imshow(first_column);\n",
    "#Displaying the pixel\n",
    "axs[2].imshow(pixel);"
   ]
  },
  {
   "cell_type": "code",
   "execution_count": 75,
   "metadata": {},
   "outputs": [
    {
     "ename": "NameError",
     "evalue": "name 'img' is not defined",
     "output_type": "error",
     "traceback": [
      "\u001b[1;31m---------------------------------------------------------------------------\u001b[0m",
      "\u001b[1;31mNameError\u001b[0m                                 Traceback (most recent call last)",
      "\u001b[1;32m<ipython-input-75-c68722535bf9>\u001b[0m in \u001b[0;36m<module>\u001b[1;34m\u001b[0m\n\u001b[1;32m----> 1\u001b[1;33m \u001b[0mdisplay\u001b[0m\u001b[1;33m(\u001b[0m\u001b[0mimg\u001b[0m\u001b[1;33m[\u001b[0m\u001b[1;36m0\u001b[0m\u001b[1;33m:\u001b[0m\u001b[1;36m1\u001b[0m\u001b[1;33m]\u001b[0m\u001b[1;33m.\u001b[0m\u001b[0mshape\u001b[0m\u001b[1;33m)\u001b[0m\u001b[1;33m\u001b[0m\u001b[1;33m\u001b[0m\u001b[0m\n\u001b[0m\u001b[0;32m      2\u001b[0m \u001b[0mdisplay\u001b[0m\u001b[1;33m(\u001b[0m\u001b[0mimg\u001b[0m\u001b[1;33m[\u001b[0m\u001b[1;36m0\u001b[0m\u001b[1;33m:\u001b[0m\u001b[1;36m1\u001b[0m\u001b[1;33m]\u001b[0m\u001b[1;33m.\u001b[0m\u001b[0mndim\u001b[0m\u001b[1;33m)\u001b[0m\u001b[1;33m\u001b[0m\u001b[1;33m\u001b[0m\u001b[0m\n\u001b[0;32m      3\u001b[0m \u001b[0mdisplay\u001b[0m\u001b[1;33m(\u001b[0m\u001b[0mimg\u001b[0m\u001b[1;33m[\u001b[0m\u001b[1;36m0\u001b[0m\u001b[1;33m]\u001b[0m\u001b[1;33m.\u001b[0m\u001b[0mshape\u001b[0m\u001b[1;33m)\u001b[0m\u001b[1;33m\u001b[0m\u001b[1;33m\u001b[0m\u001b[0m\n\u001b[0;32m      4\u001b[0m \u001b[0mdisplay\u001b[0m\u001b[1;33m(\u001b[0m\u001b[0mimg\u001b[0m\u001b[1;33m[\u001b[0m\u001b[1;36m0\u001b[0m\u001b[1;33m]\u001b[0m\u001b[1;33m.\u001b[0m\u001b[0mndim\u001b[0m\u001b[1;33m)\u001b[0m\u001b[1;33m\u001b[0m\u001b[1;33m\u001b[0m\u001b[0m\n",
      "\u001b[1;31mNameError\u001b[0m: name 'img' is not defined"
     ]
    }
   ],
   "source": [
    "display(img[0:1].shape)\n",
    "display(img[0:1].ndim)\n",
    "display(img[0].shape)\n",
    "display(img[0].ndim)"
   ]
  },
  {
   "cell_type": "code",
   "execution_count": 76,
   "metadata": {},
   "outputs": [
    {
     "ename": "NameError",
     "evalue": "name 'plt' is not defined",
     "output_type": "error",
     "traceback": [
      "\u001b[1;31m---------------------------------------------------------------------------\u001b[0m",
      "\u001b[1;31mNameError\u001b[0m                                 Traceback (most recent call last)",
      "\u001b[1;32m<ipython-input-76-e8abcf5db969>\u001b[0m in \u001b[0;36m<module>\u001b[1;34m\u001b[0m\n\u001b[1;32m----> 1\u001b[1;33m \u001b[0mfig\u001b[0m\u001b[1;33m,\u001b[0m\u001b[0maxs\u001b[0m \u001b[1;33m=\u001b[0m \u001b[0mplt\u001b[0m\u001b[1;33m.\u001b[0m\u001b[0msubplots\u001b[0m\u001b[1;33m(\u001b[0m\u001b[1;36m1\u001b[0m\u001b[1;33m,\u001b[0m\u001b[1;36m3\u001b[0m\u001b[1;33m,\u001b[0m\u001b[0mfigsize\u001b[0m \u001b[1;33m=\u001b[0m \u001b[1;33m(\u001b[0m\u001b[1;36m20\u001b[0m\u001b[1;33m,\u001b[0m\u001b[1;36m50\u001b[0m\u001b[1;33m)\u001b[0m\u001b[1;33m)\u001b[0m\u001b[1;33m;\u001b[0m\u001b[1;33m\u001b[0m\u001b[1;33m\u001b[0m\u001b[0m\n\u001b[0m\u001b[0;32m      2\u001b[0m \u001b[0maxs\u001b[0m\u001b[1;33m[\u001b[0m\u001b[1;36m0\u001b[0m\u001b[1;33m]\u001b[0m\u001b[1;33m.\u001b[0m\u001b[0mimshow\u001b[0m\u001b[1;33m(\u001b[0m\u001b[0mimg\u001b[0m\u001b[1;33m[\u001b[0m\u001b[1;33m:\u001b[0m\u001b[1;33m,\u001b[0m\u001b[1;36m0\u001b[0m\u001b[1;33m]\u001b[0m\u001b[1;33m)\u001b[0m\u001b[1;33m;\u001b[0m\u001b[1;33m\u001b[0m\u001b[1;33m\u001b[0m\u001b[0m\n\u001b[0;32m      3\u001b[0m \u001b[0maxs\u001b[0m\u001b[1;33m[\u001b[0m\u001b[1;36m1\u001b[0m\u001b[1;33m]\u001b[0m\u001b[1;33m.\u001b[0m\u001b[0mimshow\u001b[0m\u001b[1;33m(\u001b[0m\u001b[0mimg\u001b[0m\u001b[1;33m[\u001b[0m\u001b[1;33m:\u001b[0m\u001b[1;33m,\u001b[0m\u001b[1;36m0\u001b[0m\u001b[1;33m:\u001b[0m\u001b[1;36m1\u001b[0m\u001b[1;33m]\u001b[0m\u001b[1;33m)\u001b[0m\u001b[1;33m;\u001b[0m\u001b[1;33m\u001b[0m\u001b[1;33m\u001b[0m\u001b[0m\n\u001b[0;32m      4\u001b[0m \u001b[1;31m# using reshape to achieve the same result\u001b[0m\u001b[1;33m\u001b[0m\u001b[1;33m\u001b[0m\u001b[1;33m\u001b[0m\u001b[0m\n\u001b[0;32m      5\u001b[0m \u001b[0maxs\u001b[0m\u001b[1;33m[\u001b[0m\u001b[1;36m2\u001b[0m\u001b[1;33m]\u001b[0m\u001b[1;33m.\u001b[0m\u001b[0mimshow\u001b[0m\u001b[1;33m(\u001b[0m\u001b[0mimg\u001b[0m\u001b[1;33m[\u001b[0m\u001b[1;33m:\u001b[0m\u001b[1;33m,\u001b[0m\u001b[1;36m0\u001b[0m\u001b[1;33m]\u001b[0m\u001b[1;33m.\u001b[0m\u001b[0mreshape\u001b[0m\u001b[1;33m(\u001b[0m\u001b[1;36m50\u001b[0m\u001b[1;33m,\u001b[0m\u001b[1;36m1\u001b[0m\u001b[1;33m,\u001b[0m\u001b[1;36m3\u001b[0m\u001b[1;33m)\u001b[0m\u001b[1;33m)\u001b[0m\u001b[1;33m;\u001b[0m\u001b[1;33m\u001b[0m\u001b[1;33m\u001b[0m\u001b[0m\n",
      "\u001b[1;31mNameError\u001b[0m: name 'plt' is not defined"
     ]
    }
   ],
   "source": [
    "fig,axs = plt.subplots(1,3,figsize = (20,50));\n",
    "axs[0].imshow(img[:,0]);\n",
    "axs[1].imshow(img[:,0:1]);\n",
    "# using reshape to achieve the same result\n",
    "axs[2].imshow(img[:,0].reshape(50,1,3));"
   ]
  },
  {
   "cell_type": "markdown",
   "metadata": {},
   "source": [
    "## Healthy Tissue Patches Vs Cancerous Tissue Patches¶\n"
   ]
  },
  {
   "cell_type": "code",
   "execution_count": 78,
   "metadata": {},
   "outputs": [
    {
     "ename": "NameError",
     "evalue": "name 'df' is not defined",
     "output_type": "error",
     "traceback": [
      "\u001b[1;31m---------------------------------------------------------------------------\u001b[0m",
      "\u001b[1;31mNameError\u001b[0m                                 Traceback (most recent call last)",
      "\u001b[1;32m<ipython-input-78-5aa5055450f1>\u001b[0m in \u001b[0;36m<module>\u001b[1;34m\u001b[0m\n\u001b[1;32m----> 1\u001b[1;33m \u001b[0mpath_df\u001b[0m \u001b[1;33m=\u001b[0m \u001b[0mdf\u001b[0m\u001b[1;33m\u001b[0m\u001b[1;33m\u001b[0m\u001b[0m\n\u001b[0m\u001b[0;32m      2\u001b[0m \u001b[1;33m\u001b[0m\u001b[0m\n\u001b[0;32m      3\u001b[0m \u001b[1;33m\u001b[0m\u001b[0m\n\u001b[0;32m      4\u001b[0m \u001b[1;33m\u001b[0m\u001b[0m\n\u001b[0;32m      5\u001b[0m \u001b[1;32mdef\u001b[0m \u001b[0mshow_patches\u001b[0m\u001b[1;33m(\u001b[0m\u001b[0mtarget\u001b[0m\u001b[1;33m=\u001b[0m\u001b[1;34m'Any'\u001b[0m\u001b[1;33m,\u001b[0m\u001b[0mnrows\u001b[0m \u001b[1;33m=\u001b[0m \u001b[1;36m2\u001b[0m\u001b[1;33m,\u001b[0m\u001b[0mncols\u001b[0m \u001b[1;33m=\u001b[0m \u001b[1;36m5\u001b[0m\u001b[1;33m,\u001b[0m \u001b[0mpath_df\u001b[0m \u001b[1;33m=\u001b[0m \u001b[0mpath_df\u001b[0m\u001b[1;33m)\u001b[0m\u001b[1;33m:\u001b[0m\u001b[1;33m\u001b[0m\u001b[1;33m\u001b[0m\u001b[0m\n",
      "\u001b[1;31mNameError\u001b[0m: name 'df' is not defined"
     ]
    }
   ],
   "source": [
    "path_df = df\n",
    "\n",
    "\n",
    "\n",
    "def show_patches(target='Any',nrows = 2,ncols = 5, path_df = path_df):\n",
    "    '''\n",
    "    Function accepts type of target:\n",
    "    target = 0 --> Non-Cancerous Tissue\n",
    "    target = 1 --> Cancerous Tissue\n",
    "    path_df: dataframe containing paths\n",
    "    '''\n",
    "    if target == 'Any':\n",
    "        # if target is set to any retrieve both cancerous and non-cancerous cells\n",
    "        tissue_indices = np.random.choice(path_df.index, size=nrows*ncols, replace=False)\n",
    "    else:\n",
    "        # replace = False means that no duplication is allowed\n",
    "        tissue_indices = np.random.choice(path_df[path_df['target']==target].index, size=nrows*ncols, replace=False)\n",
    "    \n",
    "    fig,axes = plt.subplots(nrows=nrows,ncols=ncols,figsize = (ncols*6,nrows*6))\n",
    "            \n",
    "    for i,ax in enumerate(axes.flatten()):\n",
    "        idx = tissue_indices[i]\n",
    "        img = io.imread(path_df.loc[idx,'path'])\n",
    "        ax.imshow(img)"
   ]
  },
  {
   "cell_type": "markdown",
   "metadata": {},
   "source": [
    "## non-cancerous"
   ]
  },
  {
   "cell_type": "markdown",
   "metadata": {},
   "source": [
    "show_patches(target=0,ncols=10)\n"
   ]
  },
  {
   "cell_type": "markdown",
   "metadata": {},
   "source": [
    "## cancerous"
   ]
  },
  {
   "cell_type": "code",
   "execution_count": 80,
   "metadata": {},
   "outputs": [
    {
     "ename": "NameError",
     "evalue": "name 'show_patches' is not defined",
     "output_type": "error",
     "traceback": [
      "\u001b[1;31m---------------------------------------------------------------------------\u001b[0m",
      "\u001b[1;31mNameError\u001b[0m                                 Traceback (most recent call last)",
      "\u001b[1;32m<ipython-input-80-9d468be829f2>\u001b[0m in \u001b[0;36m<module>\u001b[1;34m\u001b[0m\n\u001b[1;32m----> 1\u001b[1;33m \u001b[0mshow_patches\u001b[0m\u001b[1;33m(\u001b[0m\u001b[0mtarget\u001b[0m\u001b[1;33m=\u001b[0m\u001b[1;36m1\u001b[0m\u001b[1;33m,\u001b[0m\u001b[0mncols\u001b[0m\u001b[1;33m=\u001b[0m\u001b[1;36m10\u001b[0m\u001b[1;33m)\u001b[0m\u001b[1;33m\u001b[0m\u001b[1;33m\u001b[0m\u001b[0m\n\u001b[0m\u001b[0;32m      2\u001b[0m \u001b[1;33m\u001b[0m\u001b[0m\n",
      "\u001b[1;31mNameError\u001b[0m: name 'show_patches' is not defined"
     ]
    }
   ],
   "source": [
    "show_patches(target=1,ncols=10)"
   ]
  },
  {
   "cell_type": "markdown",
   "metadata": {},
   "source": [
    "## Visualizing the Breast Tissue\n"
   ]
  },
  {
   "cell_type": "code",
   "execution_count": 81,
   "metadata": {},
   "outputs": [
    {
     "ename": "NameError",
     "evalue": "name 'df' is not defined",
     "output_type": "error",
     "traceback": [
      "\u001b[1;31m---------------------------------------------------------------------------\u001b[0m",
      "\u001b[1;31mNameError\u001b[0m                                 Traceback (most recent call last)",
      "\u001b[1;32m<ipython-input-81-663502550374>\u001b[0m in \u001b[0;36m<module>\u001b[1;34m\u001b[0m\n\u001b[1;32m----> 1\u001b[1;33m \u001b[1;32mdef\u001b[0m \u001b[0mget_patient_df\u001b[0m\u001b[1;33m(\u001b[0m\u001b[0mp_id\u001b[0m\u001b[1;33m,\u001b[0m\u001b[0mdf\u001b[0m\u001b[1;33m=\u001b[0m\u001b[0mdf\u001b[0m\u001b[1;33m)\u001b[0m\u001b[1;33m:\u001b[0m\u001b[1;33m\u001b[0m\u001b[1;33m\u001b[0m\u001b[0m\n\u001b[0m\u001b[0;32m      2\u001b[0m     \u001b[1;32mreturn\u001b[0m \u001b[0mdf\u001b[0m\u001b[1;33m.\u001b[0m\u001b[0mloc\u001b[0m\u001b[1;33m[\u001b[0m\u001b[0mdf\u001b[0m\u001b[1;33m[\u001b[0m\u001b[1;34m'patient_id'\u001b[0m\u001b[1;33m]\u001b[0m\u001b[1;33m==\u001b[0m \u001b[0mp_id\u001b[0m\u001b[1;33m,\u001b[0m\u001b[1;33m:\u001b[0m\u001b[1;33m]\u001b[0m\u001b[1;33m\u001b[0m\u001b[1;33m\u001b[0m\u001b[0m\n",
      "\u001b[1;31mNameError\u001b[0m: name 'df' is not defined"
     ]
    }
   ],
   "source": [
    "def get_patient_df(p_id,df=df):\n",
    "    return df.loc[df['patient_id']== p_id,:] "
   ]
  },
  {
   "cell_type": "code",
   "execution_count": 82,
   "metadata": {},
   "outputs": [],
   "source": [
    "from matplotlib.colors import LinearSegmentedColormap\n",
    "\n",
    "def scatter_patient_xy(nrows=3,ncols=3):\n",
    "    n_imgs = nrows*ncols\n",
    "    # get random patient ids to plot\n",
    "    p_ids = np.random.choice(df['patient_id'].unique(), size=n_imgs, replace=False)\n",
    "    \n",
    "    fig, axs = plt.subplots(nrows=nrows,ncols=ncols,figsize=(30,30))\n",
    "    \n",
    "    colors = ['#ff70db','#9334eb']\n",
    "    \n",
    "    # setting the point colors for the target values\n",
    "    cmap = LinearSegmentedColormap.from_list(name='',colors = colors, N=2)\n",
    "    \n",
    "    for i,row in enumerate(axs):\n",
    "        for j,ax in enumerate(row):\n",
    "            p_id = p_ids[i*nrows+j]\n",
    "            p_df = get_patient_df(p_id)\n",
    "            \n",
    "            x_coords = p_df['x_coord'].values\n",
    "            y_coords = p_df['y_coord'].values\n",
    "            \n",
    "            # get the min coordinate of each patient image\n",
    "            min_coord = min(x_coords.max(),y_coords.max())\n",
    "            # use min_coord to to set the size of the plotted square\n",
    "            s = int(4000/min_coord*15)\n",
    "            \n",
    "            # used to determine the color of the point\n",
    "            targets = p_df['target'].values\n",
    "            ax.scatter(x_coords,y_coords,c=targets,cmap=cmap,s=s,marker='s')\n",
    "            ax.set_title('Patient: '+p_id)"
   ]
  },
  {
   "cell_type": "code",
   "execution_count": 83,
   "metadata": {},
   "outputs": [
    {
     "ename": "NameError",
     "evalue": "name 'df' is not defined",
     "output_type": "error",
     "traceback": [
      "\u001b[1;31m---------------------------------------------------------------------------\u001b[0m",
      "\u001b[1;31mNameError\u001b[0m                                 Traceback (most recent call last)",
      "\u001b[1;32m<ipython-input-83-fd32f92318d6>\u001b[0m in \u001b[0;36m<module>\u001b[1;34m\u001b[0m\n\u001b[1;32m----> 1\u001b[1;33m \u001b[0mscatter_patient_xy\u001b[0m\u001b[1;33m(\u001b[0m\u001b[1;33m)\u001b[0m\u001b[1;33m\u001b[0m\u001b[1;33m\u001b[0m\u001b[0m\n\u001b[0m",
      "\u001b[1;32m<ipython-input-82-715cc9371da1>\u001b[0m in \u001b[0;36mscatter_patient_xy\u001b[1;34m(nrows, ncols)\u001b[0m\n\u001b[0;32m      4\u001b[0m     \u001b[0mn_imgs\u001b[0m \u001b[1;33m=\u001b[0m \u001b[0mnrows\u001b[0m\u001b[1;33m*\u001b[0m\u001b[0mncols\u001b[0m\u001b[1;33m\u001b[0m\u001b[1;33m\u001b[0m\u001b[0m\n\u001b[0;32m      5\u001b[0m     \u001b[1;31m# get random patient ids to plot\u001b[0m\u001b[1;33m\u001b[0m\u001b[1;33m\u001b[0m\u001b[1;33m\u001b[0m\u001b[0m\n\u001b[1;32m----> 6\u001b[1;33m     \u001b[0mp_ids\u001b[0m \u001b[1;33m=\u001b[0m \u001b[0mnp\u001b[0m\u001b[1;33m.\u001b[0m\u001b[0mrandom\u001b[0m\u001b[1;33m.\u001b[0m\u001b[0mchoice\u001b[0m\u001b[1;33m(\u001b[0m\u001b[0mdf\u001b[0m\u001b[1;33m[\u001b[0m\u001b[1;34m'patient_id'\u001b[0m\u001b[1;33m]\u001b[0m\u001b[1;33m.\u001b[0m\u001b[0munique\u001b[0m\u001b[1;33m(\u001b[0m\u001b[1;33m)\u001b[0m\u001b[1;33m,\u001b[0m \u001b[0msize\u001b[0m\u001b[1;33m=\u001b[0m\u001b[0mn_imgs\u001b[0m\u001b[1;33m,\u001b[0m \u001b[0mreplace\u001b[0m\u001b[1;33m=\u001b[0m\u001b[1;32mFalse\u001b[0m\u001b[1;33m)\u001b[0m\u001b[1;33m\u001b[0m\u001b[1;33m\u001b[0m\u001b[0m\n\u001b[0m\u001b[0;32m      7\u001b[0m \u001b[1;33m\u001b[0m\u001b[0m\n\u001b[0;32m      8\u001b[0m     \u001b[0mfig\u001b[0m\u001b[1;33m,\u001b[0m \u001b[0maxs\u001b[0m \u001b[1;33m=\u001b[0m \u001b[0mplt\u001b[0m\u001b[1;33m.\u001b[0m\u001b[0msubplots\u001b[0m\u001b[1;33m(\u001b[0m\u001b[0mnrows\u001b[0m\u001b[1;33m=\u001b[0m\u001b[0mnrows\u001b[0m\u001b[1;33m,\u001b[0m\u001b[0mncols\u001b[0m\u001b[1;33m=\u001b[0m\u001b[0mncols\u001b[0m\u001b[1;33m,\u001b[0m\u001b[0mfigsize\u001b[0m\u001b[1;33m=\u001b[0m\u001b[1;33m(\u001b[0m\u001b[1;36m30\u001b[0m\u001b[1;33m,\u001b[0m\u001b[1;36m30\u001b[0m\u001b[1;33m)\u001b[0m\u001b[1;33m)\u001b[0m\u001b[1;33m\u001b[0m\u001b[1;33m\u001b[0m\u001b[0m\n",
      "\u001b[1;31mNameError\u001b[0m: name 'df' is not defined"
     ]
    }
   ],
   "source": [
    "scatter_patient_xy()\n"
   ]
  },
  {
   "cell_type": "code",
   "execution_count": 84,
   "metadata": {},
   "outputs": [],
   "source": [
    "def get_tissue_image_array(patient_id,pred = False):\n",
    "    # get patient dataframe\n",
    "    path_df = get_patient_df(patient_id)\n",
    "    # get the max_coordinate to define the numpy array size, numpy array will be containing the rgb values for the image\n",
    "    max_coord = np.max((*path_df['x_coord'],*path_df['y_coord']))\n",
    "    # add 50 to the max_coord to get the final image dimension,50 here is the patch size\n",
    "    image_dimension = max_coord + 50\n",
    "    # create a 3 dimensional array with RGB values = 255, we set the type as uint since no RGB value can be > 255, thus increasing efficiency\n",
    "    grid = 255*np.ones(shape = (image_dimension,image_dimension,3)).astype('uint8')\n",
    "    mask = 255*np.ones(shape = (image_dimension,image_dimension,3)).astype('uint8')\n",
    "    for x,y,target,path in path_df[['x_coord','y_coord','target','path']].values:\n",
    "        img_array = io.imread(path)\n",
    "        # some patches have dimension less than 50 x 50 which would cause the code to break\n",
    "        try:\n",
    "            # replace values in grid array by the image array values\n",
    "            grid[y:y+50,x:x+50] = img_array \n",
    "            # if the image is cancerous add\n",
    "            if target != 0:\n",
    "                mask[y:y+50,x:x+50] = [0,0,255]\n",
    "        except: pass\n",
    "    # check if prediction is specified\n",
    "    if pred == False:\n",
    "        img = grid\n",
    "    else:\n",
    "        alpha = 0.8\n",
    "        # This is step is very important, multiplying the 2 values by a float value converts the arrays to float64, which is why convert them back to uint8\n",
    "        img  = (mask * (1.0 - alpha) + grid * alpha).astype('uint8')\n",
    "        \n",
    "    return img"
   ]
  },
  {
   "cell_type": "code",
   "execution_count": 85,
   "metadata": {},
   "outputs": [
    {
     "ename": "NameError",
     "evalue": "name 'df' is not defined",
     "output_type": "error",
     "traceback": [
      "\u001b[1;31m---------------------------------------------------------------------------\u001b[0m",
      "\u001b[1;31mNameError\u001b[0m                                 Traceback (most recent call last)",
      "\u001b[1;32m<ipython-input-85-ee350db768f1>\u001b[0m in \u001b[0;36m<module>\u001b[1;34m\u001b[0m\n\u001b[1;32m----> 1\u001b[1;33m \u001b[1;32mdef\u001b[0m \u001b[0mplot_tissue_images\u001b[0m\u001b[1;33m(\u001b[0m\u001b[0mnrows\u001b[0m\u001b[1;33m=\u001b[0m\u001b[1;36m3\u001b[0m\u001b[1;33m,\u001b[0m\u001b[0mncols\u001b[0m\u001b[1;33m=\u001b[0m\u001b[1;36m3\u001b[0m\u001b[1;33m,\u001b[0m\u001b[0mpred\u001b[0m \u001b[1;33m=\u001b[0m \u001b[1;32mFalse\u001b[0m\u001b[1;33m,\u001b[0m\u001b[0mdf\u001b[0m\u001b[1;33m=\u001b[0m\u001b[0mdf\u001b[0m\u001b[1;33m)\u001b[0m\u001b[1;33m:\u001b[0m\u001b[1;33m\u001b[0m\u001b[1;33m\u001b[0m\u001b[0m\n\u001b[0m\u001b[0;32m      2\u001b[0m     \u001b[0mn_imgs\u001b[0m \u001b[1;33m=\u001b[0m \u001b[0mnrows\u001b[0m\u001b[1;33m*\u001b[0m\u001b[0mncols\u001b[0m\u001b[1;33m\u001b[0m\u001b[1;33m\u001b[0m\u001b[0m\n\u001b[0;32m      3\u001b[0m     \u001b[0mp_ids\u001b[0m \u001b[1;33m=\u001b[0m \u001b[0mnp\u001b[0m\u001b[1;33m.\u001b[0m\u001b[0mrandom\u001b[0m\u001b[1;33m.\u001b[0m\u001b[0mchoice\u001b[0m\u001b[1;33m(\u001b[0m\u001b[0mdf\u001b[0m\u001b[1;33m[\u001b[0m\u001b[1;34m'patient_id'\u001b[0m\u001b[1;33m]\u001b[0m\u001b[1;33m.\u001b[0m\u001b[0munique\u001b[0m\u001b[1;33m(\u001b[0m\u001b[1;33m)\u001b[0m\u001b[1;33m,\u001b[0m \u001b[0msize\u001b[0m\u001b[1;33m=\u001b[0m\u001b[0mn_imgs\u001b[0m\u001b[1;33m,\u001b[0m \u001b[0mreplace\u001b[0m\u001b[1;33m=\u001b[0m\u001b[1;32mFalse\u001b[0m\u001b[1;33m)\u001b[0m\u001b[1;33m\u001b[0m\u001b[1;33m\u001b[0m\u001b[0m\n\u001b[0;32m      4\u001b[0m \u001b[1;33m\u001b[0m\u001b[0m\n\u001b[0;32m      5\u001b[0m     \u001b[0mfig\u001b[0m\u001b[1;33m,\u001b[0m\u001b[0maxs\u001b[0m \u001b[1;33m=\u001b[0m \u001b[0mplt\u001b[0m\u001b[1;33m.\u001b[0m\u001b[0msubplots\u001b[0m\u001b[1;33m(\u001b[0m\u001b[0mnrows\u001b[0m\u001b[1;33m=\u001b[0m\u001b[0mnrows\u001b[0m\u001b[1;33m,\u001b[0m\u001b[0mncols\u001b[0m\u001b[1;33m=\u001b[0m\u001b[0mncols\u001b[0m\u001b[1;33m,\u001b[0m\u001b[0mfigsize\u001b[0m\u001b[1;33m=\u001b[0m\u001b[1;33m(\u001b[0m\u001b[1;36m30\u001b[0m\u001b[1;33m,\u001b[0m\u001b[1;36m30\u001b[0m\u001b[1;33m)\u001b[0m\u001b[1;33m)\u001b[0m\u001b[1;33m\u001b[0m\u001b[1;33m\u001b[0m\u001b[0m\n",
      "\u001b[1;31mNameError\u001b[0m: name 'df' is not defined"
     ]
    }
   ],
   "source": [
    "def plot_tissue_images(nrows=3,ncols=3,pred = False,df=df):\n",
    "    n_imgs = nrows*ncols\n",
    "    p_ids = np.random.choice(df['patient_id'].unique(), size=n_imgs, replace=False)\n",
    "    \n",
    "    fig,axs = plt.subplots(nrows=nrows,ncols=ncols,figsize=(30,30))\n",
    "    for i,row in enumerate(axs):\n",
    "        for j,ax in enumerate(row):\n",
    "            p_id = p_ids[i*nrows+j]\n",
    "            img = get_tissue_image_array(p_id,pred = pred)\n",
    "            ax.set_title(f'Breast Tissue Slice for patient {p_id}')\n",
    "            ax.set_xticks([])\n",
    "            ax.set_yticks([])\n",
    "            ax.imshow(img)"
   ]
  },
  {
   "cell_type": "code",
   "execution_count": 86,
   "metadata": {},
   "outputs": [
    {
     "ename": "NameError",
     "evalue": "name 'plot_tissue_images' is not defined",
     "output_type": "error",
     "traceback": [
      "\u001b[1;31m---------------------------------------------------------------------------\u001b[0m",
      "\u001b[1;31mNameError\u001b[0m                                 Traceback (most recent call last)",
      "\u001b[1;32m<ipython-input-86-8d812ae5d42a>\u001b[0m in \u001b[0;36m<module>\u001b[1;34m\u001b[0m\n\u001b[1;32m----> 1\u001b[1;33m \u001b[0mplot_tissue_images\u001b[0m\u001b[1;33m(\u001b[0m\u001b[0mpred\u001b[0m \u001b[1;33m=\u001b[0m \u001b[1;32mTrue\u001b[0m\u001b[1;33m)\u001b[0m\u001b[1;33m\u001b[0m\u001b[1;33m\u001b[0m\u001b[0m\n\u001b[0m",
      "\u001b[1;31mNameError\u001b[0m: name 'plot_tissue_images' is not defined"
     ]
    }
   ],
   "source": [
    "plot_tissue_images(pred = True)\n"
   ]
  },
  {
   "cell_type": "markdown",
   "metadata": {},
   "source": [
    "## taking sample of our data"
   ]
  },
  {
   "cell_type": "code",
   "execution_count": 87,
   "metadata": {},
   "outputs": [],
   "source": [
    "# function that accepts number of patients and returns a dataframe containing all the images for each patient. \n",
    "# prioritizes patients with higher number of patches.\n",
    "def get_patients(df,n_patients=10):\n",
    "    p_ids = df.groupby('patient_id')['patient_id'].count().sort_values(ascending=False).index[0:n_patients]\n",
    "    df =  df.loc[df['patient_id'].isin(p_ids)].reset_index(drop=True)\n",
    "    return df"
   ]
  },
  {
   "cell_type": "code",
   "execution_count": 88,
   "metadata": {},
   "outputs": [
    {
     "ename": "NameError",
     "evalue": "name 'df' is not defined",
     "output_type": "error",
     "traceback": [
      "\u001b[1;31m---------------------------------------------------------------------------\u001b[0m",
      "\u001b[1;31mNameError\u001b[0m                                 Traceback (most recent call last)",
      "\u001b[1;32m<ipython-input-88-19f962d96da1>\u001b[0m in \u001b[0;36m<module>\u001b[1;34m\u001b[0m\n\u001b[1;32m----> 1\u001b[1;33m \u001b[0msample_df\u001b[0m\u001b[1;33m=\u001b[0m \u001b[0mget_patients\u001b[0m\u001b[1;33m(\u001b[0m\u001b[0mdf\u001b[0m\u001b[1;33m=\u001b[0m\u001b[0mdf\u001b[0m\u001b[1;33m)\u001b[0m\u001b[1;33m\u001b[0m\u001b[1;33m\u001b[0m\u001b[0m\n\u001b[0m\u001b[0;32m      2\u001b[0m \u001b[0msample_df\u001b[0m\u001b[1;33m.\u001b[0m\u001b[0minfo\u001b[0m\u001b[1;33m(\u001b[0m\u001b[1;33m)\u001b[0m\u001b[1;33m\u001b[0m\u001b[1;33m\u001b[0m\u001b[0m\n",
      "\u001b[1;31mNameError\u001b[0m: name 'df' is not defined"
     ]
    }
   ],
   "source": [
    "sample_df= get_patients(df=df)\n",
    "sample_df.info()"
   ]
  },
  {
   "cell_type": "code",
   "execution_count": 89,
   "metadata": {},
   "outputs": [],
   "source": [
    "def get_img_arrays(df,):\n",
    "    # read each image array from corresponding path as grayscale and flatten the image array\n",
    "    df['img_array'] = df.progress_apply(lambda x : io.imread(x['path'],as_gray=True).flatten(),axis=1) # make sure to specify axis = 1\n",
    "    # get the shape of each image array and store it in the dataframe\n",
    "    df['array_shape'] = df.progress_apply(lambda x : x['img_array'].shape[0],axis=1) # make sure to specify axis = 1\n",
    "    return df"
   ]
  },
  {
   "cell_type": "code",
   "execution_count": 90,
   "metadata": {},
   "outputs": [
    {
     "ename": "NameError",
     "evalue": "name 'sample_df' is not defined",
     "output_type": "error",
     "traceback": [
      "\u001b[1;31m---------------------------------------------------------------------------\u001b[0m",
      "\u001b[1;31mNameError\u001b[0m                                 Traceback (most recent call last)",
      "\u001b[1;32m<ipython-input-90-661311ac9aa9>\u001b[0m in \u001b[0;36m<module>\u001b[1;34m\u001b[0m\n\u001b[1;32m----> 1\u001b[1;33m \u001b[0msample_df\u001b[0m \u001b[1;33m=\u001b[0m \u001b[0mget_img_arrays\u001b[0m\u001b[1;33m(\u001b[0m\u001b[0mdf\u001b[0m \u001b[1;33m=\u001b[0m \u001b[0msample_df\u001b[0m\u001b[1;33m)\u001b[0m\u001b[1;33m\u001b[0m\u001b[1;33m\u001b[0m\u001b[0m\n\u001b[0m",
      "\u001b[1;31mNameError\u001b[0m: name 'sample_df' is not defined"
     ]
    }
   ],
   "source": [
    "sample_df = get_img_arrays(df = sample_df)"
   ]
  },
  {
   "cell_type": "code",
   "execution_count": 91,
   "metadata": {},
   "outputs": [
    {
     "ename": "NameError",
     "evalue": "name 'sample_df' is not defined",
     "output_type": "error",
     "traceback": [
      "\u001b[1;31m---------------------------------------------------------------------------\u001b[0m",
      "\u001b[1;31mNameError\u001b[0m                                 Traceback (most recent call last)",
      "\u001b[1;32m<ipython-input-91-28daf5fbb4a0>\u001b[0m in \u001b[0;36m<module>\u001b[1;34m\u001b[0m\n\u001b[0;32m      1\u001b[0m \u001b[1;31m# get the count of the unique values in the column array_shape\u001b[0m\u001b[1;33m\u001b[0m\u001b[1;33m\u001b[0m\u001b[1;33m\u001b[0m\u001b[0m\n\u001b[1;32m----> 2\u001b[1;33m \u001b[0msample_df\u001b[0m\u001b[1;33m[\u001b[0m\u001b[1;34m'array_shape'\u001b[0m\u001b[1;33m]\u001b[0m\u001b[1;33m.\u001b[0m\u001b[0mvalue_counts\u001b[0m\u001b[1;33m(\u001b[0m\u001b[1;33m)\u001b[0m\u001b[1;33m\u001b[0m\u001b[1;33m\u001b[0m\u001b[0m\n\u001b[0m",
      "\u001b[1;31mNameError\u001b[0m: name 'sample_df' is not defined"
     ]
    }
   ],
   "source": [
    "# get the count of the unique values in the column array_shape\n",
    "sample_df['array_shape'].value_counts() "
   ]
  },
  {
   "cell_type": "code",
   "execution_count": 92,
   "metadata": {},
   "outputs": [
    {
     "ename": "NameError",
     "evalue": "name 'sample_df' is not defined",
     "output_type": "error",
     "traceback": [
      "\u001b[1;31m---------------------------------------------------------------------------\u001b[0m",
      "\u001b[1;31mNameError\u001b[0m                                 Traceback (most recent call last)",
      "\u001b[1;32m<ipython-input-92-62f79ff1c88d>\u001b[0m in \u001b[0;36m<module>\u001b[1;34m\u001b[0m\n\u001b[0;32m      1\u001b[0m \u001b[1;31m# get all images that do not have an array shape of 2500\u001b[0m\u001b[1;33m\u001b[0m\u001b[1;33m\u001b[0m\u001b[1;33m\u001b[0m\u001b[0m\n\u001b[1;32m----> 2\u001b[1;33m \u001b[0mweird_imgs\u001b[0m \u001b[1;33m=\u001b[0m \u001b[0msample_df\u001b[0m\u001b[1;33m[\u001b[0m\u001b[0msample_df\u001b[0m\u001b[1;33m[\u001b[0m\u001b[1;34m'array_shape'\u001b[0m\u001b[1;33m]\u001b[0m \u001b[1;33m!=\u001b[0m \u001b[1;36m2500\u001b[0m\u001b[1;33m]\u001b[0m\u001b[1;33m\u001b[0m\u001b[1;33m\u001b[0m\u001b[0m\n\u001b[0m",
      "\u001b[1;31mNameError\u001b[0m: name 'sample_df' is not defined"
     ]
    }
   ],
   "source": [
    "# get all images that do not have an array shape of 2500\n",
    "weird_imgs = sample_df[sample_df['array_shape'] != 2500] "
   ]
  },
  {
   "cell_type": "code",
   "execution_count": 93,
   "metadata": {},
   "outputs": [
    {
     "ename": "NameError",
     "evalue": "name 'show_patches' is not defined",
     "output_type": "error",
     "traceback": [
      "\u001b[1;31m---------------------------------------------------------------------------\u001b[0m",
      "\u001b[1;31mNameError\u001b[0m                                 Traceback (most recent call last)",
      "\u001b[1;32m<ipython-input-93-63e13f2dfd19>\u001b[0m in \u001b[0;36m<module>\u001b[1;34m\u001b[0m\n\u001b[0;32m      1\u001b[0m \u001b[1;31m# use the show patches function that we created earlier to visualize those images\u001b[0m\u001b[1;33m\u001b[0m\u001b[1;33m\u001b[0m\u001b[1;33m\u001b[0m\u001b[0m\n\u001b[1;32m----> 2\u001b[1;33m \u001b[0mshow_patches\u001b[0m\u001b[1;33m(\u001b[0m\u001b[0mnrows\u001b[0m \u001b[1;33m=\u001b[0m \u001b[1;36m2\u001b[0m\u001b[1;33m,\u001b[0m\u001b[0mncols\u001b[0m \u001b[1;33m=\u001b[0m \u001b[1;36m5\u001b[0m\u001b[1;33m,\u001b[0m \u001b[0mpath_df\u001b[0m \u001b[1;33m=\u001b[0m \u001b[0mweird_imgs\u001b[0m\u001b[1;33m)\u001b[0m\u001b[1;33m\u001b[0m\u001b[1;33m\u001b[0m\u001b[0m\n\u001b[0m",
      "\u001b[1;31mNameError\u001b[0m: name 'show_patches' is not defined"
     ]
    }
   ],
   "source": [
    "# use the show patches function that we created earlier to visualize those images\n",
    "show_patches(nrows = 2,ncols = 5, path_df = weird_imgs)"
   ]
  },
  {
   "cell_type": "markdown",
   "metadata": {},
   "source": [
    "### Applying PCA on to the Images"
   ]
  },
  {
   "cell_type": "code",
   "execution_count": 94,
   "metadata": {},
   "outputs": [
    {
     "ename": "NameError",
     "evalue": "name 'sample_df' is not defined",
     "output_type": "error",
     "traceback": [
      "\u001b[1;31m---------------------------------------------------------------------------\u001b[0m",
      "\u001b[1;31mNameError\u001b[0m                                 Traceback (most recent call last)",
      "\u001b[1;32m<ipython-input-94-a72f9fb47e17>\u001b[0m in \u001b[0;36m<module>\u001b[1;34m\u001b[0m\n\u001b[0;32m      1\u001b[0m \u001b[1;31m# get the number of rows in the pandas dataframe in order to determine the number of rows in our numpy array\u001b[0m\u001b[1;33m\u001b[0m\u001b[1;33m\u001b[0m\u001b[1;33m\u001b[0m\u001b[0m\n\u001b[1;32m----> 2\u001b[1;33m \u001b[0mnrows\u001b[0m\u001b[1;33m=\u001b[0m\u001b[0msample_df\u001b[0m\u001b[1;33m.\u001b[0m\u001b[0mshape\u001b[0m\u001b[1;33m[\u001b[0m\u001b[1;36m0\u001b[0m\u001b[1;33m]\u001b[0m\u001b[1;33m\u001b[0m\u001b[1;33m\u001b[0m\u001b[0m\n\u001b[0m\u001b[0;32m      3\u001b[0m \u001b[1;31m# set the number of columns to 2500, which is the length of our array\u001b[0m\u001b[1;33m\u001b[0m\u001b[1;33m\u001b[0m\u001b[1;33m\u001b[0m\u001b[0m\n\u001b[0;32m      4\u001b[0m \u001b[0mncols\u001b[0m\u001b[1;33m=\u001b[0m\u001b[1;36m2500\u001b[0m\u001b[1;33m\u001b[0m\u001b[1;33m\u001b[0m\u001b[0m\n\u001b[0;32m      5\u001b[0m \u001b[1;31m# initialize the array using the information above\u001b[0m\u001b[1;33m\u001b[0m\u001b[1;33m\u001b[0m\u001b[1;33m\u001b[0m\u001b[0m\n",
      "\u001b[1;31mNameError\u001b[0m: name 'sample_df' is not defined"
     ]
    }
   ],
   "source": [
    "# get the number of rows in the pandas dataframe in order to determine the number of rows in our numpy array\n",
    "nrows=sample_df.shape[0]\n",
    "# set the number of columns to 2500, which is the length of our array\n",
    "ncols=2500\n",
    "# initialize the array using the information above\n",
    "img_arrays= np.zeros((nrows,ncols))\n",
    "print(img_arrays.shape)"
   ]
  },
  {
   "cell_type": "code",
   "execution_count": 95,
   "metadata": {},
   "outputs": [
    {
     "ename": "NameError",
     "evalue": "name 'sample_df' is not defined",
     "output_type": "error",
     "traceback": [
      "\u001b[1;31m---------------------------------------------------------------------------\u001b[0m",
      "\u001b[1;31mNameError\u001b[0m                                 Traceback (most recent call last)",
      "\u001b[1;32m<ipython-input-95-17e18082c99f>\u001b[0m in \u001b[0;36m<module>\u001b[1;34m\u001b[0m\n\u001b[0;32m      1\u001b[0m \u001b[1;31m# add all the image arrays to the numpy array that we just initialized\u001b[0m\u001b[1;33m\u001b[0m\u001b[1;33m\u001b[0m\u001b[1;33m\u001b[0m\u001b[0m\n\u001b[1;32m----> 2\u001b[1;33m \u001b[1;32mfor\u001b[0m \u001b[0mi\u001b[0m\u001b[1;33m,\u001b[0m\u001b[0marray\u001b[0m \u001b[1;32min\u001b[0m \u001b[0menumerate\u001b[0m\u001b[1;33m(\u001b[0m\u001b[0msample_df\u001b[0m\u001b[1;33m[\u001b[0m\u001b[1;34m'img_array'\u001b[0m\u001b[1;33m]\u001b[0m\u001b[1;33m)\u001b[0m\u001b[1;33m:\u001b[0m\u001b[1;33m\u001b[0m\u001b[1;33m\u001b[0m\u001b[0m\n\u001b[0m\u001b[0;32m      3\u001b[0m     \u001b[0mimg_arrays\u001b[0m\u001b[1;33m[\u001b[0m\u001b[0mi\u001b[0m\u001b[1;33m,\u001b[0m\u001b[1;33m:\u001b[0m\u001b[1;33m]\u001b[0m \u001b[1;33m=\u001b[0m \u001b[0marray\u001b[0m\u001b[1;33m\u001b[0m\u001b[1;33m\u001b[0m\u001b[0m\n\u001b[0;32m      4\u001b[0m \u001b[0mdisplay\u001b[0m\u001b[1;33m(\u001b[0m\u001b[0mimg_arrays\u001b[0m\u001b[1;33m[\u001b[0m\u001b[1;36m0\u001b[0m\u001b[1;33m:\u001b[0m\u001b[1;36m5\u001b[0m\u001b[1;33m,\u001b[0m\u001b[1;33m:\u001b[0m\u001b[1;33m]\u001b[0m\u001b[1;33m)\u001b[0m\u001b[1;33m\u001b[0m\u001b[1;33m\u001b[0m\u001b[0m\n",
      "\u001b[1;31mNameError\u001b[0m: name 'sample_df' is not defined"
     ]
    }
   ],
   "source": [
    "# add all the image arrays to the numpy array that we just initialized\n",
    "for i,array in enumerate(sample_df['img_array']):\n",
    "    img_arrays[i,:] = array\n",
    "display(img_arrays[0:5,:])"
   ]
  },
  {
   "cell_type": "code",
   "execution_count": 96,
   "metadata": {},
   "outputs": [
    {
     "name": "stderr",
     "output_type": "stream",
     "text": [
      "Exception ignored in: <function tqdm.__del__ at 0x00000209C3A9E8C8>\n",
      "Traceback (most recent call last):\n",
      "  File \"c:\\users\\asus\\appdata\\local\\programs\\python\\python37\\lib\\site-packages\\tqdm\\std.py\", line 1131, in __del__\n",
      "    self.close()\n",
      "  File \"c:\\users\\asus\\appdata\\local\\programs\\python\\python37\\lib\\site-packages\\tqdm\\notebook.py\", line 261, in close\n",
      "    self.sp(bar_style='danger')\n",
      "AttributeError: 'tqdm_notebook' object has no attribute 'sp'\n"
     ]
    },
    {
     "ename": "NameError",
     "evalue": "name 'img_arrays' is not defined",
     "output_type": "error",
     "traceback": [
      "\u001b[1;31m---------------------------------------------------------------------------\u001b[0m",
      "\u001b[1;31mNameError\u001b[0m                                 Traceback (most recent call last)",
      "\u001b[1;32m<ipython-input-96-a9b086dfe6e9>\u001b[0m in \u001b[0;36m<module>\u001b[1;34m\u001b[0m\n\u001b[0;32m      2\u001b[0m \u001b[0mimages_pca\u001b[0m \u001b[1;33m=\u001b[0m \u001b[0mPCA\u001b[0m\u001b[1;33m(\u001b[0m\u001b[1;33m)\u001b[0m\u001b[1;33m\u001b[0m\u001b[1;33m\u001b[0m\u001b[0m\n\u001b[0;32m      3\u001b[0m \u001b[1;31m# fit the function to our image arrays\u001b[0m\u001b[1;33m\u001b[0m\u001b[1;33m\u001b[0m\u001b[1;33m\u001b[0m\u001b[0m\n\u001b[1;32m----> 4\u001b[1;33m \u001b[0mimages_pca\u001b[0m\u001b[1;33m.\u001b[0m\u001b[0mfit\u001b[0m\u001b[1;33m(\u001b[0m\u001b[0mimg_arrays\u001b[0m\u001b[1;33m)\u001b[0m\u001b[1;33m;\u001b[0m\u001b[1;33m\u001b[0m\u001b[1;33m\u001b[0m\u001b[0m\n\u001b[0m",
      "\u001b[1;31mNameError\u001b[0m: name 'img_arrays' is not defined"
     ]
    }
   ],
   "source": [
    "from sklearn.decomposition import PCA\n",
    "images_pca = PCA()\n",
    "# fit the function to our image arrays\n",
    "images_pca.fit(img_arrays);"
   ]
  },
  {
   "cell_type": "code",
   "execution_count": 97,
   "metadata": {},
   "outputs": [
    {
     "ename": "AttributeError",
     "evalue": "'PCA' object has no attribute 'explained_variance_ratio_'",
     "output_type": "error",
     "traceback": [
      "\u001b[1;31m---------------------------------------------------------------------------\u001b[0m",
      "\u001b[1;31mAttributeError\u001b[0m                            Traceback (most recent call last)",
      "\u001b[1;32m<ipython-input-97-a292022e3938>\u001b[0m in \u001b[0;36m<module>\u001b[1;34m\u001b[0m\n\u001b[0;32m      1\u001b[0m \u001b[1;31m# explained get the cumalitive sum of the explained variance ratio for each principle component\u001b[0m\u001b[1;33m\u001b[0m\u001b[1;33m\u001b[0m\u001b[1;33m\u001b[0m\u001b[0m\n\u001b[1;32m----> 2\u001b[1;33m \u001b[0mevr\u001b[0m \u001b[1;33m=\u001b[0m \u001b[0mnp\u001b[0m\u001b[1;33m.\u001b[0m\u001b[0mcumsum\u001b[0m\u001b[1;33m(\u001b[0m\u001b[0mimages_pca\u001b[0m\u001b[1;33m.\u001b[0m\u001b[0mexplained_variance_ratio_\u001b[0m\u001b[1;33m)\u001b[0m\u001b[1;33m\u001b[0m\u001b[1;33m\u001b[0m\u001b[0m\n\u001b[0m\u001b[0;32m      3\u001b[0m \u001b[1;31m# plot the explained variance ratio\u001b[0m\u001b[1;33m\u001b[0m\u001b[1;33m\u001b[0m\u001b[1;33m\u001b[0m\u001b[0m\n\u001b[0;32m      4\u001b[0m \u001b[0mfig\u001b[0m \u001b[1;33m=\u001b[0m \u001b[0mgo\u001b[0m\u001b[1;33m.\u001b[0m\u001b[0mFigure\u001b[0m\u001b[1;33m(\u001b[0m\u001b[0mdata\u001b[0m\u001b[1;33m=\u001b[0m\u001b[0mgo\u001b[0m\u001b[1;33m.\u001b[0m\u001b[0mScatter\u001b[0m\u001b[1;33m(\u001b[0m\u001b[0my\u001b[0m \u001b[1;33m=\u001b[0m \u001b[0mevr\u001b[0m\u001b[1;33m,\u001b[0m\u001b[0mline\u001b[0m\u001b[1;33m=\u001b[0m\u001b[0mdict\u001b[0m\u001b[1;33m(\u001b[0m\u001b[0mcolor\u001b[0m\u001b[1;33m=\u001b[0m\u001b[1;34m'#ff70db'\u001b[0m\u001b[1;33m)\u001b[0m\u001b[1;33m)\u001b[0m\u001b[1;33m)\u001b[0m\u001b[1;33m\u001b[0m\u001b[1;33m\u001b[0m\u001b[0m\n\u001b[0;32m      5\u001b[0m fig.update_layout(title='Explained Variance Ratio After PCA',\n",
      "\u001b[1;31mAttributeError\u001b[0m: 'PCA' object has no attribute 'explained_variance_ratio_'"
     ]
    }
   ],
   "source": [
    "# explained get the cumalitive sum of the explained variance ratio for each principle component\n",
    "evr = np.cumsum(images_pca.explained_variance_ratio_)\n",
    "# plot the explained variance ratio\n",
    "fig = go.Figure(data=go.Scatter(y = evr,line=dict(color='#ff70db')))\n",
    "fig.update_layout(title='Explained Variance Ratio After PCA',\n",
    "                   xaxis_title='Number of Principle Components',\n",
    "                   yaxis_title='Cumalitive Explained Variance Ratio')\n",
    "fig.show()"
   ]
  },
  {
   "cell_type": "code",
   "execution_count": 98,
   "metadata": {},
   "outputs": [
    {
     "ename": "NameError",
     "evalue": "name 'img_arrays' is not defined",
     "output_type": "error",
     "traceback": [
      "\u001b[1;31m---------------------------------------------------------------------------\u001b[0m",
      "\u001b[1;31mNameError\u001b[0m                                 Traceback (most recent call last)",
      "\u001b[1;32m<ipython-input-98-090a4030c4e9>\u001b[0m in \u001b[0;36m<module>\u001b[1;34m\u001b[0m\n\u001b[0;32m      4\u001b[0m \u001b[0mimages_pca\u001b[0m \u001b[1;33m=\u001b[0m \u001b[0mPCA\u001b[0m\u001b[1;33m(\u001b[0m\u001b[1;36m150\u001b[0m\u001b[1;33m)\u001b[0m\u001b[1;33m\u001b[0m\u001b[1;33m\u001b[0m\u001b[0m\n\u001b[0;32m      5\u001b[0m \u001b[1;31m# fit the function to our image arrays\u001b[0m\u001b[1;33m\u001b[0m\u001b[1;33m\u001b[0m\u001b[1;33m\u001b[0m\u001b[0m\n\u001b[1;32m----> 6\u001b[1;33m \u001b[0mimages_pca\u001b[0m\u001b[1;33m.\u001b[0m\u001b[0mfit\u001b[0m\u001b[1;33m(\u001b[0m\u001b[0mimg_arrays\u001b[0m\u001b[1;33m)\u001b[0m\u001b[1;33m;\u001b[0m\u001b[1;33m\u001b[0m\u001b[1;33m\u001b[0m\u001b[0m\n\u001b[0m",
      "\u001b[1;31mNameError\u001b[0m: name 'img_arrays' is not defined"
     ]
    }
   ],
   "source": [
    "# let's now apply PCA but only retrieve the first 150 components or the components that account for 80 percent of the variance\n",
    "images_pca = PCA(0.8)\n",
    "# OR\n",
    "images_pca = PCA(150)\n",
    "# fit the function to our image arrays\n",
    "images_pca.fit(img_arrays);"
   ]
  },
  {
   "cell_type": "code",
   "execution_count": 99,
   "metadata": {},
   "outputs": [
    {
     "ename": "NameError",
     "evalue": "name 'sample_df' is not defined",
     "output_type": "error",
     "traceback": [
      "\u001b[1;31m---------------------------------------------------------------------------\u001b[0m",
      "\u001b[1;31mNameError\u001b[0m                                 Traceback (most recent call last)",
      "\u001b[1;32m<ipython-input-99-56e86617b6f3>\u001b[0m in \u001b[0;36m<module>\u001b[1;34m\u001b[0m\n\u001b[0;32m      1\u001b[0m \u001b[1;31m# get the shape of the first image array\u001b[0m\u001b[1;33m\u001b[0m\u001b[1;33m\u001b[0m\u001b[1;33m\u001b[0m\u001b[0m\n\u001b[1;32m----> 2\u001b[1;33m \u001b[0msample_df\u001b[0m\u001b[1;33m[\u001b[0m\u001b[1;34m'img_array'\u001b[0m\u001b[1;33m]\u001b[0m\u001b[1;33m[\u001b[0m\u001b[1;36m0\u001b[0m\u001b[1;33m]\u001b[0m\u001b[1;33m.\u001b[0m\u001b[0mshape\u001b[0m\u001b[1;33m\u001b[0m\u001b[1;33m\u001b[0m\u001b[0m\n\u001b[0m",
      "\u001b[1;31mNameError\u001b[0m: name 'sample_df' is not defined"
     ]
    }
   ],
   "source": [
    "# get the shape of the first image array\n",
    "sample_df['img_array'][0].shape"
   ]
  },
  {
   "cell_type": "code",
   "execution_count": 100,
   "metadata": {},
   "outputs": [
    {
     "ename": "NameError",
     "evalue": "name 'sample_df' is not defined",
     "output_type": "error",
     "traceback": [
      "\u001b[1;31m---------------------------------------------------------------------------\u001b[0m",
      "\u001b[1;31mNameError\u001b[0m                                 Traceback (most recent call last)",
      "\u001b[1;32m<ipython-input-100-f39b0bfe1d6e>\u001b[0m in \u001b[0;36m<module>\u001b[1;34m\u001b[0m\n\u001b[0;32m      1\u001b[0m \u001b[1;31m# Apply PCA transformation to each row in the img_array column\u001b[0m\u001b[1;33m\u001b[0m\u001b[1;33m\u001b[0m\u001b[1;33m\u001b[0m\u001b[0m\n\u001b[0;32m      2\u001b[0m \u001b[1;31m# hint: the transform function accepts a list, so if you wanted to feed it one value you would have to place that value in a list\u001b[0m\u001b[1;33m\u001b[0m\u001b[1;33m\u001b[0m\u001b[1;33m\u001b[0m\u001b[0m\n\u001b[1;32m----> 3\u001b[1;33m \u001b[0msample_df\u001b[0m\u001b[1;33m[\u001b[0m\u001b[1;34m'pca_array'\u001b[0m\u001b[1;33m]\u001b[0m \u001b[1;33m=\u001b[0m \u001b[0msample_df\u001b[0m\u001b[1;33m[\u001b[0m\u001b[1;34m'img_array'\u001b[0m\u001b[1;33m]\u001b[0m\u001b[1;33m.\u001b[0m\u001b[0mprogress_apply\u001b[0m\u001b[1;33m(\u001b[0m\u001b[1;32mlambda\u001b[0m \u001b[0mx\u001b[0m\u001b[1;33m:\u001b[0m \u001b[0mimages_pca\u001b[0m\u001b[1;33m.\u001b[0m\u001b[0mtransform\u001b[0m\u001b[1;33m(\u001b[0m\u001b[1;33m[\u001b[0m\u001b[0mx\u001b[0m\u001b[1;33m]\u001b[0m\u001b[1;33m)\u001b[0m\u001b[1;33m.\u001b[0m\u001b[0mflatten\u001b[0m\u001b[1;33m(\u001b[0m\u001b[1;33m)\u001b[0m\u001b[1;33m)\u001b[0m\u001b[1;33m\u001b[0m\u001b[1;33m\u001b[0m\u001b[0m\n\u001b[0m",
      "\u001b[1;31mNameError\u001b[0m: name 'sample_df' is not defined"
     ]
    }
   ],
   "source": [
    "# Apply PCA transformation to each row in the img_array column\n",
    "# hint: the transform function accepts a list, so if you wanted to feed it one value you would have to place that value in a list\n",
    "sample_df['pca_array'] = sample_df['img_array'].progress_apply(lambda x: images_pca.transform([x]).flatten()) "
   ]
  },
  {
   "cell_type": "code",
   "execution_count": 102,
   "metadata": {},
   "outputs": [
    {
     "ename": "NameError",
     "evalue": "name 'sample_df' is not defined",
     "output_type": "error",
     "traceback": [
      "\u001b[1;31m---------------------------------------------------------------------------\u001b[0m",
      "\u001b[1;31mNameError\u001b[0m                                 Traceback (most recent call last)",
      "\u001b[1;32m<ipython-input-102-8aa1b4b18f6a>\u001b[0m in \u001b[0;36m<module>\u001b[1;34m\u001b[0m\n\u001b[1;32m----> 1\u001b[1;33m \u001b[0msample_df\u001b[0m\u001b[1;33m[\u001b[0m\u001b[1;34m'pca_array'\u001b[0m\u001b[1;33m]\u001b[0m\u001b[1;33m[\u001b[0m\u001b[1;36m0\u001b[0m\u001b[1;33m]\u001b[0m\u001b[1;33m.\u001b[0m\u001b[0mshape\u001b[0m\u001b[1;33m\u001b[0m\u001b[1;33m\u001b[0m\u001b[0m\n\u001b[0m\u001b[0;32m      2\u001b[0m \u001b[0msample_df\u001b[0m\u001b[1;33m.\u001b[0m\u001b[0mhead\u001b[0m\u001b[1;33m(\u001b[0m\u001b[1;33m)\u001b[0m\u001b[1;33m\u001b[0m\u001b[1;33m\u001b[0m\u001b[0m\n",
      "\u001b[1;31mNameError\u001b[0m: name 'sample_df' is not defined"
     ]
    }
   ],
   "source": [
    "sample_df['pca_array'][0].shape\n",
    "sample_df.head()\n"
   ]
  },
  {
   "cell_type": "code",
   "execution_count": 103,
   "metadata": {},
   "outputs": [
    {
     "ename": "NameError",
     "evalue": "name 'plt' is not defined",
     "output_type": "error",
     "traceback": [
      "\u001b[1;31m---------------------------------------------------------------------------\u001b[0m",
      "\u001b[1;31mNameError\u001b[0m                                 Traceback (most recent call last)",
      "\u001b[1;32m<ipython-input-103-59f2f847703b>\u001b[0m in \u001b[0;36m<module>\u001b[1;34m\u001b[0m\n\u001b[0;32m      1\u001b[0m \u001b[1;31m# visualizing the first 30 principle components\u001b[0m\u001b[1;33m\u001b[0m\u001b[1;33m\u001b[0m\u001b[1;33m\u001b[0m\u001b[0m\n\u001b[1;32m----> 2\u001b[1;33m \u001b[0mfig\u001b[0m\u001b[1;33m,\u001b[0m \u001b[0maxes\u001b[0m \u001b[1;33m=\u001b[0m \u001b[0mplt\u001b[0m\u001b[1;33m.\u001b[0m\u001b[0msubplots\u001b[0m\u001b[1;33m(\u001b[0m\u001b[1;36m3\u001b[0m\u001b[1;33m,\u001b[0m \u001b[1;36m10\u001b[0m\u001b[1;33m,\u001b[0m \u001b[0mfigsize\u001b[0m\u001b[1;33m=\u001b[0m\u001b[1;33m(\u001b[0m\u001b[1;36m30\u001b[0m\u001b[1;33m,\u001b[0m \u001b[1;36m10\u001b[0m\u001b[1;33m)\u001b[0m\u001b[1;33m)\u001b[0m\u001b[1;33m\u001b[0m\u001b[1;33m\u001b[0m\u001b[0m\n\u001b[0m\u001b[0;32m      3\u001b[0m \u001b[1;32mfor\u001b[0m \u001b[0mi\u001b[0m\u001b[1;33m,\u001b[0m \u001b[0max\u001b[0m \u001b[1;32min\u001b[0m \u001b[0menumerate\u001b[0m\u001b[1;33m(\u001b[0m\u001b[0maxes\u001b[0m\u001b[1;33m.\u001b[0m\u001b[0mflat\u001b[0m\u001b[1;33m)\u001b[0m\u001b[1;33m:\u001b[0m\u001b[1;33m\u001b[0m\u001b[1;33m\u001b[0m\u001b[0m\n\u001b[0;32m      4\u001b[0m     \u001b[1;31m# return each of the components, and reshape them to 50x50\u001b[0m\u001b[1;33m\u001b[0m\u001b[1;33m\u001b[0m\u001b[1;33m\u001b[0m\u001b[0m\n\u001b[0;32m      5\u001b[0m     \u001b[0max\u001b[0m\u001b[1;33m.\u001b[0m\u001b[0mimshow\u001b[0m\u001b[1;33m(\u001b[0m\u001b[0mimages_pca\u001b[0m\u001b[1;33m.\u001b[0m\u001b[0mcomponents_\u001b[0m\u001b[1;33m[\u001b[0m\u001b[0mi\u001b[0m\u001b[1;33m]\u001b[0m\u001b[1;33m.\u001b[0m\u001b[0mreshape\u001b[0m\u001b[1;33m(\u001b[0m\u001b[1;36m50\u001b[0m\u001b[1;33m,\u001b[0m \u001b[1;36m50\u001b[0m\u001b[1;33m)\u001b[0m\u001b[1;33m,\u001b[0m \u001b[0mcmap\u001b[0m\u001b[1;33m=\u001b[0m\u001b[1;34m'binary_r'\u001b[0m\u001b[1;33m)\u001b[0m\u001b[1;33m\u001b[0m\u001b[1;33m\u001b[0m\u001b[0m\n",
      "\u001b[1;31mNameError\u001b[0m: name 'plt' is not defined"
     ]
    }
   ],
   "source": [
    "# visualizing the first 30 principle components\n",
    "fig, axes = plt.subplots(3, 10, figsize=(30, 10))\n",
    "for i, ax in enumerate(axes.flat):\n",
    "    # return each of the components, and reshape them to 50x50\n",
    "    ax.imshow(images_pca.components_[i].reshape(50, 50), cmap='binary_r')"
   ]
  },
  {
   "cell_type": "code",
   "execution_count": 104,
   "metadata": {},
   "outputs": [
    {
     "ename": "NameError",
     "evalue": "name 'img_arrays' is not defined",
     "output_type": "error",
     "traceback": [
      "\u001b[1;31m---------------------------------------------------------------------------\u001b[0m",
      "\u001b[1;31mNameError\u001b[0m                                 Traceback (most recent call last)",
      "\u001b[1;32m<ipython-input-104-60bb6d6abb53>\u001b[0m in \u001b[0;36m<module>\u001b[1;34m\u001b[0m\n\u001b[1;32m----> 1\u001b[1;33m \u001b[0mcomponents\u001b[0m \u001b[1;33m=\u001b[0m \u001b[0mimages_pca\u001b[0m\u001b[1;33m.\u001b[0m\u001b[0mtransform\u001b[0m\u001b[1;33m(\u001b[0m\u001b[0mimg_arrays\u001b[0m\u001b[1;33m)\u001b[0m\u001b[1;33m\u001b[0m\u001b[1;33m\u001b[0m\u001b[0m\n\u001b[0m\u001b[0;32m      2\u001b[0m \u001b[0mprojected\u001b[0m \u001b[1;33m=\u001b[0m \u001b[0mimages_pca\u001b[0m\u001b[1;33m.\u001b[0m\u001b[0minverse_transform\u001b[0m\u001b[1;33m(\u001b[0m\u001b[0mcomponents\u001b[0m\u001b[1;33m)\u001b[0m\u001b[1;33m\u001b[0m\u001b[1;33m\u001b[0m\u001b[0m\n\u001b[0;32m      3\u001b[0m \u001b[1;33m\u001b[0m\u001b[0m\n\u001b[0;32m      4\u001b[0m \u001b[1;31m# Plot the results\u001b[0m\u001b[1;33m\u001b[0m\u001b[1;33m\u001b[0m\u001b[1;33m\u001b[0m\u001b[0m\n\u001b[0;32m      5\u001b[0m \u001b[0mfig\u001b[0m\u001b[1;33m,\u001b[0m \u001b[0max\u001b[0m \u001b[1;33m=\u001b[0m \u001b[0mplt\u001b[0m\u001b[1;33m.\u001b[0m\u001b[0msubplots\u001b[0m\u001b[1;33m(\u001b[0m\u001b[1;36m2\u001b[0m\u001b[1;33m,\u001b[0m \u001b[1;36m10\u001b[0m\u001b[1;33m,\u001b[0m \u001b[0mfigsize\u001b[0m\u001b[1;33m=\u001b[0m\u001b[1;33m(\u001b[0m\u001b[1;36m30\u001b[0m\u001b[1;33m,\u001b[0m \u001b[1;36m7\u001b[0m\u001b[1;33m)\u001b[0m\u001b[1;33m)\u001b[0m\u001b[1;33m\u001b[0m\u001b[1;33m\u001b[0m\u001b[0m\n",
      "\u001b[1;31mNameError\u001b[0m: name 'img_arrays' is not defined"
     ]
    }
   ],
   "source": [
    "components = images_pca.transform(img_arrays)\n",
    "projected = images_pca.inverse_transform(components)\n",
    "\n",
    "# Plot the results\n",
    "fig, ax = plt.subplots(2, 10, figsize=(30, 7))\n",
    "for i in range(10):\n",
    "    ax[0, i].imshow(img_arrays[i].reshape(50, 50), cmap='binary_r')\n",
    "    ax[1, i].imshow(projected[i].reshape(50, 50), cmap='binary_r')\n",
    "    \n",
    "ax[0, 0].set_ylabel('Before PCA')\n",
    "ax[1, 0].set_ylabel('150-dim\\nReconstruction');"
   ]
  },
  {
   "cell_type": "code",
   "execution_count": 105,
   "metadata": {},
   "outputs": [
    {
     "ename": "NameError",
     "evalue": "name 'sample_df' is not defined",
     "output_type": "error",
     "traceback": [
      "\u001b[1;31m---------------------------------------------------------------------------\u001b[0m",
      "\u001b[1;31mNameError\u001b[0m                                 Traceback (most recent call last)",
      "\u001b[1;32m<ipython-input-105-630e32294d45>\u001b[0m in \u001b[0;36m<module>\u001b[1;34m\u001b[0m\n\u001b[0;32m      1\u001b[0m \u001b[1;31m# get the count of each of the target values\u001b[0m\u001b[1;33m\u001b[0m\u001b[1;33m\u001b[0m\u001b[1;33m\u001b[0m\u001b[0m\n\u001b[1;32m----> 2\u001b[1;33m \u001b[0msample_df\u001b[0m\u001b[1;33m[\u001b[0m\u001b[1;34m'target'\u001b[0m\u001b[1;33m]\u001b[0m\u001b[1;33m.\u001b[0m\u001b[0mvalue_counts\u001b[0m\u001b[1;33m(\u001b[0m\u001b[1;33m)\u001b[0m\u001b[1;33m\u001b[0m\u001b[1;33m\u001b[0m\u001b[0m\n\u001b[0m",
      "\u001b[1;31mNameError\u001b[0m: name 'sample_df' is not defined"
     ]
    }
   ],
   "source": [
    "# get the count of each of the target values\n",
    "sample_df['target'].value_counts() "
   ]
  },
  {
   "cell_type": "markdown",
   "metadata": {},
   "source": [
    "## train and test split\n",
    "\n",
    "#### undersampling"
   ]
  },
  {
   "cell_type": "code",
   "execution_count": 106,
   "metadata": {},
   "outputs": [
    {
     "ename": "NameError",
     "evalue": "name 'sample_df' is not defined",
     "output_type": "error",
     "traceback": [
      "\u001b[1;31m---------------------------------------------------------------------------\u001b[0m",
      "\u001b[1;31mNameError\u001b[0m                                 Traceback (most recent call last)",
      "\u001b[1;32m<ipython-input-106-a63592d9bf53>\u001b[0m in \u001b[0;36m<module>\u001b[1;34m\u001b[0m\n\u001b[0;32m      1\u001b[0m \u001b[1;31m# get the dataframe containing the negative target variables\u001b[0m\u001b[1;33m\u001b[0m\u001b[1;33m\u001b[0m\u001b[1;33m\u001b[0m\u001b[0m\n\u001b[1;32m----> 2\u001b[1;33m \u001b[0mnegative\u001b[0m \u001b[1;33m=\u001b[0m \u001b[0msample_df\u001b[0m\u001b[1;33m[\u001b[0m\u001b[0msample_df\u001b[0m\u001b[1;33m[\u001b[0m\u001b[1;34m'target'\u001b[0m\u001b[1;33m]\u001b[0m \u001b[1;33m==\u001b[0m \u001b[1;36m0\u001b[0m\u001b[1;33m]\u001b[0m\u001b[1;33m\u001b[0m\u001b[1;33m\u001b[0m\u001b[0m\n\u001b[0m\u001b[0;32m      3\u001b[0m \u001b[1;31m# get the dataframe containing the positive target variables\u001b[0m\u001b[1;33m\u001b[0m\u001b[1;33m\u001b[0m\u001b[1;33m\u001b[0m\u001b[0m\n\u001b[0;32m      4\u001b[0m \u001b[0mpositive\u001b[0m \u001b[1;33m=\u001b[0m \u001b[0msample_df\u001b[0m\u001b[1;33m[\u001b[0m\u001b[0msample_df\u001b[0m\u001b[1;33m[\u001b[0m\u001b[1;34m'target'\u001b[0m\u001b[1;33m]\u001b[0m \u001b[1;33m==\u001b[0m \u001b[1;36m1\u001b[0m\u001b[1;33m]\u001b[0m\u001b[1;33m\u001b[0m\u001b[1;33m\u001b[0m\u001b[0m\n\u001b[0;32m      5\u001b[0m \u001b[1;31m# get the shapes of each dataframe\u001b[0m\u001b[1;33m\u001b[0m\u001b[1;33m\u001b[0m\u001b[1;33m\u001b[0m\u001b[0m\n",
      "\u001b[1;31mNameError\u001b[0m: name 'sample_df' is not defined"
     ]
    }
   ],
   "source": [
    "# get the dataframe containing the negative target variables\n",
    "negative = sample_df[sample_df['target'] == 0]\n",
    "# get the dataframe containing the positive target variables\n",
    "positive = sample_df[sample_df['target'] == 1]\n",
    "# get the shapes of each dataframe\n",
    "display(negative.shape)\n",
    "display(positive.shape)"
   ]
  },
  {
   "cell_type": "code",
   "execution_count": 107,
   "metadata": {},
   "outputs": [
    {
     "ename": "NameError",
     "evalue": "name 'negative' is not defined",
     "output_type": "error",
     "traceback": [
      "\u001b[1;31m---------------------------------------------------------------------------\u001b[0m",
      "\u001b[1;31mNameError\u001b[0m                                 Traceback (most recent call last)",
      "\u001b[1;32m<ipython-input-107-e70a4eb34540>\u001b[0m in \u001b[0;36m<module>\u001b[1;34m\u001b[0m\n\u001b[0;32m      1\u001b[0m \u001b[1;32mfrom\u001b[0m \u001b[0msklearn\u001b[0m\u001b[1;33m.\u001b[0m\u001b[0mutils\u001b[0m \u001b[1;32mimport\u001b[0m \u001b[0mresample\u001b[0m\u001b[1;33m\u001b[0m\u001b[1;33m\u001b[0m\u001b[0m\n\u001b[0;32m      2\u001b[0m \u001b[1;31m# downsample the negative targets\u001b[0m\u001b[1;33m\u001b[0m\u001b[1;33m\u001b[0m\u001b[1;33m\u001b[0m\u001b[0m\n\u001b[1;32m----> 3\u001b[1;33m \u001b[0mneg_downsampled\u001b[0m \u001b[1;33m=\u001b[0m \u001b[0mresample\u001b[0m\u001b[1;33m(\u001b[0m\u001b[0mnegative\u001b[0m\u001b[1;33m,\u001b[0m\u001b[0mn_samples\u001b[0m\u001b[1;33m=\u001b[0m\u001b[0mpositive\u001b[0m\u001b[1;33m.\u001b[0m\u001b[0mshape\u001b[0m\u001b[1;33m[\u001b[0m\u001b[1;36m0\u001b[0m\u001b[1;33m]\u001b[0m\u001b[1;33m,\u001b[0m \u001b[0mrandom_state\u001b[0m\u001b[1;33m=\u001b[0m\u001b[1;36m42\u001b[0m\u001b[1;33m)\u001b[0m\u001b[1;33m\u001b[0m\u001b[1;33m\u001b[0m\u001b[0m\n\u001b[0m\u001b[0;32m      4\u001b[0m \u001b[1;31m# combine minority and downsampled majority\u001b[0m\u001b[1;33m\u001b[0m\u001b[1;33m\u001b[0m\u001b[1;33m\u001b[0m\u001b[0m\n\u001b[0;32m      5\u001b[0m \u001b[0mdownsampled\u001b[0m \u001b[1;33m=\u001b[0m \u001b[0mpd\u001b[0m\u001b[1;33m.\u001b[0m\u001b[0mconcat\u001b[0m\u001b[1;33m(\u001b[0m\u001b[1;33m[\u001b[0m\u001b[0mpositive\u001b[0m\u001b[1;33m,\u001b[0m \u001b[0mneg_downsampled\u001b[0m\u001b[1;33m]\u001b[0m\u001b[1;33m)\u001b[0m\u001b[1;33m\u001b[0m\u001b[1;33m\u001b[0m\u001b[0m\n",
      "\u001b[1;31mNameError\u001b[0m: name 'negative' is not defined"
     ]
    }
   ],
   "source": [
    "from sklearn.utils import resample\n",
    "# downsample the negative targets\n",
    "neg_downsampled = resample(negative,n_samples=positive.shape[0], random_state=42)\n",
    "# combine minority and downsampled majority\n",
    "downsampled = pd.concat([positive, neg_downsampled])\n",
    "# check new class counts\n",
    "downsampled['target'].value_counts()"
   ]
  },
  {
   "cell_type": "code",
   "execution_count": 108,
   "metadata": {},
   "outputs": [
    {
     "ename": "NameError",
     "evalue": "name 'downsampled' is not defined",
     "output_type": "error",
     "traceback": [
      "\u001b[1;31m---------------------------------------------------------------------------\u001b[0m",
      "\u001b[1;31mNameError\u001b[0m                                 Traceback (most recent call last)",
      "\u001b[1;32m<ipython-input-108-9acfe0218373>\u001b[0m in \u001b[0;36m<module>\u001b[1;34m\u001b[0m\n\u001b[0;32m      1\u001b[0m \u001b[1;31m# show the first 5 values of the dataframe\u001b[0m\u001b[1;33m\u001b[0m\u001b[1;33m\u001b[0m\u001b[1;33m\u001b[0m\u001b[0m\n\u001b[1;32m----> 2\u001b[1;33m \u001b[0mdownsampled\u001b[0m\u001b[1;33m.\u001b[0m\u001b[0mhead\u001b[0m\u001b[1;33m(\u001b[0m\u001b[1;33m)\u001b[0m\u001b[1;33m\u001b[0m\u001b[1;33m\u001b[0m\u001b[0m\n\u001b[0m",
      "\u001b[1;31mNameError\u001b[0m: name 'downsampled' is not defined"
     ]
    }
   ],
   "source": [
    "# show the first 5 values of the dataframe\n",
    "downsampled.head()"
   ]
  },
  {
   "cell_type": "code",
   "execution_count": 109,
   "metadata": {},
   "outputs": [
    {
     "ename": "NameError",
     "evalue": "name 'downsampled' is not defined",
     "output_type": "error",
     "traceback": [
      "\u001b[1;31m---------------------------------------------------------------------------\u001b[0m",
      "\u001b[1;31mNameError\u001b[0m                                 Traceback (most recent call last)",
      "\u001b[1;32m<ipython-input-109-40f2f6da9825>\u001b[0m in \u001b[0;36m<module>\u001b[1;34m\u001b[0m\n\u001b[0;32m      1\u001b[0m \u001b[1;31m# let's extract our variables of interest and store them in a new dataframe\u001b[0m\u001b[1;33m\u001b[0m\u001b[1;33m\u001b[0m\u001b[1;33m\u001b[0m\u001b[0m\n\u001b[1;32m----> 2\u001b[1;33m \u001b[0mdfd\u001b[0m \u001b[1;33m=\u001b[0m \u001b[0mdownsampled\u001b[0m\u001b[1;33m.\u001b[0m\u001b[0mloc\u001b[0m\u001b[1;33m[\u001b[0m\u001b[1;33m:\u001b[0m\u001b[1;33m,\u001b[0m\u001b[1;33m[\u001b[0m\u001b[1;34m'img_array'\u001b[0m\u001b[1;33m,\u001b[0m\u001b[1;34m'pca_array'\u001b[0m\u001b[1;33m,\u001b[0m\u001b[1;34m'target'\u001b[0m\u001b[1;33m]\u001b[0m\u001b[1;33m]\u001b[0m\u001b[1;33m\u001b[0m\u001b[1;33m\u001b[0m\u001b[0m\n\u001b[0m",
      "\u001b[1;31mNameError\u001b[0m: name 'downsampled' is not defined"
     ]
    }
   ],
   "source": [
    "# let's extract our variables of interest and store them in a new dataframe\n",
    "dfd = downsampled.loc[:,['img_array','pca_array','target']]"
   ]
  },
  {
   "cell_type": "code",
   "execution_count": 110,
   "metadata": {},
   "outputs": [
    {
     "ename": "NameError",
     "evalue": "name 'dfd' is not defined",
     "output_type": "error",
     "traceback": [
      "\u001b[1;31m---------------------------------------------------------------------------\u001b[0m",
      "\u001b[1;31mNameError\u001b[0m                                 Traceback (most recent call last)",
      "\u001b[1;32m<ipython-input-110-6d695a93dd1d>\u001b[0m in \u001b[0;36m<module>\u001b[1;34m\u001b[0m\n\u001b[0;32m      1\u001b[0m \u001b[1;31m# get the number of rows in the pandas dataframe in order to determine the number of rows in our numpy array\u001b[0m\u001b[1;33m\u001b[0m\u001b[1;33m\u001b[0m\u001b[1;33m\u001b[0m\u001b[0m\n\u001b[1;32m----> 2\u001b[1;33m \u001b[0mnrows\u001b[0m\u001b[1;33m=\u001b[0m\u001b[0mdfd\u001b[0m\u001b[1;33m.\u001b[0m\u001b[0mshape\u001b[0m\u001b[1;33m[\u001b[0m\u001b[1;36m0\u001b[0m\u001b[1;33m]\u001b[0m\u001b[1;33m\u001b[0m\u001b[1;33m\u001b[0m\u001b[0m\n\u001b[0m\u001b[0;32m      3\u001b[0m \u001b[1;31m# set the number of columns to 150, which is the length of our array\u001b[0m\u001b[1;33m\u001b[0m\u001b[1;33m\u001b[0m\u001b[1;33m\u001b[0m\u001b[0m\n\u001b[0;32m      4\u001b[0m \u001b[0mncols\u001b[0m\u001b[1;33m=\u001b[0m\u001b[1;36m150\u001b[0m\u001b[1;33m\u001b[0m\u001b[1;33m\u001b[0m\u001b[0m\n\u001b[0;32m      5\u001b[0m \u001b[1;31m# initialize the array using the information above\u001b[0m\u001b[1;33m\u001b[0m\u001b[1;33m\u001b[0m\u001b[1;33m\u001b[0m\u001b[0m\n",
      "\u001b[1;31mNameError\u001b[0m: name 'dfd' is not defined"
     ]
    }
   ],
   "source": [
    "# get the number of rows in the pandas dataframe in order to determine the number of rows in our numpy array\n",
    "nrows=dfd.shape[0]\n",
    "# set the number of columns to 150, which is the length of our array\n",
    "ncols=150\n",
    "# initialize the array using the information above\n",
    "pca_arrays= np.zeros((nrows,ncols))\n",
    "print(pca_arrays.shape)"
   ]
  },
  {
   "cell_type": "code",
   "execution_count": 111,
   "metadata": {},
   "outputs": [
    {
     "ename": "NameError",
     "evalue": "name 'dfd' is not defined",
     "output_type": "error",
     "traceback": [
      "\u001b[1;31m---------------------------------------------------------------------------\u001b[0m",
      "\u001b[1;31mNameError\u001b[0m                                 Traceback (most recent call last)",
      "\u001b[1;32m<ipython-input-111-13d03310ce82>\u001b[0m in \u001b[0;36m<module>\u001b[1;34m\u001b[0m\n\u001b[0;32m      1\u001b[0m \u001b[1;31m# loop over the array and replace the data\u001b[0m\u001b[1;33m\u001b[0m\u001b[1;33m\u001b[0m\u001b[1;33m\u001b[0m\u001b[0m\n\u001b[1;32m----> 2\u001b[1;33m \u001b[1;32mfor\u001b[0m \u001b[0mi\u001b[0m\u001b[1;33m,\u001b[0m\u001b[0marray\u001b[0m \u001b[1;32min\u001b[0m \u001b[0menumerate\u001b[0m\u001b[1;33m(\u001b[0m\u001b[0mdfd\u001b[0m\u001b[1;33m[\u001b[0m\u001b[1;34m'pca_array'\u001b[0m\u001b[1;33m]\u001b[0m\u001b[1;33m)\u001b[0m\u001b[1;33m:\u001b[0m\u001b[1;33m\u001b[0m\u001b[1;33m\u001b[0m\u001b[0m\n\u001b[0m\u001b[0;32m      3\u001b[0m     \u001b[0mpca_arrays\u001b[0m\u001b[1;33m[\u001b[0m\u001b[0mi\u001b[0m\u001b[1;33m,\u001b[0m\u001b[1;33m:\u001b[0m\u001b[1;33m]\u001b[0m \u001b[1;33m=\u001b[0m \u001b[0marray\u001b[0m\u001b[1;33m\u001b[0m\u001b[1;33m\u001b[0m\u001b[0m\n",
      "\u001b[1;31mNameError\u001b[0m: name 'dfd' is not defined"
     ]
    }
   ],
   "source": [
    "# loop over the array and replace the data\n",
    "for i,array in enumerate(dfd['pca_array']):\n",
    "    pca_arrays[i,:] = array"
   ]
  },
  {
   "cell_type": "code",
   "execution_count": 112,
   "metadata": {},
   "outputs": [
    {
     "ename": "NameError",
     "evalue": "name 'pca_arrays' is not defined",
     "output_type": "error",
     "traceback": [
      "\u001b[1;31m---------------------------------------------------------------------------\u001b[0m",
      "\u001b[1;31mNameError\u001b[0m                                 Traceback (most recent call last)",
      "\u001b[1;32m<ipython-input-112-6161afd78391>\u001b[0m in \u001b[0;36m<module>\u001b[1;34m\u001b[0m\n\u001b[0;32m      1\u001b[0m \u001b[1;32mfrom\u001b[0m \u001b[0msklearn\u001b[0m\u001b[1;33m.\u001b[0m\u001b[0mmodel_selection\u001b[0m \u001b[1;32mimport\u001b[0m \u001b[0mtrain_test_split\u001b[0m\u001b[1;33m\u001b[0m\u001b[1;33m\u001b[0m\u001b[0m\n\u001b[0;32m      2\u001b[0m \u001b[1;31m# split our data into training and testing data, and input data and target data\u001b[0m\u001b[1;33m\u001b[0m\u001b[1;33m\u001b[0m\u001b[1;33m\u001b[0m\u001b[0m\n\u001b[1;32m----> 3\u001b[1;33m \u001b[0mX_train\u001b[0m\u001b[1;33m,\u001b[0m \u001b[0mX_test\u001b[0m\u001b[1;33m,\u001b[0m \u001b[0my_train\u001b[0m\u001b[1;33m,\u001b[0m \u001b[0my_test\u001b[0m \u001b[1;33m=\u001b[0m  \u001b[0mtrain_test_split\u001b[0m\u001b[1;33m(\u001b[0m\u001b[0mpca_arrays\u001b[0m\u001b[1;33m,\u001b[0m \u001b[0mdfd\u001b[0m\u001b[1;33m[\u001b[0m\u001b[1;34m'target'\u001b[0m\u001b[1;33m]\u001b[0m\u001b[1;33m,\u001b[0m \u001b[0mtrain_size\u001b[0m\u001b[1;33m=\u001b[0m\u001b[1;36m0.7\u001b[0m\u001b[1;33m,\u001b[0m \u001b[0mshuffle\u001b[0m \u001b[1;33m=\u001b[0m \u001b[1;32mTrue\u001b[0m\u001b[1;33m)\u001b[0m\u001b[1;33m\u001b[0m\u001b[1;33m\u001b[0m\u001b[0m\n\u001b[0m",
      "\u001b[1;31mNameError\u001b[0m: name 'pca_arrays' is not defined"
     ]
    }
   ],
   "source": [
    "from sklearn.model_selection import train_test_split\n",
    "# split our data into training and testing data, and input data and target data\n",
    "X_train, X_test, y_train, y_test =  train_test_split(pca_arrays, dfd['target'], train_size=0.7, shuffle = True)"
   ]
  },
  {
   "cell_type": "code",
   "execution_count": 113,
   "metadata": {},
   "outputs": [
    {
     "ename": "NameError",
     "evalue": "name 'X_train' is not defined",
     "output_type": "error",
     "traceback": [
      "\u001b[1;31m---------------------------------------------------------------------------\u001b[0m",
      "\u001b[1;31mNameError\u001b[0m                                 Traceback (most recent call last)",
      "\u001b[1;32m<ipython-input-113-3c5e90f33ac3>\u001b[0m in \u001b[0;36m<module>\u001b[1;34m\u001b[0m\n\u001b[0;32m      1\u001b[0m \u001b[1;31m# compare the shape of the train and test inputs\u001b[0m\u001b[1;33m\u001b[0m\u001b[1;33m\u001b[0m\u001b[1;33m\u001b[0m\u001b[0m\n\u001b[1;32m----> 2\u001b[1;33m \u001b[0mprint\u001b[0m\u001b[1;33m(\u001b[0m\u001b[1;34mf'X_train Shape: {X_train.shape}'\u001b[0m\u001b[1;33m)\u001b[0m\u001b[1;33m\u001b[0m\u001b[1;33m\u001b[0m\u001b[0m\n\u001b[0m\u001b[0;32m      3\u001b[0m \u001b[0mprint\u001b[0m\u001b[1;33m(\u001b[0m\u001b[1;34mf'X_test Shape: {X_test.shape}'\u001b[0m\u001b[1;33m)\u001b[0m\u001b[1;33m\u001b[0m\u001b[1;33m\u001b[0m\u001b[0m\n\u001b[0;32m      4\u001b[0m \u001b[0mprint\u001b[0m\u001b[1;33m(\u001b[0m\u001b[1;34mf'y_train Shape: {y_train.shape}'\u001b[0m\u001b[1;33m)\u001b[0m\u001b[1;33m\u001b[0m\u001b[1;33m\u001b[0m\u001b[0m\n\u001b[0;32m      5\u001b[0m \u001b[0mprint\u001b[0m\u001b[1;33m(\u001b[0m\u001b[1;34mf'y_test Shape: {y_test.shape}'\u001b[0m\u001b[1;33m)\u001b[0m\u001b[1;33m\u001b[0m\u001b[1;33m\u001b[0m\u001b[0m\n",
      "\u001b[1;31mNameError\u001b[0m: name 'X_train' is not defined"
     ]
    }
   ],
   "source": [
    "# compare the shape of the train and test inputs\n",
    "print(f'X_train Shape: {X_train.shape}')\n",
    "print(f'X_test Shape: {X_test.shape}')\n",
    "print(f'y_train Shape: {y_train.shape}')\n",
    "print(f'y_test Shape: {y_test.shape}')"
   ]
  },
  {
   "cell_type": "markdown",
   "metadata": {},
   "source": [
    "## training"
   ]
  },
  {
   "cell_type": "code",
   "execution_count": 114,
   "metadata": {},
   "outputs": [],
   "source": [
    "from sklearn.svm import SVC\n",
    "svc_rbf = SVC(kernel = 'rbf',gamma = 'auto' )\n",
    "svc_linear = SVC(kernel='linear',gamma = 'auto')"
   ]
  },
  {
   "cell_type": "code",
   "execution_count": 115,
   "metadata": {},
   "outputs": [
    {
     "ename": "NameError",
     "evalue": "name 'X_train' is not defined",
     "output_type": "error",
     "traceback": [
      "\u001b[1;31m---------------------------------------------------------------------------\u001b[0m",
      "\u001b[1;31mNameError\u001b[0m                                 Traceback (most recent call last)",
      "\u001b[1;32m<ipython-input-115-a833bf72fa2c>\u001b[0m in \u001b[0;36m<module>\u001b[1;34m\u001b[0m\n\u001b[0;32m      1\u001b[0m \u001b[1;31m# fitting our models\u001b[0m\u001b[1;33m\u001b[0m\u001b[1;33m\u001b[0m\u001b[1;33m\u001b[0m\u001b[0m\n\u001b[1;32m----> 2\u001b[1;33m \u001b[0msvc_rbf\u001b[0m\u001b[1;33m.\u001b[0m\u001b[0mfit\u001b[0m\u001b[1;33m(\u001b[0m\u001b[0mX\u001b[0m \u001b[1;33m=\u001b[0m \u001b[0mX_train\u001b[0m\u001b[1;33m,\u001b[0m\u001b[0my\u001b[0m \u001b[1;33m=\u001b[0m \u001b[0my_train\u001b[0m\u001b[1;33m)\u001b[0m\u001b[1;33m;\u001b[0m\u001b[1;33m\u001b[0m\u001b[1;33m\u001b[0m\u001b[0m\n\u001b[0m\u001b[0;32m      3\u001b[0m \u001b[0msvc_linear\u001b[0m\u001b[1;33m.\u001b[0m\u001b[0mfit\u001b[0m\u001b[1;33m(\u001b[0m\u001b[0mX\u001b[0m \u001b[1;33m=\u001b[0m \u001b[0mX_train\u001b[0m\u001b[1;33m,\u001b[0m\u001b[0my\u001b[0m \u001b[1;33m=\u001b[0m \u001b[0my_train\u001b[0m\u001b[1;33m)\u001b[0m\u001b[1;33m;\u001b[0m\u001b[1;33m\u001b[0m\u001b[1;33m\u001b[0m\u001b[0m\n",
      "\u001b[1;31mNameError\u001b[0m: name 'X_train' is not defined"
     ]
    }
   ],
   "source": [
    "# fitting our models\n",
    "svc_rbf.fit(X = X_train,y = y_train);\n",
    "svc_linear.fit(X = X_train,y = y_train);"
   ]
  },
  {
   "cell_type": "code",
   "execution_count": 116,
   "metadata": {},
   "outputs": [
    {
     "ename": "NameError",
     "evalue": "name 'X_train' is not defined",
     "output_type": "error",
     "traceback": [
      "\u001b[1;31m---------------------------------------------------------------------------\u001b[0m",
      "\u001b[1;31mNameError\u001b[0m                                 Traceback (most recent call last)",
      "\u001b[1;32m<ipython-input-116-d4e8ca0914ea>\u001b[0m in \u001b[0;36m<module>\u001b[1;34m\u001b[0m\n\u001b[1;32m----> 1\u001b[1;33m \u001b[0mprint\u001b[0m\u001b[1;33m(\u001b[0m\u001b[0msvc_linear\u001b[0m\u001b[1;33m.\u001b[0m\u001b[0mscore\u001b[0m\u001b[1;33m(\u001b[0m\u001b[0mX_train\u001b[0m\u001b[1;33m,\u001b[0m\u001b[0my_train\u001b[0m\u001b[1;33m)\u001b[0m\u001b[1;33m)\u001b[0m\u001b[1;33m\u001b[0m\u001b[1;33m\u001b[0m\u001b[0m\n\u001b[0m\u001b[0;32m      2\u001b[0m \u001b[0mprint\u001b[0m\u001b[1;33m(\u001b[0m\u001b[0msvc_rbf\u001b[0m\u001b[1;33m.\u001b[0m\u001b[0mscore\u001b[0m\u001b[1;33m(\u001b[0m\u001b[0mX_train\u001b[0m\u001b[1;33m,\u001b[0m\u001b[0my_train\u001b[0m\u001b[1;33m)\u001b[0m\u001b[1;33m)\u001b[0m\u001b[1;33m\u001b[0m\u001b[1;33m\u001b[0m\u001b[0m\n",
      "\u001b[1;31mNameError\u001b[0m: name 'X_train' is not defined"
     ]
    }
   ],
   "source": [
    "print(svc_linear.score(X_train,y_train))\n",
    "print(svc_rbf.score(X_train,y_train))"
   ]
  },
  {
   "cell_type": "code",
   "execution_count": 117,
   "metadata": {},
   "outputs": [
    {
     "ename": "NameError",
     "evalue": "name 'X_test' is not defined",
     "output_type": "error",
     "traceback": [
      "\u001b[1;31m---------------------------------------------------------------------------\u001b[0m",
      "\u001b[1;31mNameError\u001b[0m                                 Traceback (most recent call last)",
      "\u001b[1;32m<ipython-input-117-87c0e471b7fa>\u001b[0m in \u001b[0;36m<module>\u001b[1;34m\u001b[0m\n\u001b[1;32m----> 1\u001b[1;33m \u001b[0mprint\u001b[0m\u001b[1;33m(\u001b[0m\u001b[0msvc_linear\u001b[0m\u001b[1;33m.\u001b[0m\u001b[0mscore\u001b[0m\u001b[1;33m(\u001b[0m\u001b[0mX_test\u001b[0m\u001b[1;33m,\u001b[0m\u001b[0my_test\u001b[0m\u001b[1;33m)\u001b[0m\u001b[1;33m)\u001b[0m\u001b[1;33m\u001b[0m\u001b[1;33m\u001b[0m\u001b[0m\n\u001b[0m\u001b[0;32m      2\u001b[0m \u001b[0mprint\u001b[0m\u001b[1;33m(\u001b[0m\u001b[0msvc_rbf\u001b[0m\u001b[1;33m.\u001b[0m\u001b[0mscore\u001b[0m\u001b[1;33m(\u001b[0m\u001b[0mX_test\u001b[0m\u001b[1;33m,\u001b[0m\u001b[0my_test\u001b[0m\u001b[1;33m)\u001b[0m\u001b[1;33m)\u001b[0m\u001b[1;33m\u001b[0m\u001b[1;33m\u001b[0m\u001b[0m\n",
      "\u001b[1;31mNameError\u001b[0m: name 'X_test' is not defined"
     ]
    }
   ],
   "source": [
    "print(svc_linear.score(X_test,y_test))\n",
    "print(svc_rbf.score(X_test,y_test))"
   ]
  },
  {
   "cell_type": "markdown",
   "metadata": {},
   "source": [
    "## Confusion matrix"
   ]
  },
  {
   "cell_type": "code",
   "execution_count": 118,
   "metadata": {},
   "outputs": [
    {
     "ename": "NameError",
     "evalue": "name 'y_test' is not defined",
     "output_type": "error",
     "traceback": [
      "\u001b[1;31m---------------------------------------------------------------------------\u001b[0m",
      "\u001b[1;31mNameError\u001b[0m                                 Traceback (most recent call last)",
      "\u001b[1;32m<ipython-input-118-bce00b93386b>\u001b[0m in \u001b[0;36m<module>\u001b[1;34m\u001b[0m\n\u001b[0;32m      1\u001b[0m \u001b[1;32mfrom\u001b[0m \u001b[0msklearn\u001b[0m\u001b[1;33m.\u001b[0m\u001b[0mmetrics\u001b[0m \u001b[1;32mimport\u001b[0m \u001b[0mconfusion_matrix\u001b[0m\u001b[1;33m\u001b[0m\u001b[1;33m\u001b[0m\u001b[0m\n\u001b[0;32m      2\u001b[0m \u001b[1;33m\u001b[0m\u001b[0m\n\u001b[1;32m----> 3\u001b[1;33m \u001b[0mtn\u001b[0m\u001b[1;33m,\u001b[0m \u001b[0mfp\u001b[0m\u001b[1;33m,\u001b[0m \u001b[0mfn\u001b[0m\u001b[1;33m,\u001b[0m \u001b[0mtp\u001b[0m \u001b[1;33m=\u001b[0m \u001b[0mconfusion_matrix\u001b[0m\u001b[1;33m(\u001b[0m\u001b[0my_true\u001b[0m\u001b[1;33m=\u001b[0m\u001b[0my_test\u001b[0m\u001b[1;33m,\u001b[0m\u001b[0my_pred\u001b[0m\u001b[1;33m=\u001b[0m\u001b[0msvc_linear\u001b[0m\u001b[1;33m.\u001b[0m\u001b[0mpredict\u001b[0m\u001b[1;33m(\u001b[0m\u001b[0mX_test\u001b[0m\u001b[1;33m)\u001b[0m\u001b[1;33m)\u001b[0m\u001b[1;33m.\u001b[0m\u001b[0mravel\u001b[0m\u001b[1;33m(\u001b[0m\u001b[1;33m)\u001b[0m\u001b[1;33m\u001b[0m\u001b[1;33m\u001b[0m\u001b[0m\n\u001b[0m\u001b[0;32m      4\u001b[0m \u001b[1;33m\u001b[0m\u001b[0m\n\u001b[0;32m      5\u001b[0m \u001b[0mprint\u001b[0m\u001b[1;33m(\u001b[0m\u001b[1;34mf'training set: true negatives: {tn}'\u001b[0m\u001b[1;33m)\u001b[0m\u001b[1;33m\u001b[0m\u001b[1;33m\u001b[0m\u001b[0m\n",
      "\u001b[1;31mNameError\u001b[0m: name 'y_test' is not defined"
     ]
    }
   ],
   "source": [
    "from sklearn.metrics import confusion_matrix\n",
    "\n",
    "tn, fp, fn, tp = confusion_matrix(y_true=y_test,y_pred=svc_linear.predict(X_test)).ravel()\n",
    "\n",
    "print(f'training set: true negatives: {tn}')\n",
    "print(f'training set: true positives: {tp}')\n",
    "print(f'training set: false negatives: {fn}')\n",
    "print(f'training set: false positives: {fp}')"
   ]
  },
  {
   "cell_type": "code",
   "execution_count": 120,
   "metadata": {},
   "outputs": [],
   "source": [
    "def confusion_vectors(predicted,actual):\n",
    "    '''\n",
    "    Function returns:\n",
    "        # 0 False Negative\n",
    "        # 1 True  Negative\n",
    "        # 3 True  Positive\n",
    "        # 4 False Positive\n",
    "    '''\n",
    "    # get the predicted values\n",
    "    evaluation = (predicted + 1)**2 - actual\n",
    "    return evaluation"
   ]
  },
  {
   "cell_type": "code",
   "execution_count": 121,
   "metadata": {},
   "outputs": [
    {
     "ename": "NameError",
     "evalue": "name 'sample_df' is not defined",
     "output_type": "error",
     "traceback": [
      "\u001b[1;31m---------------------------------------------------------------------------\u001b[0m",
      "\u001b[1;31mNameError\u001b[0m                                 Traceback (most recent call last)",
      "\u001b[1;32m<ipython-input-121-4933aef56241>\u001b[0m in \u001b[0;36m<module>\u001b[1;34m\u001b[0m\n\u001b[0;32m      1\u001b[0m \u001b[1;31m# predict the values for each row, make sure to reshape since predict accepts a 2d vector\u001b[0m\u001b[1;33m\u001b[0m\u001b[1;33m\u001b[0m\u001b[1;33m\u001b[0m\u001b[0m\n\u001b[0;32m      2\u001b[0m \u001b[1;31m# use [0] to return the first value since predict returns an array, and we are only predicting one row at a time\u001b[0m\u001b[1;33m\u001b[0m\u001b[1;33m\u001b[0m\u001b[1;33m\u001b[0m\u001b[0m\n\u001b[1;32m----> 3\u001b[1;33m \u001b[0msample_df\u001b[0m\u001b[1;33m[\u001b[0m\u001b[1;34m'predicted'\u001b[0m\u001b[1;33m]\u001b[0m\u001b[1;33m=\u001b[0m\u001b[0msample_df\u001b[0m\u001b[1;33m[\u001b[0m\u001b[1;34m'pca_array'\u001b[0m\u001b[1;33m]\u001b[0m\u001b[1;33m.\u001b[0m\u001b[0mprogress_apply\u001b[0m\u001b[1;33m(\u001b[0m\u001b[1;32mlambda\u001b[0m \u001b[0mx\u001b[0m\u001b[1;33m:\u001b[0m \u001b[0msvc_rbf\u001b[0m\u001b[1;33m.\u001b[0m\u001b[0mpredict\u001b[0m\u001b[1;33m(\u001b[0m\u001b[0mx\u001b[0m\u001b[1;33m.\u001b[0m\u001b[0mreshape\u001b[0m\u001b[1;33m(\u001b[0m\u001b[1;36m1\u001b[0m\u001b[1;33m,\u001b[0m\u001b[1;36m150\u001b[0m\u001b[1;33m)\u001b[0m\u001b[1;33m)\u001b[0m\u001b[1;33m[\u001b[0m\u001b[1;36m0\u001b[0m\u001b[1;33m]\u001b[0m\u001b[1;33m)\u001b[0m\u001b[1;33m\u001b[0m\u001b[1;33m\u001b[0m\u001b[0m\n\u001b[0m",
      "\u001b[1;31mNameError\u001b[0m: name 'sample_df' is not defined"
     ]
    }
   ],
   "source": [
    "# predict the values for each row, make sure to reshape since predict accepts a 2d vector \n",
    "# use [0] to return the first value since predict returns an array, and we are only predicting one row at a time\n",
    "sample_df['predicted']=sample_df['pca_array'].progress_apply(lambda x: svc_rbf.predict(x.reshape(1,150))[0])"
   ]
  },
  {
   "cell_type": "code",
   "execution_count": 122,
   "metadata": {},
   "outputs": [
    {
     "ename": "NameError",
     "evalue": "name 'sample_df' is not defined",
     "output_type": "error",
     "traceback": [
      "\u001b[1;31m---------------------------------------------------------------------------\u001b[0m",
      "\u001b[1;31mNameError\u001b[0m                                 Traceback (most recent call last)",
      "\u001b[1;32m<ipython-input-122-62b6ca0d733c>\u001b[0m in \u001b[0;36m<module>\u001b[1;34m\u001b[0m\n\u001b[0;32m      1\u001b[0m \u001b[1;31m# get the confusion vector values for each row, so that we can distinguish what type of error we got for each patch prediction\u001b[0m\u001b[1;33m\u001b[0m\u001b[1;33m\u001b[0m\u001b[1;33m\u001b[0m\u001b[0m\n\u001b[1;32m----> 2\u001b[1;33m \u001b[0msample_df\u001b[0m\u001b[1;33m[\u001b[0m\u001b[1;34m'conf'\u001b[0m\u001b[1;33m]\u001b[0m\u001b[1;33m=\u001b[0m\u001b[0msample_df\u001b[0m\u001b[1;33m.\u001b[0m\u001b[0mprogress_apply\u001b[0m\u001b[1;33m(\u001b[0m\u001b[1;32mlambda\u001b[0m \u001b[0mx\u001b[0m\u001b[1;33m:\u001b[0m \u001b[0mconfusion_vectors\u001b[0m\u001b[1;33m(\u001b[0m\u001b[0mpredicted\u001b[0m\u001b[1;33m=\u001b[0m\u001b[0mx\u001b[0m\u001b[1;33m[\u001b[0m\u001b[1;34m'predicted'\u001b[0m\u001b[1;33m]\u001b[0m\u001b[1;33m,\u001b[0m\u001b[0mactual\u001b[0m\u001b[1;33m=\u001b[0m\u001b[0mx\u001b[0m\u001b[1;33m[\u001b[0m\u001b[1;34m'target'\u001b[0m\u001b[1;33m]\u001b[0m\u001b[1;33m)\u001b[0m\u001b[1;33m,\u001b[0m\u001b[0maxis\u001b[0m\u001b[1;33m=\u001b[0m\u001b[1;36m1\u001b[0m\u001b[1;33m)\u001b[0m\u001b[1;33m\u001b[0m\u001b[1;33m\u001b[0m\u001b[0m\n\u001b[0m",
      "\u001b[1;31mNameError\u001b[0m: name 'sample_df' is not defined"
     ]
    }
   ],
   "source": [
    "# get the confusion vector values for each row, so that we can distinguish what type of error we got for each patch prediction\n",
    "sample_df['conf']=sample_df.progress_apply(lambda x: confusion_vectors(predicted=x['predicted'],actual=x['target']),axis=1)"
   ]
  },
  {
   "cell_type": "code",
   "execution_count": 123,
   "metadata": {},
   "outputs": [],
   "source": [
    "def get_tissue_image_array_conf(patient_id,path_df):\n",
    "    # get patient dataframe\n",
    "    p_df = get_patient_df(patient_id,df=path_df)\n",
    "    # get the max_coordinate to define the numpy array size, numpy array will be containing the rgb values for the image\n",
    "    max_coord = np.max((*p_df['x_coord'],*p_df['y_coord']))\n",
    "    # add 50 to the max_coord to get the final image dimension,50 here is the patch size\n",
    "    image_dimension = max_coord + 50\n",
    "    # create a 3 dimensional array with RGB values = 255, we set the type as uint since no RGB value can be > 255, thus increasing efficiency\n",
    "    grid = 255*np.ones(shape = (image_dimension,image_dimension,3)).astype('uint8')\n",
    "    # initialize empty array for for the mask\n",
    "    mask = 255*np.ones(shape = (image_dimension,image_dimension,3)).astype('uint8')\n",
    "    # create a dict containing the values to be filled in for each corresponding case\n",
    "    # 0 is false negative, 3 is true positive, 4 is false positive\n",
    "    mask_color = {0:[255,0,0],3:[0,0,255],4:[0,255,0]}\n",
    "\n",
    "    for x,y,conf,path in p_df[['x_coord','y_coord','conf','path']].values:\n",
    "        img_array = io.imread(path)\n",
    "        # some patches have dimension less than 50 x 50 which would cause the code to break\n",
    "        try:\n",
    "            # replace values in grid array by the image array values\n",
    "            grid[y:y+50,x:x+50] = img_array \n",
    "            # check if conf is not a true negative\n",
    "            if conf != 1:\n",
    "                mask[y:y+50,x:x+50] = mask_color[conf]\n",
    "        except: pass\n",
    "\n",
    "    alpha = 0.8\n",
    "    # This is step is very important, multiplying the 2 values by a float value converts the arrays to float64, which is why convert them back to uint8\n",
    "    img  = (mask * (1.0 - alpha) + grid * alpha).astype('uint8')\n",
    "    \n",
    "    return img"
   ]
  },
  {
   "cell_type": "code",
   "execution_count": 124,
   "metadata": {},
   "outputs": [
    {
     "ename": "NameError",
     "evalue": "name 'df' is not defined",
     "output_type": "error",
     "traceback": [
      "\u001b[1;31m---------------------------------------------------------------------------\u001b[0m",
      "\u001b[1;31mNameError\u001b[0m                                 Traceback (most recent call last)",
      "\u001b[1;32m<ipython-input-124-adaa08b72b96>\u001b[0m in \u001b[0;36m<module>\u001b[1;34m\u001b[0m\n\u001b[1;32m----> 1\u001b[1;33m \u001b[1;32mdef\u001b[0m \u001b[0mplot_tissue_images_conf\u001b[0m\u001b[1;33m(\u001b[0m\u001b[0mnrows\u001b[0m\u001b[1;33m=\u001b[0m\u001b[1;36m3\u001b[0m\u001b[1;33m,\u001b[0m\u001b[0mncols\u001b[0m\u001b[1;33m=\u001b[0m\u001b[1;36m3\u001b[0m\u001b[1;33m,\u001b[0m\u001b[0mdf\u001b[0m\u001b[1;33m=\u001b[0m\u001b[0mdf\u001b[0m\u001b[1;33m)\u001b[0m\u001b[1;33m:\u001b[0m\u001b[1;33m\u001b[0m\u001b[1;33m\u001b[0m\u001b[0m\n\u001b[0m\u001b[0;32m      2\u001b[0m     \u001b[0mn_imgs\u001b[0m \u001b[1;33m=\u001b[0m \u001b[0mnrows\u001b[0m\u001b[1;33m*\u001b[0m\u001b[0mncols\u001b[0m\u001b[1;33m\u001b[0m\u001b[1;33m\u001b[0m\u001b[0m\n\u001b[0;32m      3\u001b[0m     \u001b[0mp_ids\u001b[0m \u001b[1;33m=\u001b[0m \u001b[0mnp\u001b[0m\u001b[1;33m.\u001b[0m\u001b[0mrandom\u001b[0m\u001b[1;33m.\u001b[0m\u001b[0mchoice\u001b[0m\u001b[1;33m(\u001b[0m\u001b[0mdf\u001b[0m\u001b[1;33m[\u001b[0m\u001b[1;34m'patient_id'\u001b[0m\u001b[1;33m]\u001b[0m\u001b[1;33m.\u001b[0m\u001b[0munique\u001b[0m\u001b[1;33m(\u001b[0m\u001b[1;33m)\u001b[0m\u001b[1;33m,\u001b[0m \u001b[0msize\u001b[0m\u001b[1;33m=\u001b[0m\u001b[0mn_imgs\u001b[0m\u001b[1;33m,\u001b[0m \u001b[0mreplace\u001b[0m\u001b[1;33m=\u001b[0m\u001b[1;32mFalse\u001b[0m\u001b[1;33m)\u001b[0m\u001b[1;33m\u001b[0m\u001b[1;33m\u001b[0m\u001b[0m\n\u001b[0;32m      4\u001b[0m \u001b[1;33m\u001b[0m\u001b[0m\n\u001b[0;32m      5\u001b[0m     \u001b[0mfig\u001b[0m\u001b[1;33m,\u001b[0m\u001b[0maxs\u001b[0m \u001b[1;33m=\u001b[0m \u001b[0mplt\u001b[0m\u001b[1;33m.\u001b[0m\u001b[0msubplots\u001b[0m\u001b[1;33m(\u001b[0m\u001b[0mnrows\u001b[0m\u001b[1;33m=\u001b[0m\u001b[0mnrows\u001b[0m\u001b[1;33m,\u001b[0m\u001b[0mncols\u001b[0m\u001b[1;33m=\u001b[0m\u001b[0mncols\u001b[0m\u001b[1;33m,\u001b[0m\u001b[0mfigsize\u001b[0m\u001b[1;33m=\u001b[0m\u001b[1;33m(\u001b[0m\u001b[1;36m30\u001b[0m\u001b[1;33m,\u001b[0m\u001b[1;36m30\u001b[0m\u001b[1;33m)\u001b[0m\u001b[1;33m)\u001b[0m\u001b[1;33m\u001b[0m\u001b[1;33m\u001b[0m\u001b[0m\n",
      "\u001b[1;31mNameError\u001b[0m: name 'df' is not defined"
     ]
    }
   ],
   "source": [
    "def plot_tissue_images_conf(nrows=3,ncols=3,df=df):\n",
    "    n_imgs = nrows*ncols\n",
    "    p_ids = np.random.choice(df['patient_id'].unique(), size=n_imgs, replace=False)\n",
    "    \n",
    "    fig,axs = plt.subplots(nrows=nrows,ncols=ncols,figsize=(30,30))\n",
    "    for i,row in enumerate(axs):\n",
    "        for j,ax in enumerate(row):\n",
    "            p_id = p_ids[i*nrows+j]\n",
    "            img = get_tissue_image_array_conf(p_id,path_df=df)\n",
    "            ax.set_title(f'Breast Tissue Slice for patient {p_id}')\n",
    "            ax.set_xticks([])\n",
    "            ax.set_yticks([])\n",
    "            ax.imshow(img)"
   ]
  },
  {
   "cell_type": "code",
   "execution_count": 125,
   "metadata": {},
   "outputs": [
    {
     "ename": "NameError",
     "evalue": "name 'plot_tissue_images_conf' is not defined",
     "output_type": "error",
     "traceback": [
      "\u001b[1;31m---------------------------------------------------------------------------\u001b[0m",
      "\u001b[1;31mNameError\u001b[0m                                 Traceback (most recent call last)",
      "\u001b[1;32m<ipython-input-125-5912162c4a1c>\u001b[0m in \u001b[0;36m<module>\u001b[1;34m\u001b[0m\n\u001b[1;32m----> 1\u001b[1;33m \u001b[0mplot_tissue_images_conf\u001b[0m\u001b[1;33m(\u001b[0m\u001b[0mdf\u001b[0m\u001b[1;33m=\u001b[0m\u001b[0msample_df\u001b[0m\u001b[1;33m)\u001b[0m\u001b[1;33m\u001b[0m\u001b[1;33m\u001b[0m\u001b[0m\n\u001b[0m",
      "\u001b[1;31mNameError\u001b[0m: name 'plot_tissue_images_conf' is not defined"
     ]
    }
   ],
   "source": [
    "plot_tissue_images_conf(df=sample_df)\n"
   ]
  },
  {
   "cell_type": "code",
   "execution_count": null,
   "metadata": {},
   "outputs": [],
   "source": []
  }
 ],
 "metadata": {
  "kernelspec": {
   "display_name": "Python 3",
   "language": "python",
   "name": "python3"
  },
  "language_info": {
   "codemirror_mode": {
    "name": "ipython",
    "version": 3
   },
   "file_extension": ".py",
   "mimetype": "text/x-python",
   "name": "python",
   "nbconvert_exporter": "python",
   "pygments_lexer": "ipython3",
   "version": "3.7.3"
  }
 },
 "nbformat": 4,
 "nbformat_minor": 2
}
